{
 "cells": [
  {
   "cell_type": "markdown",
   "metadata": {
    "id": "8QneX6QTXRju"
   },
   "source": [
    "This notebook is based on the work of [Lambard and Gracheva](https://iopscience.iop.org/article/10.1088/2632-2153/ab57f3). It was slightly modified to run on Google Colab."
   ]
  },
  {
   "cell_type": "markdown",
   "metadata": {
    "id": "XNS3lg_r61uX"
   },
   "source": [
    "The first step is to activate a GPU:\n",
    "\n",
    "goto Runtime tab, click on Change Runtime Type, select GPU from the list\n"
   ]
  },
  {
   "cell_type": "code",
   "execution_count": 2,
   "metadata": {
    "colab": {
     "base_uri": "https://localhost:8080/"
    },
    "executionInfo": {
     "elapsed": 1052,
     "status": "ok",
     "timestamp": 1606434889664,
     "user": {
      "displayName": "Bogdan Tarus",
      "photoUrl": "",
      "userId": "02702741184233366030"
     },
     "user_tz": -60
    },
    "id": "W3657h3Nxzgm",
    "outputId": "c59a1005-5b6a-4935-baa6-02df4442bfc7"
   },
   "outputs": [
    {
     "name": "stdout",
     "output_type": "stream",
     "text": [
      "Drive already mounted at /content/gdrive; to attempt to forcibly remount, call drive.mount(\"/content/gdrive\", force_remount=True).\n"
     ]
    }
   ],
   "source": [
    "# mount the drive folder into the current Runtime\n",
    "from google.colab import drive\n",
    "drive.mount('/content/gdrive')"
   ]
  },
  {
   "cell_type": "code",
   "execution_count": 3,
   "metadata": {
    "colab": {
     "base_uri": "https://localhost:8080/"
    },
    "executionInfo": {
     "elapsed": 1513,
     "status": "ok",
     "timestamp": 1606434890135,
     "user": {
      "displayName": "Bogdan Tarus",
      "photoUrl": "",
      "userId": "02702741184233366030"
     },
     "user_tz": -60
    },
    "id": "JfOtkCe1y10v",
    "outputId": "3dba4bed-c59c-4c40-b0c3-2dfbef90cea2"
   },
   "outputs": [
    {
     "name": "stdout",
     "output_type": "stream",
     "text": [
      "total 24\n",
      "drwx------ 2 root root 4096 Oct  7 09:24 'Colab Notebooks'\n",
      "drwx------ 2 root root 4096 Oct  8 08:48  dsti_dl\n",
      "drwx------ 2 root root 4096 Nov 24 23:16  smilesx_6\n",
      "drwx------ 2 root root 4096 Nov 26 19:59  smilesx_7\n",
      "drwx------ 2 root root 4096 Nov 26 23:50  smilesx_8_original_datasets\n",
      "drwx------ 2 root root 4096 Nov 20 22:21  smilesx_original_github\n"
     ]
    }
   ],
   "source": [
    "# check the contents of the drive folder\n",
    "!ls -l gdrive/MyDrive"
   ]
  },
  {
   "cell_type": "code",
   "execution_count": 4,
   "metadata": {
    "colab": {
     "base_uri": "https://localhost:8080/"
    },
    "executionInfo": {
     "elapsed": 1507,
     "status": "ok",
     "timestamp": 1606434890138,
     "user": {
      "displayName": "Bogdan Tarus",
      "photoUrl": "",
      "userId": "02702741184233366030"
     },
     "user_tz": -60
    },
    "id": "MtrLPq-k5sgI",
    "outputId": "f910d706-4fe2-4483-e0a1-5a7f1f8ed8c1"
   },
   "outputs": [
    {
     "name": "stdout",
     "output_type": "stream",
     "text": [
      "total 695\n",
      "drwx------ 2 root root   4096 Nov 26 21:18 input_dataset\n",
      "drwx------ 2 root root   4096 Dec 12  2019 SMILESX\n",
      "-rw------- 1 root root 138311 Nov 26 23:08 SMILESX_Prediction.ipynb\n",
      "-rw------- 1 root root 564605 Nov 26 22:54 SMILESX_Visualization.ipynb\n"
     ]
    }
   ],
   "source": [
    "# set the working directory\n",
    "workPATH = \"gdrive/MyDrive/\"\n",
    "##############################\n",
    "###### CHANGE HERE ###########\n",
    "workDIR  = \"smilesx_7\"\n",
    "##############################\n",
    "dirpath  = workPATH + workDIR\n",
    "!ls -l $dirpath"
   ]
  },
  {
   "cell_type": "code",
   "execution_count": 5,
   "metadata": {
    "executionInfo": {
     "elapsed": 6731,
     "status": "ok",
     "timestamp": 1606434895366,
     "user": {
      "displayName": "Bogdan Tarus",
      "photoUrl": "",
      "userId": "02702741184233366030"
     },
     "user_tz": -60
    },
    "id": "5G-0hnrh5_9c"
   },
   "outputs": [],
   "source": [
    "# copy the necessary python scripts into the working directory\n",
    "tmppath = dirpath + \"/SMILESX\"\n",
    "!cp -r $tmppath .\n",
    "\n",
    "# copy the datasets into the working directory\n",
    "tmppath = dirpath + \"/input_dataset\"\n",
    "!cp -r $tmppath ."
   ]
  },
  {
   "cell_type": "code",
   "execution_count": 6,
   "metadata": {
    "colab": {
     "base_uri": "https://localhost:8080/"
    },
    "executionInfo": {
     "elapsed": 6727,
     "status": "ok",
     "timestamp": 1606434895368,
     "user": {
      "displayName": "Bogdan Tarus",
      "photoUrl": "",
      "userId": "02702741184233366030"
     },
     "user_tz": -60
    },
    "id": "eMBSkfXmx05D",
    "outputId": "5f84992c-fad9-42b0-869d-e5666a1c5e7a"
   },
   "outputs": [
    {
     "name": "stdout",
     "output_type": "stream",
     "text": [
      "total 695\n",
      "drwx------ 2 root root   4096 Nov 26 21:18 input_dataset\n",
      "drwx------ 2 root root   4096 Dec 12  2019 SMILESX\n",
      "-rw------- 1 root root 138311 Nov 26 23:08 SMILESX_Prediction.ipynb\n",
      "-rw------- 1 root root 564605 Nov 26 22:54 SMILESX_Visualization.ipynb\n"
     ]
    }
   ],
   "source": [
    "# check the content of the working directory\n",
    "!ls -l $dirpath"
   ]
  },
  {
   "cell_type": "code",
   "execution_count": 7,
   "metadata": {
    "colab": {
     "base_uri": "https://localhost:8080/"
    },
    "executionInfo": {
     "elapsed": 6721,
     "status": "ok",
     "timestamp": 1606434895369,
     "user": {
      "displayName": "Bogdan Tarus",
      "photoUrl": "",
      "userId": "02702741184233366030"
     },
     "user_tz": -60
    },
    "id": "l2ND2tDxq4GA",
    "outputId": "f4d7bf71-6cc1-4c5c-cba0-00c7ac879e2d"
   },
   "outputs": [
    {
     "name": "stdout",
     "output_type": "stream",
     "text": [
      "total 95\n",
      "-rw------- 1 root root 58889 Nov 24 19:43 delaney.csv\n",
      "-rw------- 1 root root 37085 Nov 26 18:38 solubility_total.csv\n",
      "-rw------- 1 root root    26 Dec 12  2019 validation_data.md\n"
     ]
    }
   ],
   "source": [
    "# check whether the datasets are in place\n",
    "!ls -l $dirpath/input_dataset"
   ]
  },
  {
   "cell_type": "markdown",
   "metadata": {
    "id": "CcJeaKj41vhd"
   },
   "source": [
    "Install dependencies"
   ]
  },
  {
   "cell_type": "code",
   "execution_count": 8,
   "metadata": {
    "colab": {
     "base_uri": "https://localhost:8080/"
    },
    "executionInfo": {
     "elapsed": 111770,
     "status": "ok",
     "timestamp": 1606435000425,
     "user": {
      "displayName": "Bogdan Tarus",
      "photoUrl": "",
      "userId": "02702741184233366030"
     },
     "user_tz": -60
    },
    "id": "zEQSecD01ntJ",
    "outputId": "83a2547f-23d5-4469-95ca-fea0cc5ed286"
   },
   "outputs": [
    {
     "name": "stdout",
     "output_type": "stream",
     "text": [
      "Collecting kora\n",
      "\u001b[?25l  Downloading https://files.pythonhosted.org/packages/55/e9/60b70219b513fce09cb839860689bc1421d31afe98da1517c81ff26fd741/kora-0.9.13-py3-none-any.whl (55kB)\n",
      "\u001b[K     |████████████████████████████████| 61kB 6.9MB/s \n",
      "\u001b[?25hCollecting fastcore\n",
      "\u001b[?25l  Downloading https://files.pythonhosted.org/packages/31/c9/00b5a6cb64008fc062acef6669fca51d3182357c533755fe93478fe47d53/fastcore-1.3.9-py3-none-any.whl (48kB)\n",
      "\u001b[K     |████████████████████████████████| 51kB 6.5MB/s \n",
      "\u001b[?25hRequirement already satisfied: ipython in /usr/local/lib/python3.6/dist-packages (from kora) (5.5.0)\n",
      "Requirement already satisfied: pip in /usr/local/lib/python3.6/dist-packages (from fastcore->kora) (19.3.1)\n",
      "Requirement already satisfied: packaging in /usr/local/lib/python3.6/dist-packages (from fastcore->kora) (20.4)\n",
      "Requirement already satisfied: setuptools>=18.5 in /usr/local/lib/python3.6/dist-packages (from ipython->kora) (50.3.2)\n",
      "Requirement already satisfied: traitlets>=4.2 in /usr/local/lib/python3.6/dist-packages (from ipython->kora) (4.3.3)\n",
      "Requirement already satisfied: decorator in /usr/local/lib/python3.6/dist-packages (from ipython->kora) (4.4.2)\n",
      "Requirement already satisfied: pygments in /usr/local/lib/python3.6/dist-packages (from ipython->kora) (2.6.1)\n",
      "Requirement already satisfied: pickleshare in /usr/local/lib/python3.6/dist-packages (from ipython->kora) (0.7.5)\n",
      "Requirement already satisfied: pexpect; sys_platform != \"win32\" in /usr/local/lib/python3.6/dist-packages (from ipython->kora) (4.8.0)\n",
      "Requirement already satisfied: simplegeneric>0.8 in /usr/local/lib/python3.6/dist-packages (from ipython->kora) (0.8.1)\n",
      "Requirement already satisfied: prompt-toolkit<2.0.0,>=1.0.4 in /usr/local/lib/python3.6/dist-packages (from ipython->kora) (1.0.18)\n",
      "Requirement already satisfied: six in /usr/local/lib/python3.6/dist-packages (from packaging->fastcore->kora) (1.15.0)\n",
      "Requirement already satisfied: pyparsing>=2.0.2 in /usr/local/lib/python3.6/dist-packages (from packaging->fastcore->kora) (2.4.7)\n",
      "Requirement already satisfied: ipython-genutils in /usr/local/lib/python3.6/dist-packages (from traitlets>=4.2->ipython->kora) (0.2.0)\n",
      "Requirement already satisfied: ptyprocess>=0.5 in /usr/local/lib/python3.6/dist-packages (from pexpect; sys_platform != \"win32\"->ipython->kora) (0.6.0)\n",
      "Requirement already satisfied: wcwidth in /usr/local/lib/python3.6/dist-packages (from prompt-toolkit<2.0.0,>=1.0.4->ipython->kora) (0.2.5)\n",
      "Installing collected packages: fastcore, kora\n",
      "Successfully installed fastcore-1.3.9 kora-0.9.13\n",
      "Collecting adjustText\n",
      "  Downloading https://files.pythonhosted.org/packages/9e/15/4157718bf323fd5f5b81c891c660d0f388e042d2689a558bf1389632dc44/adjustText-0.7.3.tar.gz\n",
      "Requirement already satisfied: numpy in /usr/local/lib/python3.6/dist-packages (from adjustText) (1.18.5)\n",
      "Requirement already satisfied: matplotlib in /usr/local/lib/python3.6/dist-packages (from adjustText) (3.2.2)\n",
      "Requirement already satisfied: python-dateutil>=2.1 in /usr/local/lib/python3.6/dist-packages (from matplotlib->adjustText) (2.8.1)\n",
      "Requirement already satisfied: kiwisolver>=1.0.1 in /usr/local/lib/python3.6/dist-packages (from matplotlib->adjustText) (1.3.1)\n",
      "Requirement already satisfied: cycler>=0.10 in /usr/local/lib/python3.6/dist-packages (from matplotlib->adjustText) (0.10.0)\n",
      "Requirement already satisfied: pyparsing!=2.0.4,!=2.1.2,!=2.1.6,>=2.0.1 in /usr/local/lib/python3.6/dist-packages (from matplotlib->adjustText) (2.4.7)\n",
      "Requirement already satisfied: six>=1.5 in /usr/local/lib/python3.6/dist-packages (from python-dateutil>=2.1->matplotlib->adjustText) (1.15.0)\n",
      "Building wheels for collected packages: adjustText\n",
      "  Building wheel for adjustText (setup.py) ... \u001b[?25l\u001b[?25hdone\n",
      "  Created wheel for adjustText: filename=adjustText-0.7.3-cp36-none-any.whl size=7099 sha256=94f5817394133191b80f66be3b3b88dd7fd135d2d2b5ac33293c6e32115b263c\n",
      "  Stored in directory: /root/.cache/pip/wheels/41/95/74/7d347e136d672f8bc28e937032bc92baf4f80856763a7e7b72\n",
      "Successfully built adjustText\n",
      "Installing collected packages: adjustText\n",
      "Successfully installed adjustText-0.7.3\n",
      "--2020-11-26 23:55:03--  https://raw.githubusercontent.com/krasserm/bayesian-machine-learning/master/bayesian_optimization_util.py\n",
      "Resolving raw.githubusercontent.com (raw.githubusercontent.com)... 151.101.0.133, 151.101.64.133, 151.101.128.133, ...\n",
      "Connecting to raw.githubusercontent.com (raw.githubusercontent.com)|151.101.0.133|:443... connected.\n",
      "HTTP request sent, awaiting response... 200 OK\n",
      "Length: 1536 (1.5K) [text/plain]\n",
      "Saving to: ‘bayesian_optimization_util.py’\n",
      "\n",
      "bayesian_optimizati 100%[===================>]   1.50K  --.-KB/s    in 0s      \n",
      "\n",
      "2020-11-26 23:55:03 (18.0 MB/s) - ‘bayesian_optimization_util.py’ saved [1536/1536]\n",
      "\n",
      "Collecting scikit-optimize==0.5.2\n",
      "\u001b[?25l  Downloading https://files.pythonhosted.org/packages/f4/44/60f82c97d1caa98752c7da2c1681cab5c7a390a0fdd3a55fac672b321cac/scikit_optimize-0.5.2-py2.py3-none-any.whl (74kB)\n",
      "\u001b[K     |████████████████████████████████| 81kB 7.3MB/s \n",
      "\u001b[?25hRequirement already satisfied: numpy in /usr/local/lib/python3.6/dist-packages (from scikit-optimize==0.5.2) (1.18.5)\n",
      "Requirement already satisfied: scipy>=0.14.0 in /usr/local/lib/python3.6/dist-packages (from scikit-optimize==0.5.2) (1.4.1)\n",
      "Requirement already satisfied: scikit-learn>=0.19.1 in /usr/local/lib/python3.6/dist-packages (from scikit-optimize==0.5.2) (0.22.2.post1)\n",
      "Requirement already satisfied: joblib>=0.11 in /usr/local/lib/python3.6/dist-packages (from scikit-learn>=0.19.1->scikit-optimize==0.5.2) (0.17.0)\n",
      "Installing collected packages: scikit-optimize\n",
      "Successfully installed scikit-optimize-0.5.2\n",
      "Collecting GPy==1.9.8\n",
      "\u001b[?25l  Downloading https://files.pythonhosted.org/packages/5c/a1/4418ee1db50c6e917e399db841c30b95d3c242555272e85473404ab06377/GPy-1.9.8.tar.gz (989kB)\n",
      "\u001b[K     |████████████████████████████████| 993kB 13.9MB/s \n",
      "\u001b[?25hRequirement already satisfied: numpy>=1.7 in /usr/local/lib/python3.6/dist-packages (from GPy==1.9.8) (1.18.5)\n",
      "Requirement already satisfied: scipy>=0.16 in /usr/local/lib/python3.6/dist-packages (from GPy==1.9.8) (1.4.1)\n",
      "Requirement already satisfied: six in /usr/local/lib/python3.6/dist-packages (from GPy==1.9.8) (1.15.0)\n",
      "Collecting paramz>=0.9.0\n",
      "\u001b[?25l  Downloading https://files.pythonhosted.org/packages/d8/37/4abbeb78d30f20d3402887f46e6e9f3ef32034a9dea65d243654c82c8553/paramz-0.9.5.tar.gz (71kB)\n",
      "\u001b[K     |████████████████████████████████| 71kB 9.3MB/s \n",
      "\u001b[?25hRequirement already satisfied: decorator>=4.0.10 in /usr/local/lib/python3.6/dist-packages (from paramz>=0.9.0->GPy==1.9.8) (4.4.2)\n",
      "Building wheels for collected packages: GPy, paramz\n",
      "  Building wheel for GPy (setup.py) ... \u001b[?25l\u001b[?25hdone\n",
      "  Created wheel for GPy: filename=GPy-1.9.8-cp36-cp36m-linux_x86_64.whl size=2626078 sha256=35cd25ec410ae5028ec5a8d2668c91d0f988e0992b3b0be65528f770a95b09b4\n",
      "  Stored in directory: /root/.cache/pip/wheels/96/ee/cd/1c4dd7df63246b1e8de58af6d4457b7aed13509fdc0c918a13\n",
      "  Building wheel for paramz (setup.py) ... \u001b[?25l\u001b[?25hdone\n",
      "  Created wheel for paramz: filename=paramz-0.9.5-cp36-none-any.whl size=102551 sha256=df91a8b5806f91b9e374b3a9734be8ecdaf887103060a27ce27ef6be98ffd9a8\n",
      "  Stored in directory: /root/.cache/pip/wheels/c8/4a/0e/6e0dc85541825f991c431619e25b870d4b812c911214690cf8\n",
      "Successfully built GPy paramz\n",
      "Installing collected packages: paramz, GPy\n",
      "Successfully installed GPy-1.9.8 paramz-0.9.5\n",
      "Collecting GPyOpt==1.2.1\n",
      "\u001b[?25l  Downloading https://files.pythonhosted.org/packages/ef/a7/55a77308ce5384f9c0a3dc5eb8b7e26b345219dc4f4831b1bd8688949527/GPyOpt-1.2.1.tar.gz (46kB)\n",
      "\u001b[K     |████████████████████████████████| 51kB 5.7MB/s \n",
      "\u001b[?25hRequirement already satisfied: numpy>=1.7 in /usr/local/lib/python3.6/dist-packages (from GPyOpt==1.2.1) (1.18.5)\n",
      "Requirement already satisfied: scipy>=0.16 in /usr/local/lib/python3.6/dist-packages (from GPyOpt==1.2.1) (1.4.1)\n",
      "Requirement already satisfied: GPy>=1.8 in /usr/local/lib/python3.6/dist-packages (from GPyOpt==1.2.1) (1.9.8)\n",
      "Requirement already satisfied: paramz>=0.9.0 in /usr/local/lib/python3.6/dist-packages (from GPy>=1.8->GPyOpt==1.2.1) (0.9.5)\n",
      "Requirement already satisfied: six in /usr/local/lib/python3.6/dist-packages (from GPy>=1.8->GPyOpt==1.2.1) (1.15.0)\n",
      "Requirement already satisfied: decorator>=4.0.10 in /usr/local/lib/python3.6/dist-packages (from paramz>=0.9.0->GPy>=1.8->GPyOpt==1.2.1) (4.4.2)\n",
      "Building wheels for collected packages: GPyOpt\n",
      "  Building wheel for GPyOpt (setup.py) ... \u001b[?25l\u001b[?25hdone\n",
      "  Created wheel for GPyOpt: filename=GPyOpt-1.2.1-cp36-none-any.whl size=73674 sha256=0f27716677ff592c726b89f00ca18521d55763113925d206372ed44e093dec1e\n",
      "  Stored in directory: /root/.cache/pip/wheels/30/a2/96/0a5ca8a8de654d567bff2ad6fcb5e8bcdaf15e2366385510cd\n",
      "Successfully built GPyOpt\n",
      "Installing collected packages: GPyOpt\n",
      "Successfully installed GPyOpt-1.2.1\n",
      "Requirement already satisfied: xgboost==0.90 in /usr/local/lib/python3.6/dist-packages (0.90)\n",
      "Requirement already satisfied: numpy in /usr/local/lib/python3.6/dist-packages (from xgboost==0.90) (1.18.5)\n",
      "Requirement already satisfied: scipy in /usr/local/lib/python3.6/dist-packages (from xgboost==0.90) (1.4.1)\n",
      "TensorFlow 1.x selected.\n",
      "Collecting tensorflow-gpu==1.15.0\n",
      "\u001b[?25l  Downloading https://files.pythonhosted.org/packages/a5/ad/933140e74973fb917a194ab814785e7c23680ca5dee6d663a509fe9579b6/tensorflow_gpu-1.15.0-cp36-cp36m-manylinux2010_x86_64.whl (411.5MB)\n",
      "\u001b[K     |████████████████████████████████| 411.5MB 39kB/s \n",
      "\u001b[?25hRequirement already satisfied: grpcio>=1.8.6 in /usr/local/lib/python3.6/dist-packages (from tensorflow-gpu==1.15.0) (1.33.2)\n",
      "Collecting gast==0.2.2\n",
      "  Downloading https://files.pythonhosted.org/packages/4e/35/11749bf99b2d4e3cceb4d55ca22590b0d7c2c62b9de38ac4a4a7f4687421/gast-0.2.2.tar.gz\n",
      "Requirement already satisfied: wrapt>=1.11.1 in /usr/local/lib/python3.6/dist-packages (from tensorflow-gpu==1.15.0) (1.12.1)\n",
      "Requirement already satisfied: astor>=0.6.0 in /usr/local/lib/python3.6/dist-packages (from tensorflow-gpu==1.15.0) (0.8.1)\n",
      "Requirement already satisfied: protobuf>=3.6.1 in /usr/local/lib/python3.6/dist-packages (from tensorflow-gpu==1.15.0) (3.12.4)\n",
      "Requirement already satisfied: absl-py>=0.7.0 in /usr/local/lib/python3.6/dist-packages (from tensorflow-gpu==1.15.0) (0.10.0)\n",
      "Requirement already satisfied: opt-einsum>=2.3.2 in /usr/local/lib/python3.6/dist-packages (from tensorflow-gpu==1.15.0) (3.3.0)\n",
      "Requirement already satisfied: termcolor>=1.1.0 in /usr/local/lib/python3.6/dist-packages (from tensorflow-gpu==1.15.0) (1.1.0)\n",
      "Requirement already satisfied: keras-preprocessing>=1.0.5 in /usr/local/lib/python3.6/dist-packages (from tensorflow-gpu==1.15.0) (1.1.2)\n",
      "Requirement already satisfied: wheel>=0.26 in /usr/local/lib/python3.6/dist-packages (from tensorflow-gpu==1.15.0) (0.35.1)\n",
      "Requirement already satisfied: six>=1.10.0 in /usr/local/lib/python3.6/dist-packages (from tensorflow-gpu==1.15.0) (1.15.0)\n",
      "Requirement already satisfied: tensorboard<1.16.0,>=1.15.0 in /tensorflow-1.15.2/python3.6 (from tensorflow-gpu==1.15.0) (1.15.0)\n",
      "Requirement already satisfied: tensorflow-estimator==1.15.1 in /tensorflow-1.15.2/python3.6 (from tensorflow-gpu==1.15.0) (1.15.1)\n",
      "Requirement already satisfied: google-pasta>=0.1.6 in /usr/local/lib/python3.6/dist-packages (from tensorflow-gpu==1.15.0) (0.2.0)\n",
      "Requirement already satisfied: numpy<2.0,>=1.16.0 in /usr/local/lib/python3.6/dist-packages (from tensorflow-gpu==1.15.0) (1.18.5)\n",
      "Requirement already satisfied: keras-applications>=1.0.8 in /tensorflow-1.15.2/python3.6 (from tensorflow-gpu==1.15.0) (1.0.8)\n",
      "Requirement already satisfied: setuptools in /usr/local/lib/python3.6/dist-packages (from protobuf>=3.6.1->tensorflow-gpu==1.15.0) (50.3.2)\n",
      "Requirement already satisfied: markdown>=2.6.8 in /usr/local/lib/python3.6/dist-packages (from tensorboard<1.16.0,>=1.15.0->tensorflow-gpu==1.15.0) (3.3.3)\n",
      "Requirement already satisfied: werkzeug>=0.11.15 in /usr/local/lib/python3.6/dist-packages (from tensorboard<1.16.0,>=1.15.0->tensorflow-gpu==1.15.0) (1.0.1)\n",
      "Requirement already satisfied: h5py in /usr/local/lib/python3.6/dist-packages (from keras-applications>=1.0.8->tensorflow-gpu==1.15.0) (2.10.0)\n",
      "Requirement already satisfied: importlib-metadata; python_version < \"3.8\" in /usr/local/lib/python3.6/dist-packages (from markdown>=2.6.8->tensorboard<1.16.0,>=1.15.0->tensorflow-gpu==1.15.0) (2.0.0)\n",
      "Requirement already satisfied: zipp>=0.5 in /usr/local/lib/python3.6/dist-packages (from importlib-metadata; python_version < \"3.8\"->markdown>=2.6.8->tensorboard<1.16.0,>=1.15.0->tensorflow-gpu==1.15.0) (3.4.0)\n",
      "Building wheels for collected packages: gast\n",
      "  Building wheel for gast (setup.py) ... \u001b[?25l\u001b[?25hdone\n",
      "  Created wheel for gast: filename=gast-0.2.2-cp36-none-any.whl size=7542 sha256=0a66b6761e4b62749c8ed1165f3ea2026c062772487c481ae800e4d94fe570e7\n",
      "  Stored in directory: /root/.cache/pip/wheels/5c/2e/7e/a1d4d4fcebe6c381f378ce7743a3ced3699feb89bcfbdadadd\n",
      "Successfully built gast\n",
      "Installing collected packages: gast, tensorflow-gpu\n",
      "  Found existing installation: gast 0.3.3\n",
      "    Uninstalling gast-0.3.3:\n",
      "      Successfully uninstalled gast-0.3.3\n",
      "Successfully installed gast-0.2.2 tensorflow-gpu-1.15.0\n"
     ]
    }
   ],
   "source": [
    "# Install RDKit. \n",
    "!pip install kora\n",
    "\n",
    "# Install adjustText\n",
    "!pip install adjustText\n",
    "\n",
    "# install GPy and GPyOpt\n",
    "try:\n",
    "    # Check if notebook is running in Google Colab\n",
    "    import google.colab\n",
    "    # Get additional files from Github\n",
    "    !wget https://raw.githubusercontent.com/krasserm/bayesian-machine-learning/master/bayesian_optimization_util.py\n",
    "    # Install additional dependencies\n",
    "    !pip install scikit-optimize==0.5.2\n",
    "    !pip install GPy==1.9.8\n",
    "    !pip install GPyOpt==1.2.1\n",
    "    !pip install xgboost==0.90\n",
    "except:\n",
    "    pass\n",
    "\n",
    "# set the version of the Tensorflow to comply with the original SMILESX on github\n",
    "%tensorflow_version 1.x\n",
    "!pip install tensorflow-gpu==1.15.0 "
   ]
  },
  {
   "cell_type": "code",
   "execution_count": 9,
   "metadata": {
    "colab": {
     "base_uri": "https://localhost:8080/"
    },
    "executionInfo": {
     "elapsed": 119462,
     "status": "ok",
     "timestamp": 1606435008124,
     "user": {
      "displayName": "Bogdan Tarus",
      "photoUrl": "",
      "userId": "02702741184233366030"
     },
     "user_tz": -60
    },
    "id": "TVOlgLlyaMp7",
    "outputId": "88b35d49-1184-4fc6-ace1-f4431d708a0d"
   },
   "outputs": [
    {
     "name": "stdout",
     "output_type": "stream",
     "text": [
      "Default GPU Device: /device:GPU:0\n"
     ]
    },
    {
     "name": "stderr",
     "output_type": "stream",
     "text": [
      "Using TensorFlow backend.\n"
     ]
    },
    {
     "name": "stdout",
     "output_type": "stream",
     "text": [
      "WARNING:tensorflow:From /content/SMILESX/main.py:35: The name tf.ConfigProto is deprecated. Please use tf.compat.v1.ConfigProto instead.\n",
      "\n",
      "WARNING:tensorflow:From /content/SMILESX/main.py:38: The name tf.Session is deprecated. Please use tf.compat.v1.Session instead.\n",
      "\n",
      "Device mapping:\n",
      "/job:localhost/replica:0/task:0/device:XLA_CPU:0 -> device: XLA_CPU device\n",
      "/job:localhost/replica:0/task:0/device:XLA_GPU:0 -> device: XLA_GPU device\n",
      "/job:localhost/replica:0/task:0/device:GPU:0 -> device: 0, name: Tesla V100-SXM2-16GB, pci bus id: 0000:00:04.0, compute capability: 7.0\n",
      "\n",
      "Device mapping:\n",
      "/job:localhost/replica:0/task:0/device:XLA_CPU:0 -> device: XLA_CPU device\n",
      "/job:localhost/replica:0/task:0/device:XLA_GPU:0 -> device: XLA_GPU device\n",
      "/job:localhost/replica:0/task:0/device:GPU:0 -> device: 0, name: Tesla V100-SXM2-16GB, pci bus id: 0000:00:04.0, compute capability: 7.0\n",
      "\n"
     ]
    }
   ],
   "source": [
    "# import the necessary libraries\n",
    "\n",
    "import kora.install.rdkit\n",
    "\n",
    "from rdkit import Chem\n",
    "from rdkit.Chem import Draw\n",
    "from rdkit.Chem.Draw import IPythonConsole\n",
    "from rdkit.Chem import Descriptors\n",
    "from rdkit.Chem import AllChem\n",
    "from rdkit import DataStructs\n",
    "\n",
    "import numpy as np\n",
    "\n",
    "import adjustText\n",
    "\n",
    "import GPy\n",
    "import GPyOpt\n",
    "\n",
    "import tensorflow as tf\n",
    "if tf.test.gpu_device_name():\n",
    "    print('Default GPU Device: {}'.format(tf.test.gpu_device_name()))\n",
    "else:\n",
    "    print(\"Please install GPU version of TF\")\n",
    "\n",
    "import pandas as pd\n",
    "\n",
    "from SMILESX import main, inference\n",
    "%matplotlib inline"
   ]
  },
  {
   "cell_type": "markdown",
   "metadata": {
    "id": "T4K5jxpr2HV5"
   },
   "source": [
    "It is a good idea to ckeck whether rdkit library was instaled and work properly:"
   ]
  },
  {
   "cell_type": "code",
   "execution_count": 10,
   "metadata": {
    "colab": {
     "base_uri": "https://localhost:8080/",
     "height": 167
    },
    "executionInfo": {
     "elapsed": 119458,
     "status": "ok",
     "timestamp": 1606435008128,
     "user": {
      "displayName": "Bogdan Tarus",
      "photoUrl": "",
      "userId": "02702741184233366030"
     },
     "user_tz": -60
    },
    "id": "LLWWWOmk1nyu",
    "outputId": "580c8a32-8e7d-4a04-a76d-60593e60d210"
   },
   "outputs": [
    {
     "data": {
      "image/png": "[encoded data removed]",
      "text/plain": [
       "<rdkit.Chem.rdchem.Mol at 0x7f4acdca04e0>"
      ]
     },
     "execution_count": 10,
     "metadata": {
      "tags": []
     },
     "output_type": "execute_result"
    }
   ],
   "source": [
    "smiles_test = 'c1ccccc1' # benzene molecule\n",
    "Chem.MolFromSmiles(smiles_test)"
   ]
  },
  {
   "cell_type": "code",
   "execution_count": 11,
   "metadata": {
    "colab": {
     "base_uri": "https://localhost:8080/"
    },
    "executionInfo": {
     "elapsed": 119453,
     "status": "ok",
     "timestamp": 1606435008129,
     "user": {
      "displayName": "Bogdan Tarus",
      "photoUrl": "",
      "userId": "02702741184233366030"
     },
     "user_tz": -60
    },
    "id": "coZPYCjvf4oH",
    "outputId": "282526d3-4c26-41cb-8bcd-013504907f49"
   },
   "outputs": [
    {
     "data": {
      "text/plain": [
       "6"
      ]
     },
     "execution_count": 11,
     "metadata": {
      "tags": []
     },
     "output_type": "execute_result"
    }
   ],
   "source": [
    "m = Chem.MolFromSmiles(smiles_test)\n",
    "m.GetNumAtoms() # it has to give 6, the number of heavy atoms in the benzene ring"
   ]
  },
  {
   "cell_type": "markdown",
   "metadata": {
    "id": "_wIK-83Axdsi"
   },
   "source": [
    "#### Definition of data"
   ]
  },
  {
   "cell_type": "code",
   "execution_count": 12,
   "metadata": {
    "executionInfo": {
     "elapsed": 119452,
     "status": "ok",
     "timestamp": 1606435008131,
     "user": {
      "displayName": "Bogdan Tarus",
      "photoUrl": "",
      "userId": "02702741184233366030"
     },
     "user_tz": -60
    },
    "id": "YwWXg3Qzxdsi"
   },
   "outputs": [],
   "source": [
    "validation_data_dir = \"./input_dataset/\""
   ]
  },
  {
   "cell_type": "code",
   "execution_count": 13,
   "metadata": {
    "colab": {
     "base_uri": "https://localhost:8080/"
    },
    "executionInfo": {
     "elapsed": 119798,
     "status": "ok",
     "timestamp": 1606435008485,
     "user": {
      "displayName": "Bogdan Tarus",
      "photoUrl": "",
      "userId": "02702741184233366030"
     },
     "user_tz": -60
    },
    "id": "S3lAW-Kg4YpL",
    "outputId": "3ec3c019-6413-43a3-f22c-bf612cffff9d"
   },
   "outputs": [
    {
     "name": "stdout",
     "output_type": "stream",
     "text": [
      "total 104\n",
      "-rw------- 1 root root 58889 Nov 26 23:54 delaney.csv\n",
      "-rw------- 1 root root 37085 Nov 26 23:54 solubility_total.csv\n",
      "-rw------- 1 root root    26 Nov 26 23:54 validation_data.md\n"
     ]
    }
   ],
   "source": [
    "!ls -l $validation_data_dir"
   ]
  },
  {
   "cell_type": "code",
   "execution_count": 14,
   "metadata": {
    "executionInfo": {
     "elapsed": 119799,
     "status": "ok",
     "timestamp": 1606435008487,
     "user": {
      "displayName": "Bogdan Tarus",
      "photoUrl": "",
      "userId": "02702741184233366030"
     },
     "user_tz": -60
    },
    "id": "nQPex-Luxdsi"
   },
   "outputs": [],
   "source": [
    "data_name = 'solubility_total' # 'delaney'"
   ]
  },
  {
   "cell_type": "code",
   "execution_count": 15,
   "metadata": {
    "executionInfo": {
     "elapsed": 119796,
     "status": "ok",
     "timestamp": 1606435008488,
     "user": {
      "displayName": "Bogdan Tarus",
      "photoUrl": "",
      "userId": "02702741184233366030"
     },
     "user_tz": -60
    },
    "id": "D7yh-nZ-g4hm"
   },
   "outputs": [],
   "source": [
    "extension = '.csv'"
   ]
  },
  {
   "cell_type": "code",
   "execution_count": 16,
   "metadata": {
    "executionInfo": {
     "elapsed": 119796,
     "status": "ok",
     "timestamp": 1606435008489,
     "user": {
      "displayName": "Bogdan Tarus",
      "photoUrl": "",
      "userId": "02702741184233366030"
     },
     "user_tz": -60
    },
    "id": "ifWN9McWxdsi"
   },
   "outputs": [],
   "source": [
    "# read the dataset\n",
    "sol_data = pd.read_csv(validation_data_dir + 'solubility_total' + extension)"
   ]
  },
  {
   "cell_type": "code",
   "execution_count": 17,
   "metadata": {
    "colab": {
     "base_uri": "https://localhost:8080/"
    },
    "executionInfo": {
     "elapsed": 119791,
     "status": "ok",
     "timestamp": 1606435008491,
     "user": {
      "displayName": "Bogdan Tarus",
      "photoUrl": "",
      "userId": "02702741184233366030"
     },
     "user_tz": -60
    },
    "id": "Uo9t_CGQnsrY",
    "outputId": "3ac323d6-5b73-4e9c-d490-2c0eaff49caf"
   },
   "outputs": [
    {
     "name": "stdout",
     "output_type": "stream",
     "text": [
      "<class 'pandas.core.frame.DataFrame'>\n",
      "RangeIndex: 1197 entries, 0 to 1196\n",
      "Data columns (total 2 columns):\n",
      " #   Column    Non-Null Count  Dtype  \n",
      "---  ------    --------------  -----  \n",
      " 0   SMILES    1197 non-null   object \n",
      " 1   exp_logS  1197 non-null   float64\n",
      "dtypes: float64(1), object(1)\n",
      "memory usage: 18.8+ KB\n"
     ]
    }
   ],
   "source": [
    "sol_data.info()"
   ]
  },
  {
   "cell_type": "code",
   "execution_count": 18,
   "metadata": {
    "colab": {
     "base_uri": "https://localhost:8080/",
     "height": 143
    },
    "executionInfo": {
     "elapsed": 119785,
     "status": "ok",
     "timestamp": 1606435008492,
     "user": {
      "displayName": "Bogdan Tarus",
      "photoUrl": "",
      "userId": "02702741184233366030"
     },
     "user_tz": -60
    },
    "id": "kUxWMoTGxdsi",
    "outputId": "b51f430c-a1b3-4cff-969a-73930cdf583c"
   },
   "outputs": [
    {
     "data": {
      "text/html": [
       "<div>\n",
       "<style scoped>\n",
       "    .dataframe tbody tr th:only-of-type {\n",
       "        vertical-align: middle;\n",
       "    }\n",
       "\n",
       "    .dataframe tbody tr th {\n",
       "        vertical-align: top;\n",
       "    }\n",
       "\n",
       "    .dataframe thead th {\n",
       "        text-align: right;\n",
       "    }\n",
       "</style>\n",
       "<table border=\"1\" class=\"dataframe\">\n",
       "  <thead>\n",
       "    <tr style=\"text-align: right;\">\n",
       "      <th></th>\n",
       "      <th>SMILES</th>\n",
       "      <th>exp_logS</th>\n",
       "    </tr>\n",
       "  </thead>\n",
       "  <tbody>\n",
       "    <tr>\n",
       "      <th>0</th>\n",
       "      <td>ClCC(Cl)(Cl)Cl</td>\n",
       "      <td>-2.18</td>\n",
       "    </tr>\n",
       "    <tr>\n",
       "      <th>1</th>\n",
       "      <td>CC(Cl)(Cl)Cl</td>\n",
       "      <td>-2.00</td>\n",
       "    </tr>\n",
       "    <tr>\n",
       "      <th>2</th>\n",
       "      <td>ClC(Cl)C(Cl)Cl</td>\n",
       "      <td>-1.74</td>\n",
       "    </tr>\n",
       "  </tbody>\n",
       "</table>\n",
       "</div>"
      ],
      "text/plain": [
       "           SMILES  exp_logS\n",
       "0  ClCC(Cl)(Cl)Cl     -2.18\n",
       "1    CC(Cl)(Cl)Cl     -2.00\n",
       "2  ClC(Cl)C(Cl)Cl     -1.74"
      ]
     },
     "execution_count": 18,
     "metadata": {
      "tags": []
     },
     "output_type": "execute_result"
    }
   ],
   "source": [
    "sol_data.head(3)"
   ]
  },
  {
   "cell_type": "code",
   "execution_count": 19,
   "metadata": {
    "executionInfo": {
     "elapsed": 119784,
     "status": "ok",
     "timestamp": 1606435008494,
     "user": {
      "displayName": "Bogdan Tarus",
      "photoUrl": "",
      "userId": "02702741184233366030"
     },
     "user_tz": -60
    },
    "id": "VmBJfXqMxdsj"
   },
   "outputs": [],
   "source": [
    "#sol_data = sol_data[['SMILES','exp_logS']]"
   ]
  },
  {
   "cell_type": "code",
   "execution_count": 20,
   "metadata": {
    "executionInfo": {
     "elapsed": 119780,
     "status": "ok",
     "timestamp": 1606435008496,
     "user": {
      "displayName": "Bogdan Tarus",
      "photoUrl": "",
      "userId": "02702741184233366030"
     },
     "user_tz": -60
    },
    "id": "pi_JXpNoxdsj"
   },
   "outputs": [],
   "source": [
    "#sol_data.head()"
   ]
  },
  {
   "cell_type": "code",
   "execution_count": 21,
   "metadata": {
    "executionInfo": {
     "elapsed": 119781,
     "status": "ok",
     "timestamp": 1606435008498,
     "user": {
      "displayName": "Bogdan Tarus",
      "photoUrl": "",
      "userId": "02702741184233366030"
     },
     "user_tz": -60
    },
    "id": "yABoRvTLub7X"
   },
   "outputs": [],
   "source": [
    "# rename the name columns to comply with the SMILESX package:\n",
    "# the column with the SMILES structures has to have the name 'smiles'\n",
    "sol_data.columns = ['smiles','exp_logS']"
   ]
  },
  {
   "cell_type": "code",
   "execution_count": 22,
   "metadata": {
    "colab": {
     "base_uri": "https://localhost:8080/",
     "height": 206
    },
    "executionInfo": {
     "elapsed": 119775,
     "status": "ok",
     "timestamp": 1606435008500,
     "user": {
      "displayName": "Bogdan Tarus",
      "photoUrl": "",
      "userId": "02702741184233366030"
     },
     "user_tz": -60
    },
    "id": "yQ47pDOfuvbf",
    "outputId": "45f9e6c7-04f1-4c68-84b5-89caf192bf92"
   },
   "outputs": [
    {
     "data": {
      "text/html": [
       "<div>\n",
       "<style scoped>\n",
       "    .dataframe tbody tr th:only-of-type {\n",
       "        vertical-align: middle;\n",
       "    }\n",
       "\n",
       "    .dataframe tbody tr th {\n",
       "        vertical-align: top;\n",
       "    }\n",
       "\n",
       "    .dataframe thead th {\n",
       "        text-align: right;\n",
       "    }\n",
       "</style>\n",
       "<table border=\"1\" class=\"dataframe\">\n",
       "  <thead>\n",
       "    <tr style=\"text-align: right;\">\n",
       "      <th></th>\n",
       "      <th>smiles</th>\n",
       "      <th>exp_logS</th>\n",
       "    </tr>\n",
       "  </thead>\n",
       "  <tbody>\n",
       "    <tr>\n",
       "      <th>0</th>\n",
       "      <td>ClCC(Cl)(Cl)Cl</td>\n",
       "      <td>-2.18</td>\n",
       "    </tr>\n",
       "    <tr>\n",
       "      <th>1</th>\n",
       "      <td>CC(Cl)(Cl)Cl</td>\n",
       "      <td>-2.00</td>\n",
       "    </tr>\n",
       "    <tr>\n",
       "      <th>2</th>\n",
       "      <td>ClC(Cl)C(Cl)Cl</td>\n",
       "      <td>-1.74</td>\n",
       "    </tr>\n",
       "    <tr>\n",
       "      <th>3</th>\n",
       "      <td>ClCC(Cl)Cl</td>\n",
       "      <td>-1.48</td>\n",
       "    </tr>\n",
       "    <tr>\n",
       "      <th>4</th>\n",
       "      <td>FC(F)(Cl)C(F)(Cl)Cl</td>\n",
       "      <td>-3.04</td>\n",
       "    </tr>\n",
       "  </tbody>\n",
       "</table>\n",
       "</div>"
      ],
      "text/plain": [
       "                smiles  exp_logS\n",
       "0       ClCC(Cl)(Cl)Cl     -2.18\n",
       "1         CC(Cl)(Cl)Cl     -2.00\n",
       "2       ClC(Cl)C(Cl)Cl     -1.74\n",
       "3           ClCC(Cl)Cl     -1.48\n",
       "4  FC(F)(Cl)C(F)(Cl)Cl     -3.04"
      ]
     },
     "execution_count": 22,
     "metadata": {
      "tags": []
     },
     "output_type": "execute_result"
    }
   ],
   "source": [
    "# check the column names\n",
    "sol_data.head()"
   ]
  },
  {
   "cell_type": "code",
   "execution_count": 23,
   "metadata": {
    "colab": {
     "base_uri": "https://localhost:8080/"
    },
    "executionInfo": {
     "elapsed": 119769,
     "status": "ok",
     "timestamp": 1606435008501,
     "user": {
      "displayName": "Bogdan Tarus",
      "photoUrl": "",
      "userId": "02702741184233366030"
     },
     "user_tz": -60
    },
    "id": "CvX5bqEXxdsj",
    "outputId": "cc7c4edb-2503-498f-eb02-12840184a3a9"
   },
   "outputs": [
    {
     "data": {
      "text/plain": [
       "(1197, 2)"
      ]
     },
     "execution_count": 23,
     "metadata": {
      "tags": []
     },
     "output_type": "execute_result"
    }
   ],
   "source": [
    "# check the size of the dataset\n",
    "sol_data.shape"
   ]
  },
  {
   "cell_type": "markdown",
   "metadata": {
    "id": "J0dHbVG1xdsk"
   },
   "source": [
    "#### Hyperparameters optimization with GPyOpt (Bayesian optimization)"
   ]
  },
  {
   "cell_type": "code",
   "execution_count": 24,
   "metadata": {
    "executionInfo": {
     "elapsed": 119768,
     "status": "ok",
     "timestamp": 1606435008502,
     "user": {
      "displayName": "Bogdan Tarus",
      "photoUrl": "",
      "userId": "02702741184233366030"
     },
     "user_tz": -60
    },
    "id": "u0SX55B-tjDq"
   },
   "outputs": [],
   "source": [
    "dhyp_range = [int(2**itn) for itn in range(3,11)]\n",
    "\n",
    "bounds = [\n",
    "        {'name': 'lstmunits', 'type': 'discrete', 'domain': dhyp_range}, \n",
    "        {'name': 'denseunits', 'type': 'discrete', 'domain': dhyp_range}, \n",
    "        {'name': 'embedding', 'type': 'discrete', 'domain': dhyp_range}, \n",
    "        {'name': 'batchsize', 'type': 'discrete', 'domain': (1024, 1024)}, # fixed\n",
    "        {'name': 'lrate', 'type': 'discrete', 'domain': (3, 3)} # fixed\n",
    "    ]"
   ]
  },
  {
   "cell_type": "code",
   "execution_count": 25,
   "metadata": {
    "colab": {
     "base_uri": "https://localhost:8080/"
    },
    "executionInfo": {
     "elapsed": 496207,
     "status": "ok",
     "timestamp": 1606435384949,
     "user": {
      "displayName": "Bogdan Tarus",
      "photoUrl": "",
      "userId": "02702741184233366030"
     },
     "user_tz": -60
    },
    "id": "ffLiemeOxdsl",
    "outputId": "482847b9-2200-4910-fbe6-e3bb6a01ed45",
    "scrolled": true
   },
   "outputs": [
    {
     "name": "stdout",
     "output_type": "stream",
     "text": [
      "***SMILES_X starts...***\n",
      "\n",
      "\n",
      "******\n",
      "***Fold #0 initiated...***\n",
      "******\n",
      "***Sampling and splitting of the dataset.***\n",
      "\n",
      "Scaler: RobustScaler(copy=True, quantile_range=(5.0, 95.0), with_centering=True,\n",
      "             with_scaling=True)\n",
      "Train/valid/test splits: 0.80/0.10/0.10\n",
      "\n",
      "\n",
      "***Data augmentation to True***\n",
      "\n",
      "Enumerated SMILES:\n",
      "\tTraining set: 13022\n",
      "\tValidation set: 1444\n",
      "\tTest set: 1870\n",
      "\n",
      "***Tokenization of SMILES.***\n",
      "\n",
      "Examples of tokenized SMILES from a training set:\n",
      "[[' ', 'C', 'C', 'C', 'C', 'C', '=', 'O', ' '], [' ', 'C', '(', 'C', 'C', 'C', '=', 'O', ')', 'C', ' '], [' ', 'C', '(', 'C', 'C', '=', 'O', ')', 'C', 'C', ' '], [' ', 'C', '(', 'C', '=', 'O', ')', 'C', 'C', 'C', ' '], [' ', 'C', '(', '=', 'O', ')', 'C', 'C', 'C', 'C', ' ']]\n",
      "\n",
      "Number of tokens only present in a training set: 35\n",
      "\n",
      "Number of tokens only present in a validation set: 28\n",
      "Is the validation set a subset of the training set: True\n",
      "What are the tokens by which they differ: set()\n",
      "\n",
      "Number of tokens only present in a test set: 28\n",
      "Is the test set a subset of the training set: True\n",
      "What are the tokens by which they differ: set()\n",
      "Is the test set a subset of the validation set: False\n",
      "What are the tokens by which they differ: {'8', '7'}\n",
      "\n",
      "Full vocabulary: ['#', '8', 'o', 'N', '5', 'S', '[C@@H]', '-', '[nH]', '[N+]', '/', '=', 'O', '6', '[n+]', 'Br', '7', ')', '4', '1', '(', 'P', ' ', 'F', '[C@H]', 'c', '3', '2', '\\\\', 'C', 'n', '[O-]', 's', 'I', 'Cl']\n",
      "Of size: 35\n",
      "\n",
      "Maximum length of tokenized SMILES: 107 tokens (termination spaces included)\n",
      "\n",
      "***Bayesian Optimization of the SMILESX's architecture.***\n",
      "\n",
      "Random initialization:\n",
      "\n",
      "Model: [[  64.   32.   16. 1024.    3.]]\n",
      "WARNING:tensorflow:From /tensorflow-1.15.2/python3.6/tensorflow_core/python/ops/resource_variable_ops.py:1630: calling BaseResourceVariable.__init__ (from tensorflow.python.ops.resource_variable_ops) with constraint is deprecated and will be removed in a future version.\n",
      "Instructions for updating:\n",
      "If using Keras pass *_constraint arguments to layers.\n",
      "WARNING:tensorflow:From /tensorflow-1.15.2/python3.6/keras/backend/tensorflow_backend.py:422: The name tf.global_variables is deprecated. Please use tf.compat.v1.global_variables instead.\n",
      "\n",
      "Valid MAE: 0.2664, RMSE: 0.1059\n",
      "Optimization:\n",
      "\n",
      "\n",
      "The architecture for this datatset is:\n",
      "\tLSTM units: 64\n",
      "\tDense units: 32\n",
      "\tEmbedding dimensions 16\n",
      "\tBatch size: 1024\n",
      "\tLearning rate: 10^-(3.0)\n",
      "\n",
      "***Training of the best model.***\n",
      "\n",
      "Best model summary:\n",
      "\n",
      "Model: \"model_1\"\n",
      "_________________________________________________________________\n",
      "Layer (type)                 Output Shape              Param #   \n",
      "=================================================================\n",
      "input_1 (InputLayer)         (None, 108)               0         \n",
      "_________________________________________________________________\n",
      "embedding_1 (Embedding)      (None, 108, 16)           592       \n",
      "_________________________________________________________________\n",
      "bidirectional_1 (Bidirection (None, 108, 128)          41984     \n",
      "_________________________________________________________________\n",
      "time_distributed_1 (TimeDist (None, 108, 32)           4128      \n",
      "_________________________________________________________________\n",
      "attention_m_1 (AttentionM)   (None, 32)                140       \n",
      "_________________________________________________________________\n",
      "dense_2 (Dense)              (None, 1)                 33        \n",
      "=================================================================\n",
      "Total params: 46,877\n",
      "Trainable params: 46,877\n",
      "Non-trainable params: 0\n",
      "_________________________________________________________________\n",
      "None\n",
      "\n",
      "\n",
      "Epoch 1/100\n",
      "13/13 [==============================] - 1s 65ms/step - loss: 0.0814 - mean_absolute_error: 0.2222 - mean_squared_error: 0.0816 - val_loss: 0.0738 - val_mean_absolute_error: 0.2620 - val_mean_squared_error: 0.1035\n",
      "Epoch 2/100\n",
      "13/13 [==============================] - 0s 26ms/step - loss: 0.0715 - mean_absolute_error: 0.2094 - mean_squared_error: 0.0718 - val_loss: 0.0458 - val_mean_absolute_error: 0.2244 - val_mean_squared_error: 0.0726\n",
      "Epoch 3/100\n",
      "13/13 [==============================] - 1s 53ms/step - loss: 0.0611 - mean_absolute_error: 0.1958 - mean_squared_error: 0.0613 - val_loss: 0.0585 - val_mean_absolute_error: 0.2287 - val_mean_squared_error: 0.0819\n",
      "Epoch 4/100\n",
      "13/13 [==============================] - 1s 45ms/step - loss: 0.0563 - mean_absolute_error: 0.1896 - mean_squared_error: 0.0566 - val_loss: 0.0486 - val_mean_absolute_error: 0.2102 - val_mean_squared_error: 0.0683\n",
      "Epoch 5/100\n",
      "13/13 [==============================] - 1s 48ms/step - loss: 0.0490 - mean_absolute_error: 0.1744 - mean_squared_error: 0.0492 - val_loss: 0.0329 - val_mean_absolute_error: 0.1822 - val_mean_squared_error: 0.0516\n",
      "Epoch 6/100\n",
      "13/13 [==============================] - 1s 51ms/step - loss: 0.0435 - mean_absolute_error: 0.1632 - mean_squared_error: 0.0437 - val_loss: 0.0281 - val_mean_absolute_error: 0.1520 - val_mean_squared_error: 0.0511\n",
      "Epoch 7/100\n",
      "13/13 [==============================] - 1s 39ms/step - loss: 0.0400 - mean_absolute_error: 0.1555 - mean_squared_error: 0.0401 - val_loss: 0.0280 - val_mean_absolute_error: 0.1593 - val_mean_squared_error: 0.0515\n",
      "Epoch 8/100\n",
      "13/13 [==============================] - 0s 33ms/step - loss: 0.0349 - mean_absolute_error: 0.1450 - mean_squared_error: 0.0351 - val_loss: 0.0293 - val_mean_absolute_error: 0.1664 - val_mean_squared_error: 0.0444\n",
      "Epoch 9/100\n",
      "13/13 [==============================] - 1s 48ms/step - loss: 0.0328 - mean_absolute_error: 0.1399 - mean_squared_error: 0.0329 - val_loss: 0.0239 - val_mean_absolute_error: 0.1358 - val_mean_squared_error: 0.0369\n",
      "Epoch 10/100\n",
      "13/13 [==============================] - 0s 34ms/step - loss: 0.0281 - mean_absolute_error: 0.1281 - mean_squared_error: 0.0282 - val_loss: 0.0209 - val_mean_absolute_error: 0.1356 - val_mean_squared_error: 0.0337\n",
      "Epoch 11/100\n",
      "13/13 [==============================] - 1s 48ms/step - loss: 0.0257 - mean_absolute_error: 0.1232 - mean_squared_error: 0.0257 - val_loss: 0.0186 - val_mean_absolute_error: 0.1260 - val_mean_squared_error: 0.0288\n",
      "Epoch 12/100\n",
      "13/13 [==============================] - 1s 42ms/step - loss: 0.0245 - mean_absolute_error: 0.1206 - mean_squared_error: 0.0245 - val_loss: 0.0206 - val_mean_absolute_error: 0.1245 - val_mean_squared_error: 0.0284\n",
      "Epoch 13/100\n",
      "13/13 [==============================] - 1s 50ms/step - loss: 0.0250 - mean_absolute_error: 0.1227 - mean_squared_error: 0.0250 - val_loss: 0.0202 - val_mean_absolute_error: 0.1252 - val_mean_squared_error: 0.0284\n",
      "Epoch 14/100\n",
      "13/13 [==============================] - 1s 47ms/step - loss: 0.0229 - mean_absolute_error: 0.1160 - mean_squared_error: 0.0229 - val_loss: 0.0216 - val_mean_absolute_error: 0.1265 - val_mean_squared_error: 0.0290\n",
      "Epoch 15/100\n",
      "13/13 [==============================] - 1s 49ms/step - loss: 0.0227 - mean_absolute_error: 0.1168 - mean_squared_error: 0.0228 - val_loss: 0.0196 - val_mean_absolute_error: 0.1231 - val_mean_squared_error: 0.0271\n",
      "Epoch 16/100\n",
      "13/13 [==============================] - 1s 46ms/step - loss: 0.0231 - mean_absolute_error: 0.1170 - mean_squared_error: 0.0232 - val_loss: 0.0184 - val_mean_absolute_error: 0.1269 - val_mean_squared_error: 0.0278\n",
      "Epoch 17/100\n",
      "13/13 [==============================] - 1s 48ms/step - loss: 0.0217 - mean_absolute_error: 0.1143 - mean_squared_error: 0.0218 - val_loss: 0.0187 - val_mean_absolute_error: 0.1243 - val_mean_squared_error: 0.0268\n",
      "Epoch 18/100\n",
      "13/13 [==============================] - 1s 48ms/step - loss: 0.0215 - mean_absolute_error: 0.1128 - mean_squared_error: 0.0215 - val_loss: 0.0212 - val_mean_absolute_error: 0.1242 - val_mean_squared_error: 0.0273\n",
      "Epoch 19/100\n",
      "13/13 [==============================] - 1s 45ms/step - loss: 0.0221 - mean_absolute_error: 0.1156 - mean_squared_error: 0.0221 - val_loss: 0.0202 - val_mean_absolute_error: 0.1252 - val_mean_squared_error: 0.0280\n",
      "Epoch 20/100\n",
      "13/13 [==============================] - 1s 53ms/step - loss: 0.0206 - mean_absolute_error: 0.1104 - mean_squared_error: 0.0206 - val_loss: 0.0205 - val_mean_absolute_error: 0.1234 - val_mean_squared_error: 0.0268\n",
      "Epoch 21/100\n",
      "13/13 [==============================] - 1s 44ms/step - loss: 0.0204 - mean_absolute_error: 0.1101 - mean_squared_error: 0.0204 - val_loss: 0.0204 - val_mean_absolute_error: 0.1272 - val_mean_squared_error: 0.0280\n",
      "Epoch 22/100\n",
      "13/13 [==============================] - 1s 46ms/step - loss: 0.0202 - mean_absolute_error: 0.1093 - mean_squared_error: 0.0202 - val_loss: 0.0217 - val_mean_absolute_error: 0.1304 - val_mean_squared_error: 0.0296\n",
      "Epoch 23/100\n",
      "13/13 [==============================] - 1s 54ms/step - loss: 0.0207 - mean_absolute_error: 0.1122 - mean_squared_error: 0.0207 - val_loss: 0.0201 - val_mean_absolute_error: 0.1236 - val_mean_squared_error: 0.0271\n",
      "Epoch 24/100\n",
      "13/13 [==============================] - 1s 43ms/step - loss: 0.0205 - mean_absolute_error: 0.1102 - mean_squared_error: 0.0205 - val_loss: 0.0213 - val_mean_absolute_error: 0.1261 - val_mean_squared_error: 0.0286\n",
      "Epoch 25/100\n",
      "13/13 [==============================] - 1s 45ms/step - loss: 0.0205 - mean_absolute_error: 0.1112 - mean_squared_error: 0.0206 - val_loss: 0.0201 - val_mean_absolute_error: 0.1198 - val_mean_squared_error: 0.0255\n",
      "Epoch 26/100\n",
      "13/13 [==============================] - 1s 51ms/step - loss: 0.0196 - mean_absolute_error: 0.1079 - mean_squared_error: 0.0197 - val_loss: 0.0189 - val_mean_absolute_error: 0.1201 - val_mean_squared_error: 0.0250\n",
      "Epoch 27/100\n",
      "13/13 [==============================] - 1s 44ms/step - loss: 0.0198 - mean_absolute_error: 0.1086 - mean_squared_error: 0.0198 - val_loss: 0.0193 - val_mean_absolute_error: 0.1190 - val_mean_squared_error: 0.0255\n",
      "Epoch 28/100\n",
      "13/13 [==============================] - 1s 51ms/step - loss: 0.0197 - mean_absolute_error: 0.1080 - mean_squared_error: 0.0197 - val_loss: 0.0184 - val_mean_absolute_error: 0.1198 - val_mean_squared_error: 0.0251\n",
      "Epoch 29/100\n",
      "13/13 [==============================] - 1s 49ms/step - loss: 0.0193 - mean_absolute_error: 0.1072 - mean_squared_error: 0.0193 - val_loss: 0.0197 - val_mean_absolute_error: 0.1165 - val_mean_squared_error: 0.0247\n",
      "Epoch 30/100\n",
      "13/13 [==============================] - 1s 46ms/step - loss: 0.0199 - mean_absolute_error: 0.1101 - mean_squared_error: 0.0199 - val_loss: 0.0191 - val_mean_absolute_error: 0.1153 - val_mean_squared_error: 0.0240\n",
      "Epoch 31/100\n",
      "13/13 [==============================] - 1s 50ms/step - loss: 0.0187 - mean_absolute_error: 0.1056 - mean_squared_error: 0.0187 - val_loss: 0.0209 - val_mean_absolute_error: 0.1139 - val_mean_squared_error: 0.0231\n",
      "Epoch 32/100\n",
      "13/13 [==============================] - 1s 51ms/step - loss: 0.0191 - mean_absolute_error: 0.1073 - mean_squared_error: 0.0191 - val_loss: 0.0190 - val_mean_absolute_error: 0.1155 - val_mean_squared_error: 0.0240\n",
      "Epoch 33/100\n",
      "13/13 [==============================] - 1s 44ms/step - loss: 0.0185 - mean_absolute_error: 0.1053 - mean_squared_error: 0.0185 - val_loss: 0.0178 - val_mean_absolute_error: 0.1123 - val_mean_squared_error: 0.0228\n",
      "Epoch 34/100\n",
      "13/13 [==============================] - 1s 43ms/step - loss: 0.0188 - mean_absolute_error: 0.1064 - mean_squared_error: 0.0188 - val_loss: 0.0193 - val_mean_absolute_error: 0.1138 - val_mean_squared_error: 0.0242\n",
      "Epoch 35/100\n",
      "13/13 [==============================] - 1s 43ms/step - loss: 0.0191 - mean_absolute_error: 0.1066 - mean_squared_error: 0.0191 - val_loss: 0.0190 - val_mean_absolute_error: 0.1121 - val_mean_squared_error: 0.0241\n",
      "Epoch 36/100\n",
      "13/13 [==============================] - 1s 48ms/step - loss: 0.0185 - mean_absolute_error: 0.1055 - mean_squared_error: 0.0185 - val_loss: 0.0191 - val_mean_absolute_error: 0.1153 - val_mean_squared_error: 0.0245\n",
      "Epoch 37/100\n",
      "13/13 [==============================] - 1s 50ms/step - loss: 0.0188 - mean_absolute_error: 0.1067 - mean_squared_error: 0.0188 - val_loss: 0.0188 - val_mean_absolute_error: 0.1079 - val_mean_squared_error: 0.0217\n",
      "Epoch 38/100\n",
      "13/13 [==============================] - 1s 49ms/step - loss: 0.0185 - mean_absolute_error: 0.1061 - mean_squared_error: 0.0185 - val_loss: 0.0188 - val_mean_absolute_error: 0.1121 - val_mean_squared_error: 0.0235\n",
      "Epoch 39/100\n",
      "13/13 [==============================] - 1s 48ms/step - loss: 0.0182 - mean_absolute_error: 0.1049 - mean_squared_error: 0.0183 - val_loss: 0.0180 - val_mean_absolute_error: 0.1112 - val_mean_squared_error: 0.0236\n",
      "Epoch 40/100\n",
      "13/13 [==============================] - 1s 48ms/step - loss: 0.0176 - mean_absolute_error: 0.1031 - mean_squared_error: 0.0176 - val_loss: 0.0191 - val_mean_absolute_error: 0.1112 - val_mean_squared_error: 0.0245\n",
      "Epoch 41/100\n",
      "13/13 [==============================] - 1s 52ms/step - loss: 0.0177 - mean_absolute_error: 0.1027 - mean_squared_error: 0.0177 - val_loss: 0.0190 - val_mean_absolute_error: 0.1115 - val_mean_squared_error: 0.0238\n",
      "Epoch 42/100\n",
      "13/13 [==============================] - 1s 47ms/step - loss: 0.0176 - mean_absolute_error: 0.1029 - mean_squared_error: 0.0176 - val_loss: 0.0171 - val_mean_absolute_error: 0.1062 - val_mean_squared_error: 0.0224\n",
      "Epoch 43/100\n",
      "13/13 [==============================] - 0s 34ms/step - loss: 0.0178 - mean_absolute_error: 0.1031 - mean_squared_error: 0.0178 - val_loss: 0.0184 - val_mean_absolute_error: 0.1134 - val_mean_squared_error: 0.0256\n",
      "Epoch 44/100\n",
      "13/13 [==============================] - 1s 45ms/step - loss: 0.0185 - mean_absolute_error: 0.1057 - mean_squared_error: 0.0185 - val_loss: 0.0197 - val_mean_absolute_error: 0.1189 - val_mean_squared_error: 0.0289\n",
      "Epoch 45/100\n",
      "13/13 [==============================] - 1s 49ms/step - loss: 0.0180 - mean_absolute_error: 0.1031 - mean_squared_error: 0.0180 - val_loss: 0.0178 - val_mean_absolute_error: 0.1079 - val_mean_squared_error: 0.0229\n",
      "Epoch 46/100\n",
      "13/13 [==============================] - 1s 50ms/step - loss: 0.0190 - mean_absolute_error: 0.1073 - mean_squared_error: 0.0190 - val_loss: 0.0176 - val_mean_absolute_error: 0.1149 - val_mean_squared_error: 0.0254\n",
      "Epoch 47/100\n",
      "13/13 [==============================] - 1s 51ms/step - loss: 0.0180 - mean_absolute_error: 0.1033 - mean_squared_error: 0.0180 - val_loss: 0.0193 - val_mean_absolute_error: 0.1100 - val_mean_squared_error: 0.0216\n",
      "Epoch 48/100\n",
      "13/13 [==============================] - 1s 44ms/step - loss: 0.0185 - mean_absolute_error: 0.1050 - mean_squared_error: 0.0186 - val_loss: 0.0186 - val_mean_absolute_error: 0.1131 - val_mean_squared_error: 0.0255\n",
      "Epoch 49/100\n",
      "13/13 [==============================] - 1s 48ms/step - loss: 0.0194 - mean_absolute_error: 0.1097 - mean_squared_error: 0.0194 - val_loss: 0.0176 - val_mean_absolute_error: 0.1076 - val_mean_squared_error: 0.0229\n",
      "Epoch 50/100\n",
      "13/13 [==============================] - 1s 46ms/step - loss: 0.0176 - mean_absolute_error: 0.1034 - mean_squared_error: 0.0176 - val_loss: 0.0182 - val_mean_absolute_error: 0.1112 - val_mean_squared_error: 0.0235\n",
      "Epoch 51/100\n",
      "13/13 [==============================] - 1s 46ms/step - loss: 0.0171 - mean_absolute_error: 0.1011 - mean_squared_error: 0.0171 - val_loss: 0.0181 - val_mean_absolute_error: 0.1086 - val_mean_squared_error: 0.0240\n",
      "Epoch 52/100\n",
      "13/13 [==============================] - 1s 50ms/step - loss: 0.0171 - mean_absolute_error: 0.1017 - mean_squared_error: 0.0171 - val_loss: 0.0193 - val_mean_absolute_error: 0.1131 - val_mean_squared_error: 0.0235\n",
      "Epoch 53/100\n",
      "13/13 [==============================] - 1s 49ms/step - loss: 0.0179 - mean_absolute_error: 0.1040 - mean_squared_error: 0.0179 - val_loss: 0.0181 - val_mean_absolute_error: 0.1075 - val_mean_squared_error: 0.0231\n",
      "Epoch 54/100\n",
      "13/13 [==============================] - 1s 49ms/step - loss: 0.0186 - mean_absolute_error: 0.1060 - mean_squared_error: 0.0186 - val_loss: 0.0195 - val_mean_absolute_error: 0.1155 - val_mean_squared_error: 0.0265\n",
      "Epoch 55/100\n",
      "13/13 [==============================] - 1s 49ms/step - loss: 0.0178 - mean_absolute_error: 0.1032 - mean_squared_error: 0.0178 - val_loss: 0.0173 - val_mean_absolute_error: 0.1098 - val_mean_squared_error: 0.0216\n",
      "Epoch 56/100\n",
      "13/13 [==============================] - 1s 49ms/step - loss: 0.0169 - mean_absolute_error: 0.1006 - mean_squared_error: 0.0169 - val_loss: 0.0180 - val_mean_absolute_error: 0.1093 - val_mean_squared_error: 0.0243\n",
      "Epoch 57/100\n",
      "13/13 [==============================] - 1s 47ms/step - loss: 0.0176 - mean_absolute_error: 0.1030 - mean_squared_error: 0.0176 - val_loss: 0.0167 - val_mean_absolute_error: 0.1071 - val_mean_squared_error: 0.0212\n",
      "Epoch 58/100\n",
      "13/13 [==============================] - 1s 39ms/step - loss: 0.0176 - mean_absolute_error: 0.1033 - mean_squared_error: 0.0176 - val_loss: 0.0181 - val_mean_absolute_error: 0.1065 - val_mean_squared_error: 0.0221\n",
      "Epoch 59/100\n",
      "13/13 [==============================] - 1s 53ms/step - loss: 0.0171 - mean_absolute_error: 0.1008 - mean_squared_error: 0.0171 - val_loss: 0.0175 - val_mean_absolute_error: 0.1060 - val_mean_squared_error: 0.0218\n",
      "Epoch 60/100\n",
      "13/13 [==============================] - 1s 44ms/step - loss: 0.0167 - mean_absolute_error: 0.1001 - mean_squared_error: 0.0167 - val_loss: 0.0171 - val_mean_absolute_error: 0.1057 - val_mean_squared_error: 0.0218\n",
      "Epoch 61/100\n",
      "13/13 [==============================] - 1s 46ms/step - loss: 0.0167 - mean_absolute_error: 0.1002 - mean_squared_error: 0.0167 - val_loss: 0.0179 - val_mean_absolute_error: 0.1074 - val_mean_squared_error: 0.0221\n",
      "Epoch 62/100\n",
      "13/13 [==============================] - 1s 50ms/step - loss: 0.0166 - mean_absolute_error: 0.0995 - mean_squared_error: 0.0166 - val_loss: 0.0197 - val_mean_absolute_error: 0.1133 - val_mean_squared_error: 0.0267\n",
      "Epoch 63/100\n",
      "13/13 [==============================] - 1s 50ms/step - loss: 0.0170 - mean_absolute_error: 0.1011 - mean_squared_error: 0.0170 - val_loss: 0.0195 - val_mean_absolute_error: 0.1082 - val_mean_squared_error: 0.0224\n",
      "Epoch 64/100\n",
      "13/13 [==============================] - 1s 45ms/step - loss: 0.0167 - mean_absolute_error: 0.0997 - mean_squared_error: 0.0167 - val_loss: 0.0180 - val_mean_absolute_error: 0.1089 - val_mean_squared_error: 0.0233\n",
      "Epoch 65/100\n",
      "13/13 [==============================] - 1s 51ms/step - loss: 0.0173 - mean_absolute_error: 0.1015 - mean_squared_error: 0.0173 - val_loss: 0.0197 - val_mean_absolute_error: 0.1131 - val_mean_squared_error: 0.0262\n",
      "Epoch 66/100\n",
      "13/13 [==============================] - 1s 52ms/step - loss: 0.0168 - mean_absolute_error: 0.1001 - mean_squared_error: 0.0168 - val_loss: 0.0181 - val_mean_absolute_error: 0.1102 - val_mean_squared_error: 0.0225\n",
      "Epoch 67/100\n",
      "13/13 [==============================] - 1s 48ms/step - loss: 0.0171 - mean_absolute_error: 0.1013 - mean_squared_error: 0.0171 - val_loss: 0.0174 - val_mean_absolute_error: 0.1061 - val_mean_squared_error: 0.0221\n",
      "Epoch 68/100\n",
      "13/13 [==============================] - 1s 50ms/step - loss: 0.0166 - mean_absolute_error: 0.0999 - mean_squared_error: 0.0166 - val_loss: 0.0182 - val_mean_absolute_error: 0.1074 - val_mean_squared_error: 0.0231\n",
      "Epoch 69/100\n",
      "13/13 [==============================] - 1s 51ms/step - loss: 0.0172 - mean_absolute_error: 0.1015 - mean_squared_error: 0.0172 - val_loss: 0.0198 - val_mean_absolute_error: 0.1135 - val_mean_squared_error: 0.0264\n",
      "Epoch 70/100\n",
      "13/13 [==============================] - 1s 45ms/step - loss: 0.0167 - mean_absolute_error: 0.0999 - mean_squared_error: 0.0167 - val_loss: 0.0173 - val_mean_absolute_error: 0.1051 - val_mean_squared_error: 0.0221\n",
      "Epoch 71/100\n",
      "13/13 [==============================] - 1s 48ms/step - loss: 0.0166 - mean_absolute_error: 0.1003 - mean_squared_error: 0.0166 - val_loss: 0.0176 - val_mean_absolute_error: 0.1061 - val_mean_squared_error: 0.0220\n",
      "Epoch 72/100\n",
      "13/13 [==============================] - 1s 43ms/step - loss: 0.0167 - mean_absolute_error: 0.1004 - mean_squared_error: 0.0167 - val_loss: 0.0196 - val_mean_absolute_error: 0.1140 - val_mean_squared_error: 0.0265\n",
      "Epoch 73/100\n",
      "13/13 [==============================] - 1s 48ms/step - loss: 0.0167 - mean_absolute_error: 0.1013 - mean_squared_error: 0.0167 - val_loss: 0.0177 - val_mean_absolute_error: 0.1061 - val_mean_squared_error: 0.0221\n",
      "Epoch 74/100\n",
      "13/13 [==============================] - 1s 41ms/step - loss: 0.0169 - mean_absolute_error: 0.1002 - mean_squared_error: 0.0168 - val_loss: 0.0183 - val_mean_absolute_error: 0.1132 - val_mean_squared_error: 0.0231\n",
      "Epoch 75/100\n",
      "13/13 [==============================] - 1s 47ms/step - loss: 0.0169 - mean_absolute_error: 0.1004 - mean_squared_error: 0.0168 - val_loss: 0.0175 - val_mean_absolute_error: 0.1074 - val_mean_squared_error: 0.0228\n",
      "Epoch 76/100\n",
      "13/13 [==============================] - 1s 45ms/step - loss: 0.0165 - mean_absolute_error: 0.1004 - mean_squared_error: 0.0165 - val_loss: 0.0183 - val_mean_absolute_error: 0.1139 - val_mean_squared_error: 0.0225\n",
      "Epoch 77/100\n",
      "13/13 [==============================] - 1s 52ms/step - loss: 0.0168 - mean_absolute_error: 0.1000 - mean_squared_error: 0.0167 - val_loss: 0.0184 - val_mean_absolute_error: 0.1084 - val_mean_squared_error: 0.0240\n",
      "Epoch 78/100\n",
      "13/13 [==============================] - 1s 48ms/step - loss: 0.0166 - mean_absolute_error: 0.0998 - mean_squared_error: 0.0165 - val_loss: 0.0178 - val_mean_absolute_error: 0.1049 - val_mean_squared_error: 0.0225\n",
      "Epoch 79/100\n",
      "13/13 [==============================] - 1s 50ms/step - loss: 0.0164 - mean_absolute_error: 0.0992 - mean_squared_error: 0.0164 - val_loss: 0.0169 - val_mean_absolute_error: 0.1080 - val_mean_squared_error: 0.0221\n",
      "Epoch 80/100\n",
      "13/13 [==============================] - 1s 46ms/step - loss: 0.0161 - mean_absolute_error: 0.0985 - mean_squared_error: 0.0161 - val_loss: 0.0175 - val_mean_absolute_error: 0.1054 - val_mean_squared_error: 0.0222\n",
      "Epoch 81/100\n",
      "13/13 [==============================] - 1s 53ms/step - loss: 0.0161 - mean_absolute_error: 0.0982 - mean_squared_error: 0.0161 - val_loss: 0.0182 - val_mean_absolute_error: 0.1140 - val_mean_squared_error: 0.0223\n",
      "Epoch 82/100\n",
      "13/13 [==============================] - 1s 44ms/step - loss: 0.0163 - mean_absolute_error: 0.0989 - mean_squared_error: 0.0163 - val_loss: 0.0177 - val_mean_absolute_error: 0.1071 - val_mean_squared_error: 0.0222\n",
      "Epoch 83/100\n",
      "13/13 [==============================] - 1s 51ms/step - loss: 0.0167 - mean_absolute_error: 0.1007 - mean_squared_error: 0.0167 - val_loss: 0.0182 - val_mean_absolute_error: 0.1073 - val_mean_squared_error: 0.0241\n",
      "Epoch 84/100\n",
      "13/13 [==============================] - 1s 46ms/step - loss: 0.0161 - mean_absolute_error: 0.0990 - mean_squared_error: 0.0161 - val_loss: 0.0170 - val_mean_absolute_error: 0.1066 - val_mean_squared_error: 0.0217\n",
      "Epoch 85/100\n",
      "13/13 [==============================] - 1s 49ms/step - loss: 0.0161 - mean_absolute_error: 0.0983 - mean_squared_error: 0.0161 - val_loss: 0.0209 - val_mean_absolute_error: 0.1133 - val_mean_squared_error: 0.0263\n",
      "Epoch 86/100\n",
      "13/13 [==============================] - 1s 51ms/step - loss: 0.0168 - mean_absolute_error: 0.0998 - mean_squared_error: 0.0168 - val_loss: 0.0188 - val_mean_absolute_error: 0.1110 - val_mean_squared_error: 0.0245\n",
      "Epoch 87/100\n",
      "13/13 [==============================] - 1s 49ms/step - loss: 0.0163 - mean_absolute_error: 0.0993 - mean_squared_error: 0.0163 - val_loss: 0.0189 - val_mean_absolute_error: 0.1091 - val_mean_squared_error: 0.0230\n",
      "Epoch 88/100\n",
      "13/13 [==============================] - 1s 49ms/step - loss: 0.0164 - mean_absolute_error: 0.0990 - mean_squared_error: 0.0164 - val_loss: 0.0184 - val_mean_absolute_error: 0.1075 - val_mean_squared_error: 0.0240\n",
      "Epoch 89/100\n",
      "13/13 [==============================] - 1s 51ms/step - loss: 0.0166 - mean_absolute_error: 0.0998 - mean_squared_error: 0.0166 - val_loss: 0.0180 - val_mean_absolute_error: 0.1178 - val_mean_squared_error: 0.0234\n",
      "Epoch 90/100\n",
      "13/13 [==============================] - 1s 47ms/step - loss: 0.0163 - mean_absolute_error: 0.0990 - mean_squared_error: 0.0163 - val_loss: 0.0178 - val_mean_absolute_error: 0.1056 - val_mean_squared_error: 0.0215\n",
      "Epoch 91/100\n",
      "13/13 [==============================] - 1s 51ms/step - loss: 0.0160 - mean_absolute_error: 0.0983 - mean_squared_error: 0.0159 - val_loss: 0.0180 - val_mean_absolute_error: 0.1084 - val_mean_squared_error: 0.0234\n",
      "Epoch 92/100\n",
      "13/13 [==============================] - 1s 46ms/step - loss: 0.0157 - mean_absolute_error: 0.0976 - mean_squared_error: 0.0157 - val_loss: 0.0179 - val_mean_absolute_error: 0.1052 - val_mean_squared_error: 0.0231\n",
      "Epoch 93/100\n",
      "13/13 [==============================] - 1s 55ms/step - loss: 0.0165 - mean_absolute_error: 0.0998 - mean_squared_error: 0.0165 - val_loss: 0.0178 - val_mean_absolute_error: 0.1069 - val_mean_squared_error: 0.0216\n",
      "Epoch 94/100\n",
      "13/13 [==============================] - 1s 43ms/step - loss: 0.0168 - mean_absolute_error: 0.1024 - mean_squared_error: 0.0167 - val_loss: 0.0177 - val_mean_absolute_error: 0.1089 - val_mean_squared_error: 0.0229\n",
      "Epoch 95/100\n",
      "13/13 [==============================] - 1s 48ms/step - loss: 0.0166 - mean_absolute_error: 0.1001 - mean_squared_error: 0.0166 - val_loss: 0.0206 - val_mean_absolute_error: 0.1145 - val_mean_squared_error: 0.0271\n",
      "Epoch 96/100\n",
      "13/13 [==============================] - 1s 53ms/step - loss: 0.0166 - mean_absolute_error: 0.0997 - mean_squared_error: 0.0166 - val_loss: 0.0189 - val_mean_absolute_error: 0.1119 - val_mean_squared_error: 0.0244\n",
      "Epoch 97/100\n",
      "13/13 [==============================] - 1s 45ms/step - loss: 0.0167 - mean_absolute_error: 0.1006 - mean_squared_error: 0.0166 - val_loss: 0.0207 - val_mean_absolute_error: 0.1101 - val_mean_squared_error: 0.0232\n",
      "Epoch 98/100\n",
      "13/13 [==============================] - 1s 49ms/step - loss: 0.0162 - mean_absolute_error: 0.0986 - mean_squared_error: 0.0162 - val_loss: 0.0184 - val_mean_absolute_error: 0.1068 - val_mean_squared_error: 0.0235\n",
      "Epoch 99/100\n",
      "13/13 [==============================] - 1s 51ms/step - loss: 0.0156 - mean_absolute_error: 0.0966 - mean_squared_error: 0.0156 - val_loss: 0.0179 - val_mean_absolute_error: 0.1094 - val_mean_squared_error: 0.0228\n",
      "Epoch 100/100\n",
      "13/13 [==============================] - 1s 43ms/step - loss: 0.0163 - mean_absolute_error: 0.0986 - mean_squared_error: 0.0162 - val_loss: 0.0187 - val_mean_absolute_error: 0.1072 - val_mean_squared_error: 0.0237\n",
      "Best val_loss @ Epoch #57\n",
      "\n",
      "***Predictions from the best model.***\n",
      "\n",
      "For the training set:\n",
      "MAE: 0.6926 RMSE: 0.8695 R^2: 0.8255\n",
      "\n",
      "For the validation set:\n",
      "MAE: 0.7262 RMSE: 0.9508 R^2: 0.8240\n",
      "\n",
      "For the test set:\n",
      "MAE: 0.7797 RMSE: 0.9857 R^2: 0.6887\n",
      "\n",
      "******\n",
      "***Fold #1 initiated...***\n",
      "******\n",
      "***Sampling and splitting of the dataset.***\n",
      "\n",
      "Scaler: RobustScaler(copy=True, quantile_range=(5.0, 95.0), with_centering=True,\n",
      "             with_scaling=True)\n",
      "Train/valid/test splits: 0.80/0.10/0.10\n",
      "\n",
      "\n",
      "***Data augmentation to True***\n",
      "\n",
      "Enumerated SMILES:\n",
      "\tTraining set: 13046\n",
      "\tValidation set: 1405\n",
      "\tTest set: 1885\n",
      "\n",
      "***Tokenization of SMILES.***\n",
      "\n",
      "Examples of tokenized SMILES from a training set:\n",
      "[[' ', 'Cl', 'c', '1', 'c', 'c', 'c', 'c', '2', 'c', 'c', 'c', 'c', 'c', '1', '2', ' '], [' ', 'c', '1', '(', 'Cl', ')', 'c', 'c', 'c', 'c', '2', 'c', 'c', 'c', 'c', 'c', '1', '2', ' '], [' ', 'c', '1', 'c', 'c', 'c', '2', 'c', 'c', 'c', 'c', 'c', '2', 'c', '1', 'Cl', ' '], [' ', 'c', '1', 'c', 'c', '2', 'c', 'c', 'c', 'c', 'c', '2', 'c', '(', 'Cl', ')', 'c', '1', ' '], [' ', 'c', '1', 'c', '2', 'c', 'c', 'c', 'c', 'c', '2', 'c', '(', 'Cl', ')', 'c', 'c', '1', ' ']]\n",
      "\n",
      "Number of tokens only present in a training set: 35\n",
      "\n",
      "Number of tokens only present in a validation set: 30\n",
      "Is the validation set a subset of the training set: True\n",
      "What are the tokens by which they differ: set()\n",
      "\n",
      "Number of tokens only present in a test set: 31\n",
      "Is the test set a subset of the training set: True\n",
      "What are the tokens by which they differ: set()\n",
      "Is the test set a subset of the validation set: False\n",
      "What are the tokens by which they differ: {'\\\\', '/', '[C@H]', '[C@@H]'}\n",
      "\n",
      "Full vocabulary: ['#', '8', 'o', 'N', '5', 'S', '[C@@H]', '-', '[nH]', '[N+]', '/', '=', 'O', '6', '[n+]', 'Br', '7', ')', '4', '1', '(', 'P', ' ', 'F', '[C@H]', 'c', '3', '2', '\\\\', 'C', 'n', '[O-]', 's', 'I', 'Cl']\n",
      "Of size: 35\n",
      "\n",
      "Maximum length of tokenized SMILES: 107 tokens (termination spaces included)\n",
      "\n",
      "***Bayesian Optimization of the SMILESX's architecture.***\n",
      "\n",
      "Random initialization:\n",
      "\n",
      "Model: [[ 256.  256.  512. 1024.    3.]]\n",
      "Valid MAE: 0.2344, RMSE: 0.0956\n",
      "Optimization:\n",
      "\n",
      "\n",
      "The architecture for this datatset is:\n",
      "\tLSTM units: 256\n",
      "\tDense units: 256\n",
      "\tEmbedding dimensions 512\n",
      "\tBatch size: 1024\n",
      "\tLearning rate: 10^-(3.0)\n",
      "\n",
      "***Training of the best model.***\n",
      "\n",
      "Best model summary:\n",
      "\n",
      "Model: \"model_1\"\n",
      "_________________________________________________________________\n",
      "Layer (type)                 Output Shape              Param #   \n",
      "=================================================================\n",
      "input_1 (InputLayer)         (None, 108)               0         \n",
      "_________________________________________________________________\n",
      "embedding_1 (Embedding)      (None, 108, 512)          18944     \n",
      "_________________________________________________________________\n",
      "bidirectional_1 (Bidirection (None, 108, 512)          1576960   \n",
      "_________________________________________________________________\n",
      "time_distributed_1 (TimeDist (None, 108, 256)          131328    \n",
      "_________________________________________________________________\n",
      "attention_m_1 (AttentionM)   (None, 256)               364       \n",
      "_________________________________________________________________\n",
      "dense_2 (Dense)              (None, 1)                 257       \n",
      "=================================================================\n",
      "Total params: 1,727,853\n",
      "Trainable params: 1,727,853\n",
      "Non-trainable params: 0\n",
      "_________________________________________________________________\n",
      "None\n",
      "\n",
      "\n",
      "Epoch 1/100\n",
      "13/13 [==============================] - 2s 174ms/step - loss: 0.0770 - mean_absolute_error: 0.2163 - mean_squared_error: 0.0771 - val_loss: 0.0703 - val_mean_absolute_error: 0.2278 - val_mean_squared_error: 0.0761\n",
      "Epoch 2/100\n",
      "13/13 [==============================] - 2s 127ms/step - loss: 0.0517 - mean_absolute_error: 0.1851 - mean_squared_error: 0.0516 - val_loss: 0.0512 - val_mean_absolute_error: 0.1763 - val_mean_squared_error: 0.0525\n",
      "Epoch 3/100\n",
      "13/13 [==============================] - 2s 130ms/step - loss: 0.0365 - mean_absolute_error: 0.1506 - mean_squared_error: 0.0363 - val_loss: 0.0594 - val_mean_absolute_error: 0.1671 - val_mean_squared_error: 0.0457\n",
      "Epoch 4/100\n",
      "13/13 [==============================] - 2s 132ms/step - loss: 0.0276 - mean_absolute_error: 0.1300 - mean_squared_error: 0.0272 - val_loss: 0.0402 - val_mean_absolute_error: 0.1371 - val_mean_squared_error: 0.0308\n",
      "Epoch 5/100\n",
      "13/13 [==============================] - 2s 127ms/step - loss: 0.0248 - mean_absolute_error: 0.1235 - mean_squared_error: 0.0246 - val_loss: 0.0340 - val_mean_absolute_error: 0.1347 - val_mean_squared_error: 0.0299\n",
      "Epoch 6/100\n",
      "13/13 [==============================] - 2s 128ms/step - loss: 0.0235 - mean_absolute_error: 0.1180 - mean_squared_error: 0.0233 - val_loss: 0.0359 - val_mean_absolute_error: 0.1275 - val_mean_squared_error: 0.0260\n",
      "Epoch 7/100\n",
      "13/13 [==============================] - 2s 132ms/step - loss: 0.0218 - mean_absolute_error: 0.1146 - mean_squared_error: 0.0216 - val_loss: 0.0337 - val_mean_absolute_error: 0.1226 - val_mean_squared_error: 0.0246\n",
      "Epoch 8/100\n",
      "13/13 [==============================] - 2s 130ms/step - loss: 0.0223 - mean_absolute_error: 0.1160 - mean_squared_error: 0.0221 - val_loss: 0.0369 - val_mean_absolute_error: 0.1252 - val_mean_squared_error: 0.0260\n",
      "Epoch 9/100\n",
      "13/13 [==============================] - 2s 135ms/step - loss: 0.0228 - mean_absolute_error: 0.1180 - mean_squared_error: 0.0226 - val_loss: 0.0445 - val_mean_absolute_error: 0.1372 - val_mean_squared_error: 0.0304\n",
      "Epoch 10/100\n",
      "13/13 [==============================] - 2s 134ms/step - loss: 0.0219 - mean_absolute_error: 0.1152 - mean_squared_error: 0.0217 - val_loss: 0.0380 - val_mean_absolute_error: 0.1318 - val_mean_squared_error: 0.0278\n",
      "Epoch 11/100\n",
      "13/13 [==============================] - 2s 132ms/step - loss: 0.0211 - mean_absolute_error: 0.1129 - mean_squared_error: 0.0209 - val_loss: 0.0357 - val_mean_absolute_error: 0.1259 - val_mean_squared_error: 0.0254\n",
      "Epoch 12/100\n",
      "13/13 [==============================] - 2s 133ms/step - loss: 0.0215 - mean_absolute_error: 0.1134 - mean_squared_error: 0.0213 - val_loss: 0.0400 - val_mean_absolute_error: 0.1311 - val_mean_squared_error: 0.0278\n",
      "Epoch 13/100\n",
      "13/13 [==============================] - 2s 132ms/step - loss: 0.0210 - mean_absolute_error: 0.1135 - mean_squared_error: 0.0209 - val_loss: 0.0299 - val_mean_absolute_error: 0.1164 - val_mean_squared_error: 0.0227\n",
      "Epoch 14/100\n",
      "13/13 [==============================] - 2s 129ms/step - loss: 0.0197 - mean_absolute_error: 0.1104 - mean_squared_error: 0.0195 - val_loss: 0.0465 - val_mean_absolute_error: 0.1342 - val_mean_squared_error: 0.0289\n",
      "Epoch 15/100\n",
      "13/13 [==============================] - 2s 133ms/step - loss: 0.0225 - mean_absolute_error: 0.1158 - mean_squared_error: 0.0223 - val_loss: 0.0399 - val_mean_absolute_error: 0.1286 - val_mean_squared_error: 0.0276\n",
      "Epoch 16/100\n",
      "13/13 [==============================] - 2s 128ms/step - loss: 0.0201 - mean_absolute_error: 0.1106 - mean_squared_error: 0.0199 - val_loss: 0.0271 - val_mean_absolute_error: 0.1124 - val_mean_squared_error: 0.0209\n",
      "Epoch 17/100\n",
      "13/13 [==============================] - 2s 126ms/step - loss: 0.0195 - mean_absolute_error: 0.1081 - mean_squared_error: 0.0192 - val_loss: 0.0380 - val_mean_absolute_error: 0.1315 - val_mean_squared_error: 0.0269\n",
      "Epoch 18/100\n",
      "13/13 [==============================] - 2s 132ms/step - loss: 0.0203 - mean_absolute_error: 0.1108 - mean_squared_error: 0.0202 - val_loss: 0.0303 - val_mean_absolute_error: 0.1166 - val_mean_squared_error: 0.0229\n",
      "Epoch 19/100\n",
      "13/13 [==============================] - 2s 130ms/step - loss: 0.0182 - mean_absolute_error: 0.1052 - mean_squared_error: 0.0181 - val_loss: 0.0275 - val_mean_absolute_error: 0.1161 - val_mean_squared_error: 0.0226\n",
      "Epoch 20/100\n",
      "13/13 [==============================] - 2s 132ms/step - loss: 0.0199 - mean_absolute_error: 0.1114 - mean_squared_error: 0.0198 - val_loss: 0.0269 - val_mean_absolute_error: 0.1195 - val_mean_squared_error: 0.0242\n",
      "Epoch 21/100\n",
      "13/13 [==============================] - 2s 130ms/step - loss: 0.0196 - mean_absolute_error: 0.1095 - mean_squared_error: 0.0196 - val_loss: 0.0286 - val_mean_absolute_error: 0.1171 - val_mean_squared_error: 0.0233\n",
      "Epoch 22/100\n",
      "13/13 [==============================] - 2s 136ms/step - loss: 0.0181 - mean_absolute_error: 0.1045 - mean_squared_error: 0.0179 - val_loss: 0.0303 - val_mean_absolute_error: 0.1164 - val_mean_squared_error: 0.0221\n",
      "Epoch 23/100\n",
      "13/13 [==============================] - 2s 137ms/step - loss: 0.0178 - mean_absolute_error: 0.1042 - mean_squared_error: 0.0178 - val_loss: 0.0282 - val_mean_absolute_error: 0.1145 - val_mean_squared_error: 0.0221\n",
      "Epoch 24/100\n",
      "13/13 [==============================] - 2s 133ms/step - loss: 0.0171 - mean_absolute_error: 0.1000 - mean_squared_error: 0.0170 - val_loss: 0.0261 - val_mean_absolute_error: 0.1178 - val_mean_squared_error: 0.0235\n",
      "Epoch 25/100\n",
      "13/13 [==============================] - 2s 127ms/step - loss: 0.0175 - mean_absolute_error: 0.1028 - mean_squared_error: 0.0174 - val_loss: 0.0272 - val_mean_absolute_error: 0.1106 - val_mean_squared_error: 0.0212\n",
      "Epoch 26/100\n",
      "13/13 [==============================] - 2s 133ms/step - loss: 0.0174 - mean_absolute_error: 0.1023 - mean_squared_error: 0.0173 - val_loss: 0.0318 - val_mean_absolute_error: 0.1192 - val_mean_squared_error: 0.0228\n",
      "Epoch 27/100\n",
      "13/13 [==============================] - 2s 132ms/step - loss: 0.0169 - mean_absolute_error: 0.1026 - mean_squared_error: 0.0168 - val_loss: 0.0255 - val_mean_absolute_error: 0.1105 - val_mean_squared_error: 0.0207\n",
      "Epoch 28/100\n",
      "13/13 [==============================] - 2s 127ms/step - loss: 0.0184 - mean_absolute_error: 0.1063 - mean_squared_error: 0.0182 - val_loss: 0.0268 - val_mean_absolute_error: 0.1158 - val_mean_squared_error: 0.0226\n",
      "Epoch 29/100\n",
      "13/13 [==============================] - 2s 133ms/step - loss: 0.0175 - mean_absolute_error: 0.1034 - mean_squared_error: 0.0174 - val_loss: 0.0270 - val_mean_absolute_error: 0.1082 - val_mean_squared_error: 0.0207\n",
      "Epoch 30/100\n",
      "13/13 [==============================] - 2s 130ms/step - loss: 0.0175 - mean_absolute_error: 0.1033 - mean_squared_error: 0.0174 - val_loss: 0.0274 - val_mean_absolute_error: 0.1120 - val_mean_squared_error: 0.0217\n",
      "Epoch 31/100\n",
      "13/13 [==============================] - 2s 135ms/step - loss: 0.0172 - mean_absolute_error: 0.1019 - mean_squared_error: 0.0171 - val_loss: 0.0312 - val_mean_absolute_error: 0.1136 - val_mean_squared_error: 0.0225\n",
      "Epoch 32/100\n",
      "13/13 [==============================] - 2s 134ms/step - loss: 0.0170 - mean_absolute_error: 0.1020 - mean_squared_error: 0.0169 - val_loss: 0.0319 - val_mean_absolute_error: 0.1152 - val_mean_squared_error: 0.0222\n",
      "Epoch 33/100\n",
      "13/13 [==============================] - 2s 134ms/step - loss: 0.0178 - mean_absolute_error: 0.1041 - mean_squared_error: 0.0178 - val_loss: 0.0350 - val_mean_absolute_error: 0.1239 - val_mean_squared_error: 0.0276\n",
      "Epoch 34/100\n",
      "13/13 [==============================] - 2s 133ms/step - loss: 0.0191 - mean_absolute_error: 0.1076 - mean_squared_error: 0.0188 - val_loss: 0.0307 - val_mean_absolute_error: 0.1166 - val_mean_squared_error: 0.0236\n",
      "Epoch 35/100\n",
      "13/13 [==============================] - 2s 134ms/step - loss: 0.0176 - mean_absolute_error: 0.1037 - mean_squared_error: 0.0175 - val_loss: 0.0278 - val_mean_absolute_error: 0.1137 - val_mean_squared_error: 0.0217\n",
      "Epoch 36/100\n",
      "13/13 [==============================] - 2s 134ms/step - loss: 0.0160 - mean_absolute_error: 0.0985 - mean_squared_error: 0.0159 - val_loss: 0.0228 - val_mean_absolute_error: 0.1112 - val_mean_squared_error: 0.0208\n",
      "Epoch 37/100\n",
      "13/13 [==============================] - 2s 127ms/step - loss: 0.0156 - mean_absolute_error: 0.0976 - mean_squared_error: 0.0156 - val_loss: 0.0240 - val_mean_absolute_error: 0.1147 - val_mean_squared_error: 0.0219\n",
      "Epoch 38/100\n",
      "13/13 [==============================] - 2s 133ms/step - loss: 0.0158 - mean_absolute_error: 0.0977 - mean_squared_error: 0.0158 - val_loss: 0.0250 - val_mean_absolute_error: 0.1082 - val_mean_squared_error: 0.0207\n",
      "Epoch 39/100\n",
      "13/13 [==============================] - 2s 135ms/step - loss: 0.0147 - mean_absolute_error: 0.0941 - mean_squared_error: 0.0147 - val_loss: 0.0265 - val_mean_absolute_error: 0.1132 - val_mean_squared_error: 0.0217\n",
      "Epoch 40/100\n",
      "13/13 [==============================] - 2s 134ms/step - loss: 0.0142 - mean_absolute_error: 0.0927 - mean_squared_error: 0.0141 - val_loss: 0.0273 - val_mean_absolute_error: 0.1109 - val_mean_squared_error: 0.0209\n",
      "Epoch 41/100\n",
      "13/13 [==============================] - 2s 134ms/step - loss: 0.0149 - mean_absolute_error: 0.0942 - mean_squared_error: 0.0148 - val_loss: 0.0256 - val_mean_absolute_error: 0.1052 - val_mean_squared_error: 0.0193\n",
      "Epoch 42/100\n",
      "13/13 [==============================] - 2s 135ms/step - loss: 0.0146 - mean_absolute_error: 0.0927 - mean_squared_error: 0.0145 - val_loss: 0.0255 - val_mean_absolute_error: 0.1053 - val_mean_squared_error: 0.0184\n",
      "Epoch 43/100\n",
      "13/13 [==============================] - 2s 135ms/step - loss: 0.0143 - mean_absolute_error: 0.0929 - mean_squared_error: 0.0142 - val_loss: 0.0254 - val_mean_absolute_error: 0.1078 - val_mean_squared_error: 0.0198\n",
      "Epoch 44/100\n",
      "13/13 [==============================] - 2s 134ms/step - loss: 0.0137 - mean_absolute_error: 0.0909 - mean_squared_error: 0.0136 - val_loss: 0.0266 - val_mean_absolute_error: 0.1037 - val_mean_squared_error: 0.0188\n",
      "Epoch 45/100\n",
      "13/13 [==============================] - 2s 133ms/step - loss: 0.0139 - mean_absolute_error: 0.0908 - mean_squared_error: 0.0138 - val_loss: 0.0276 - val_mean_absolute_error: 0.1030 - val_mean_squared_error: 0.0188\n",
      "Epoch 46/100\n",
      "13/13 [==============================] - 2s 135ms/step - loss: 0.0137 - mean_absolute_error: 0.0906 - mean_squared_error: 0.0136 - val_loss: 0.0235 - val_mean_absolute_error: 0.1027 - val_mean_squared_error: 0.0186\n",
      "Epoch 47/100\n",
      "13/13 [==============================] - 2s 136ms/step - loss: 0.0140 - mean_absolute_error: 0.0909 - mean_squared_error: 0.0138 - val_loss: 0.0227 - val_mean_absolute_error: 0.0993 - val_mean_squared_error: 0.0171\n",
      "Epoch 48/100\n",
      "13/13 [==============================] - 2s 126ms/step - loss: 0.0128 - mean_absolute_error: 0.0881 - mean_squared_error: 0.0128 - val_loss: 0.0304 - val_mean_absolute_error: 0.1037 - val_mean_squared_error: 0.0191\n",
      "Epoch 49/100\n",
      "13/13 [==============================] - 2s 133ms/step - loss: 0.0131 - mean_absolute_error: 0.0890 - mean_squared_error: 0.0130 - val_loss: 0.0243 - val_mean_absolute_error: 0.0969 - val_mean_squared_error: 0.0166\n",
      "Epoch 50/100\n",
      "13/13 [==============================] - 2s 135ms/step - loss: 0.0126 - mean_absolute_error: 0.0872 - mean_squared_error: 0.0126 - val_loss: 0.0227 - val_mean_absolute_error: 0.0969 - val_mean_squared_error: 0.0170\n",
      "Epoch 51/100\n",
      "13/13 [==============================] - 2s 134ms/step - loss: 0.0128 - mean_absolute_error: 0.0872 - mean_squared_error: 0.0128 - val_loss: 0.0272 - val_mean_absolute_error: 0.1057 - val_mean_squared_error: 0.0198\n",
      "Epoch 52/100\n",
      "13/13 [==============================] - 2s 133ms/step - loss: 0.0123 - mean_absolute_error: 0.0864 - mean_squared_error: 0.0123 - val_loss: 0.0238 - val_mean_absolute_error: 0.1025 - val_mean_squared_error: 0.0175\n",
      "Epoch 53/100\n",
      "13/13 [==============================] - 2s 134ms/step - loss: 0.0120 - mean_absolute_error: 0.0853 - mean_squared_error: 0.0120 - val_loss: 0.0230 - val_mean_absolute_error: 0.0994 - val_mean_squared_error: 0.0167\n",
      "Epoch 54/100\n",
      "13/13 [==============================] - 2s 138ms/step - loss: 0.0110 - mean_absolute_error: 0.0814 - mean_squared_error: 0.0109 - val_loss: 0.0212 - val_mean_absolute_error: 0.0964 - val_mean_squared_error: 0.0157\n",
      "Epoch 55/100\n",
      "13/13 [==============================] - 2s 128ms/step - loss: 0.0112 - mean_absolute_error: 0.0824 - mean_squared_error: 0.0113 - val_loss: 0.0245 - val_mean_absolute_error: 0.0972 - val_mean_squared_error: 0.0165\n",
      "Epoch 56/100\n",
      "13/13 [==============================] - 2s 131ms/step - loss: 0.0116 - mean_absolute_error: 0.0828 - mean_squared_error: 0.0116 - val_loss: 0.0257 - val_mean_absolute_error: 0.1012 - val_mean_squared_error: 0.0177\n",
      "Epoch 57/100\n",
      "13/13 [==============================] - 2s 135ms/step - loss: 0.0115 - mean_absolute_error: 0.0834 - mean_squared_error: 0.0114 - val_loss: 0.0283 - val_mean_absolute_error: 0.1118 - val_mean_squared_error: 0.0195\n",
      "Epoch 58/100\n",
      "13/13 [==============================] - 2s 134ms/step - loss: 0.0119 - mean_absolute_error: 0.0852 - mean_squared_error: 0.0119 - val_loss: 0.0187 - val_mean_absolute_error: 0.0901 - val_mean_squared_error: 0.0141\n",
      "Epoch 59/100\n",
      "13/13 [==============================] - 2s 127ms/step - loss: 0.0115 - mean_absolute_error: 0.0834 - mean_squared_error: 0.0115 - val_loss: 0.0213 - val_mean_absolute_error: 0.0927 - val_mean_squared_error: 0.0151\n",
      "Epoch 60/100\n",
      "13/13 [==============================] - 2s 137ms/step - loss: 0.0104 - mean_absolute_error: 0.0783 - mean_squared_error: 0.0104 - val_loss: 0.0249 - val_mean_absolute_error: 0.0944 - val_mean_squared_error: 0.0162\n",
      "Epoch 61/100\n",
      "13/13 [==============================] - 2s 135ms/step - loss: 0.0103 - mean_absolute_error: 0.0779 - mean_squared_error: 0.0103 - val_loss: 0.0223 - val_mean_absolute_error: 0.0930 - val_mean_squared_error: 0.0149\n",
      "Epoch 62/100\n",
      "13/13 [==============================] - 2s 135ms/step - loss: 0.0099 - mean_absolute_error: 0.0768 - mean_squared_error: 0.0099 - val_loss: 0.0218 - val_mean_absolute_error: 0.0905 - val_mean_squared_error: 0.0150\n",
      "Epoch 63/100\n",
      "13/13 [==============================] - 2s 138ms/step - loss: 0.0100 - mean_absolute_error: 0.0771 - mean_squared_error: 0.0100 - val_loss: 0.0238 - val_mean_absolute_error: 0.0986 - val_mean_squared_error: 0.0168\n",
      "Epoch 64/100\n",
      "13/13 [==============================] - 2s 132ms/step - loss: 0.0111 - mean_absolute_error: 0.0815 - mean_squared_error: 0.0110 - val_loss: 0.0251 - val_mean_absolute_error: 0.1058 - val_mean_squared_error: 0.0198\n",
      "Epoch 65/100\n",
      "13/13 [==============================] - 2s 133ms/step - loss: 0.0108 - mean_absolute_error: 0.0799 - mean_squared_error: 0.0108 - val_loss: 0.0194 - val_mean_absolute_error: 0.0913 - val_mean_squared_error: 0.0148\n",
      "Epoch 66/100\n",
      "13/13 [==============================] - 2s 132ms/step - loss: 0.0097 - mean_absolute_error: 0.0762 - mean_squared_error: 0.0097 - val_loss: 0.0253 - val_mean_absolute_error: 0.0973 - val_mean_squared_error: 0.0175\n",
      "Epoch 67/100\n",
      "13/13 [==============================] - 2s 135ms/step - loss: 0.0103 - mean_absolute_error: 0.0778 - mean_squared_error: 0.0103 - val_loss: 0.0209 - val_mean_absolute_error: 0.0931 - val_mean_squared_error: 0.0150\n",
      "Epoch 68/100\n",
      "13/13 [==============================] - 2s 137ms/step - loss: 0.0093 - mean_absolute_error: 0.0743 - mean_squared_error: 0.0093 - val_loss: 0.0210 - val_mean_absolute_error: 0.0890 - val_mean_squared_error: 0.0140\n",
      "Epoch 69/100\n",
      "13/13 [==============================] - 2s 131ms/step - loss: 0.0089 - mean_absolute_error: 0.0727 - mean_squared_error: 0.0089 - val_loss: 0.0213 - val_mean_absolute_error: 0.0893 - val_mean_squared_error: 0.0144\n",
      "Epoch 70/100\n",
      "13/13 [==============================] - 2s 132ms/step - loss: 0.0087 - mean_absolute_error: 0.0714 - mean_squared_error: 0.0087 - val_loss: 0.0234 - val_mean_absolute_error: 0.0940 - val_mean_squared_error: 0.0157\n",
      "Epoch 71/100\n",
      "13/13 [==============================] - 2s 136ms/step - loss: 0.0088 - mean_absolute_error: 0.0721 - mean_squared_error: 0.0088 - val_loss: 0.0267 - val_mean_absolute_error: 0.0972 - val_mean_squared_error: 0.0168\n",
      "Epoch 72/100\n",
      "13/13 [==============================] - 2s 137ms/step - loss: 0.0090 - mean_absolute_error: 0.0732 - mean_squared_error: 0.0090 - val_loss: 0.0196 - val_mean_absolute_error: 0.0909 - val_mean_squared_error: 0.0145\n",
      "Epoch 73/100\n",
      "13/13 [==============================] - 2s 133ms/step - loss: 0.0085 - mean_absolute_error: 0.0712 - mean_squared_error: 0.0085 - val_loss: 0.0219 - val_mean_absolute_error: 0.0913 - val_mean_squared_error: 0.0148\n",
      "Epoch 74/100\n",
      "13/13 [==============================] - 2s 135ms/step - loss: 0.0081 - mean_absolute_error: 0.0697 - mean_squared_error: 0.0081 - val_loss: 0.0238 - val_mean_absolute_error: 0.0917 - val_mean_squared_error: 0.0153\n",
      "Epoch 75/100\n",
      "13/13 [==============================] - 2s 134ms/step - loss: 0.0085 - mean_absolute_error: 0.0711 - mean_squared_error: 0.0085 - val_loss: 0.0225 - val_mean_absolute_error: 0.0880 - val_mean_squared_error: 0.0144\n",
      "Epoch 76/100\n",
      "13/13 [==============================] - 2s 133ms/step - loss: 0.0086 - mean_absolute_error: 0.0713 - mean_squared_error: 0.0087 - val_loss: 0.0206 - val_mean_absolute_error: 0.0922 - val_mean_squared_error: 0.0143\n",
      "Epoch 77/100\n",
      "13/13 [==============================] - 2s 133ms/step - loss: 0.0081 - mean_absolute_error: 0.0698 - mean_squared_error: 0.0082 - val_loss: 0.0177 - val_mean_absolute_error: 0.0850 - val_mean_squared_error: 0.0130\n",
      "Epoch 78/100\n",
      "13/13 [==============================] - 2s 127ms/step - loss: 0.0079 - mean_absolute_error: 0.0682 - mean_squared_error: 0.0079 - val_loss: 0.0201 - val_mean_absolute_error: 0.0911 - val_mean_squared_error: 0.0150\n",
      "Epoch 79/100\n",
      "13/13 [==============================] - 2s 137ms/step - loss: 0.0080 - mean_absolute_error: 0.0685 - mean_squared_error: 0.0080 - val_loss: 0.0194 - val_mean_absolute_error: 0.0935 - val_mean_squared_error: 0.0153\n",
      "Epoch 80/100\n",
      "13/13 [==============================] - 2s 134ms/step - loss: 0.0075 - mean_absolute_error: 0.0669 - mean_squared_error: 0.0075 - val_loss: 0.0246 - val_mean_absolute_error: 0.0980 - val_mean_squared_error: 0.0172\n",
      "Epoch 81/100\n",
      "13/13 [==============================] - 2s 136ms/step - loss: 0.0083 - mean_absolute_error: 0.0704 - mean_squared_error: 0.0083 - val_loss: 0.0252 - val_mean_absolute_error: 0.0951 - val_mean_squared_error: 0.0166\n",
      "Epoch 82/100\n",
      "13/13 [==============================] - 2s 133ms/step - loss: 0.0082 - mean_absolute_error: 0.0701 - mean_squared_error: 0.0083 - val_loss: 0.0260 - val_mean_absolute_error: 0.0950 - val_mean_squared_error: 0.0162\n",
      "Epoch 83/100\n",
      "13/13 [==============================] - 2s 135ms/step - loss: 0.0084 - mean_absolute_error: 0.0706 - mean_squared_error: 0.0085 - val_loss: 0.0223 - val_mean_absolute_error: 0.1000 - val_mean_squared_error: 0.0166\n",
      "Epoch 84/100\n",
      "13/13 [==============================] - 2s 134ms/step - loss: 0.0080 - mean_absolute_error: 0.0694 - mean_squared_error: 0.0080 - val_loss: 0.0216 - val_mean_absolute_error: 0.0913 - val_mean_squared_error: 0.0154\n",
      "Epoch 85/100\n",
      "13/13 [==============================] - 2s 133ms/step - loss: 0.0077 - mean_absolute_error: 0.0678 - mean_squared_error: 0.0077 - val_loss: 0.0236 - val_mean_absolute_error: 0.0947 - val_mean_squared_error: 0.0166\n",
      "Epoch 86/100\n",
      "13/13 [==============================] - 2s 133ms/step - loss: 0.0075 - mean_absolute_error: 0.0676 - mean_squared_error: 0.0075 - val_loss: 0.0261 - val_mean_absolute_error: 0.0903 - val_mean_squared_error: 0.0153\n",
      "Epoch 87/100\n",
      "13/13 [==============================] - 2s 137ms/step - loss: 0.0079 - mean_absolute_error: 0.0691 - mean_squared_error: 0.0079 - val_loss: 0.0219 - val_mean_absolute_error: 0.0912 - val_mean_squared_error: 0.0145\n",
      "Epoch 88/100\n",
      "13/13 [==============================] - 2s 136ms/step - loss: 0.0073 - mean_absolute_error: 0.0663 - mean_squared_error: 0.0074 - val_loss: 0.0176 - val_mean_absolute_error: 0.0901 - val_mean_squared_error: 0.0142\n",
      "Epoch 89/100\n",
      "13/13 [==============================] - 2s 131ms/step - loss: 0.0071 - mean_absolute_error: 0.0656 - mean_squared_error: 0.0072 - val_loss: 0.0252 - val_mean_absolute_error: 0.0940 - val_mean_squared_error: 0.0168\n",
      "Epoch 90/100\n",
      "13/13 [==============================] - 2s 136ms/step - loss: 0.0070 - mean_absolute_error: 0.0650 - mean_squared_error: 0.0071 - val_loss: 0.0227 - val_mean_absolute_error: 0.0876 - val_mean_squared_error: 0.0146\n",
      "Epoch 91/100\n",
      "13/13 [==============================] - 2s 134ms/step - loss: 0.0065 - mean_absolute_error: 0.0623 - mean_squared_error: 0.0065 - val_loss: 0.0216 - val_mean_absolute_error: 0.0875 - val_mean_squared_error: 0.0144\n",
      "Epoch 92/100\n",
      "13/13 [==============================] - 2s 132ms/step - loss: 0.0065 - mean_absolute_error: 0.0618 - mean_squared_error: 0.0065 - val_loss: 0.0196 - val_mean_absolute_error: 0.0894 - val_mean_squared_error: 0.0146\n",
      "Epoch 93/100\n",
      "13/13 [==============================] - 2s 133ms/step - loss: 0.0064 - mean_absolute_error: 0.0620 - mean_squared_error: 0.0064 - val_loss: 0.0195 - val_mean_absolute_error: 0.0943 - val_mean_squared_error: 0.0141\n",
      "Epoch 94/100\n",
      "13/13 [==============================] - 2s 134ms/step - loss: 0.0072 - mean_absolute_error: 0.0660 - mean_squared_error: 0.0072 - val_loss: 0.0193 - val_mean_absolute_error: 0.0857 - val_mean_squared_error: 0.0135\n",
      "Epoch 95/100\n",
      "13/13 [==============================] - 2s 131ms/step - loss: 0.0062 - mean_absolute_error: 0.0605 - mean_squared_error: 0.0063 - val_loss: 0.0196 - val_mean_absolute_error: 0.0818 - val_mean_squared_error: 0.0124\n",
      "Epoch 96/100\n",
      "13/13 [==============================] - 2s 133ms/step - loss: 0.0059 - mean_absolute_error: 0.0586 - mean_squared_error: 0.0059 - val_loss: 0.0207 - val_mean_absolute_error: 0.0869 - val_mean_squared_error: 0.0134\n",
      "Epoch 97/100\n",
      "13/13 [==============================] - 2s 136ms/step - loss: 0.0056 - mean_absolute_error: 0.0573 - mean_squared_error: 0.0056 - val_loss: 0.0207 - val_mean_absolute_error: 0.0847 - val_mean_squared_error: 0.0132\n",
      "Epoch 98/100\n",
      "13/13 [==============================] - 2s 132ms/step - loss: 0.0059 - mean_absolute_error: 0.0597 - mean_squared_error: 0.0059 - val_loss: 0.0218 - val_mean_absolute_error: 0.0853 - val_mean_squared_error: 0.0137\n",
      "Epoch 99/100\n",
      "13/13 [==============================] - 2s 134ms/step - loss: 0.0059 - mean_absolute_error: 0.0599 - mean_squared_error: 0.0060 - val_loss: 0.0249 - val_mean_absolute_error: 0.0895 - val_mean_squared_error: 0.0149\n",
      "Epoch 100/100\n",
      "13/13 [==============================] - 2s 135ms/step - loss: 0.0065 - mean_absolute_error: 0.0621 - mean_squared_error: 0.0066 - val_loss: 0.0200 - val_mean_absolute_error: 0.0853 - val_mean_squared_error: 0.0126\n",
      "Best val_loss @ Epoch #88\n",
      "\n",
      "***Predictions from the best model.***\n",
      "\n",
      "For the training set:\n",
      "MAE: 0.4394 RMSE: 0.5616 R^2: 0.9290\n",
      "\n",
      "For the validation set:\n",
      "MAE: 0.5188 RMSE: 0.7050 R^2: 0.8922\n",
      "\n",
      "For the test set:\n",
      "MAE: 0.5728 RMSE: 0.7434 R^2: 0.8048\n",
      "\n",
      "******\n",
      "***Fold #2 initiated...***\n",
      "******\n",
      "***Sampling and splitting of the dataset.***\n",
      "\n",
      "Scaler: RobustScaler(copy=True, quantile_range=(5.0, 95.0), with_centering=True,\n",
      "             with_scaling=True)\n",
      "Train/valid/test splits: 0.80/0.10/0.10\n",
      "\n",
      "\n",
      "***Data augmentation to True***\n",
      "\n",
      "Enumerated SMILES:\n",
      "\tTraining set: 13035\n",
      "\tValidation set: 1452\n",
      "\tTest set: 1849\n",
      "\n",
      "***Tokenization of SMILES.***\n",
      "\n",
      "Examples of tokenized SMILES from a training set:\n",
      "[[' ', 'C', 'C', 'C', 'C', 'C', 'C', '=', 'O', ' '], [' ', 'C', '(', 'C', 'C', 'C', 'C', '=', 'O', ')', 'C', ' '], [' ', 'C', '(', 'C', 'C', 'C', '=', 'O', ')', 'C', 'C', ' '], [' ', 'C', '(', 'C', 'C', '=', 'O', ')', 'C', 'C', 'C', ' '], [' ', 'C', '(', 'C', '=', 'O', ')', 'C', 'C', 'C', 'C', ' ']]\n",
      "\n",
      "Number of tokens only present in a training set: 35\n",
      "\n",
      "Number of tokens only present in a validation set: 30\n",
      "Is the validation set a subset of the training set: True\n",
      "What are the tokens by which they differ: set()\n",
      "\n",
      "Number of tokens only present in a test set: 32\n",
      "Is the test set a subset of the training set: True\n",
      "What are the tokens by which they differ: set()\n",
      "Is the test set a subset of the validation set: False\n",
      "What are the tokens by which they differ: {'I', '[n+]', '[C@H]', '[C@@H]'}\n",
      "\n",
      "Full vocabulary: ['#', '8', 'o', 'N', '5', 'S', '[C@@H]', '-', '[nH]', '[N+]', '/', '=', 'O', '6', '[n+]', 'Br', '7', ')', '4', '1', '(', 'P', ' ', 'F', '[C@H]', 'c', '3', '2', '\\\\', 'C', 'n', '[O-]', 's', 'I', 'Cl']\n",
      "Of size: 35\n",
      "\n",
      "Maximum length of tokenized SMILES: 107 tokens (termination spaces included)\n",
      "\n",
      "***Bayesian Optimization of the SMILESX's architecture.***\n",
      "\n",
      "Random initialization:\n",
      "\n",
      "Model: [[ 128.    8.   64. 1024.    3.]]\n",
      "Valid MAE: 0.2652, RMSE: 0.1056\n",
      "Optimization:\n",
      "\n",
      "\n",
      "The architecture for this datatset is:\n",
      "\tLSTM units: 128\n",
      "\tDense units: 8\n",
      "\tEmbedding dimensions 64\n",
      "\tBatch size: 1024\n",
      "\tLearning rate: 10^-(3.0)\n",
      "\n",
      "***Training of the best model.***\n",
      "\n",
      "Best model summary:\n",
      "\n",
      "Model: \"model_1\"\n",
      "_________________________________________________________________\n",
      "Layer (type)                 Output Shape              Param #   \n",
      "=================================================================\n",
      "input_1 (InputLayer)         (None, 108)               0         \n",
      "_________________________________________________________________\n",
      "embedding_1 (Embedding)      (None, 108, 64)           2368      \n",
      "_________________________________________________________________\n",
      "bidirectional_1 (Bidirection (None, 108, 256)          198656    \n",
      "_________________________________________________________________\n",
      "time_distributed_1 (TimeDist (None, 108, 8)            2056      \n",
      "_________________________________________________________________\n",
      "attention_m_1 (AttentionM)   (None, 8)                 116       \n",
      "_________________________________________________________________\n",
      "dense_2 (Dense)              (None, 1)                 9         \n",
      "=================================================================\n",
      "Total params: 203,205\n",
      "Trainable params: 203,205\n",
      "Non-trainable params: 0\n",
      "_________________________________________________________________\n",
      "None\n",
      "\n",
      "\n",
      "Epoch 1/100\n",
      "13/13 [==============================] - 1s 81ms/step - loss: 0.0713 - mean_absolute_error: 0.2073 - mean_squared_error: 0.0715 - val_loss: 0.0445 - val_mean_absolute_error: 0.2253 - val_mean_squared_error: 0.0782\n",
      "Epoch 2/100\n",
      "13/13 [==============================] - 1s 41ms/step - loss: 0.0642 - mean_absolute_error: 0.2018 - mean_squared_error: 0.0645 - val_loss: 0.0703 - val_mean_absolute_error: 0.2449 - val_mean_squared_error: 0.0944\n",
      "Epoch 3/100\n",
      "13/13 [==============================] - 1s 59ms/step - loss: 0.0545 - mean_absolute_error: 0.1850 - mean_squared_error: 0.0548 - val_loss: 0.0571 - val_mean_absolute_error: 0.2066 - val_mean_squared_error: 0.0677\n",
      "Epoch 4/100\n",
      "13/13 [==============================] - 1s 58ms/step - loss: 0.0472 - mean_absolute_error: 0.1723 - mean_squared_error: 0.0474 - val_loss: 0.0374 - val_mean_absolute_error: 0.1708 - val_mean_squared_error: 0.0474\n",
      "Epoch 5/100\n",
      "13/13 [==============================] - 1s 49ms/step - loss: 0.0370 - mean_absolute_error: 0.1477 - mean_squared_error: 0.0371 - val_loss: 0.0510 - val_mean_absolute_error: 0.1744 - val_mean_squared_error: 0.0505\n",
      "Epoch 6/100\n",
      "13/13 [==============================] - 1s 61ms/step - loss: 0.0306 - mean_absolute_error: 0.1379 - mean_squared_error: 0.0306 - val_loss: 0.0321 - val_mean_absolute_error: 0.1413 - val_mean_squared_error: 0.0327\n",
      "Epoch 7/100\n",
      "13/13 [==============================] - 1s 52ms/step - loss: 0.0294 - mean_absolute_error: 0.1335 - mean_squared_error: 0.0294 - val_loss: 0.0444 - val_mean_absolute_error: 0.1631 - val_mean_squared_error: 0.0414\n",
      "Epoch 8/100\n",
      "13/13 [==============================] - 1s 59ms/step - loss: 0.0276 - mean_absolute_error: 0.1294 - mean_squared_error: 0.0272 - val_loss: 0.0341 - val_mean_absolute_error: 0.1495 - val_mean_squared_error: 0.0351\n",
      "Epoch 9/100\n",
      "13/13 [==============================] - 1s 65ms/step - loss: 0.0267 - mean_absolute_error: 0.1255 - mean_squared_error: 0.0266 - val_loss: 0.0358 - val_mean_absolute_error: 0.1547 - val_mean_squared_error: 0.0365\n",
      "Epoch 10/100\n",
      "13/13 [==============================] - 1s 53ms/step - loss: 0.0248 - mean_absolute_error: 0.1231 - mean_squared_error: 0.0248 - val_loss: 0.0386 - val_mean_absolute_error: 0.1531 - val_mean_squared_error: 0.0370\n",
      "Epoch 11/100\n",
      "13/13 [==============================] - 1s 61ms/step - loss: 0.0238 - mean_absolute_error: 0.1193 - mean_squared_error: 0.0238 - val_loss: 0.0381 - val_mean_absolute_error: 0.1572 - val_mean_squared_error: 0.0381\n",
      "Epoch 12/100\n",
      "13/13 [==============================] - 1s 55ms/step - loss: 0.0239 - mean_absolute_error: 0.1196 - mean_squared_error: 0.0239 - val_loss: 0.0320 - val_mean_absolute_error: 0.1378 - val_mean_squared_error: 0.0300\n",
      "Epoch 13/100\n",
      "13/13 [==============================] - 1s 60ms/step - loss: 0.0240 - mean_absolute_error: 0.1216 - mean_squared_error: 0.0240 - val_loss: 0.0671 - val_mean_absolute_error: 0.1798 - val_mean_squared_error: 0.0521\n",
      "Epoch 14/100\n",
      "13/13 [==============================] - 1s 61ms/step - loss: 0.0284 - mean_absolute_error: 0.1327 - mean_squared_error: 0.0284 - val_loss: 0.0440 - val_mean_absolute_error: 0.1842 - val_mean_squared_error: 0.0525\n",
      "Epoch 15/100\n",
      "13/13 [==============================] - 1s 53ms/step - loss: 0.0285 - mean_absolute_error: 0.1338 - mean_squared_error: 0.0285 - val_loss: 0.0318 - val_mean_absolute_error: 0.1514 - val_mean_squared_error: 0.0347\n",
      "Epoch 16/100\n",
      "13/13 [==============================] - 1s 46ms/step - loss: 0.0231 - mean_absolute_error: 0.1187 - mean_squared_error: 0.0231 - val_loss: 0.0348 - val_mean_absolute_error: 0.1413 - val_mean_squared_error: 0.0318\n",
      "Epoch 17/100\n",
      "13/13 [==============================] - 1s 62ms/step - loss: 0.0217 - mean_absolute_error: 0.1149 - mean_squared_error: 0.0216 - val_loss: 0.0408 - val_mean_absolute_error: 0.1452 - val_mean_squared_error: 0.0336\n",
      "Epoch 18/100\n",
      "13/13 [==============================] - 1s 53ms/step - loss: 0.0211 - mean_absolute_error: 0.1127 - mean_squared_error: 0.0211 - val_loss: 0.0344 - val_mean_absolute_error: 0.1383 - val_mean_squared_error: 0.0305\n",
      "Epoch 19/100\n",
      "13/13 [==============================] - 1s 57ms/step - loss: 0.0207 - mean_absolute_error: 0.1111 - mean_squared_error: 0.0207 - val_loss: 0.0393 - val_mean_absolute_error: 0.1480 - val_mean_squared_error: 0.0349\n",
      "Epoch 20/100\n",
      "13/13 [==============================] - 1s 55ms/step - loss: 0.0213 - mean_absolute_error: 0.1135 - mean_squared_error: 0.0212 - val_loss: 0.0366 - val_mean_absolute_error: 0.1557 - val_mean_squared_error: 0.0383\n",
      "Epoch 21/100\n",
      "13/13 [==============================] - 1s 56ms/step - loss: 0.0229 - mean_absolute_error: 0.1178 - mean_squared_error: 0.0228 - val_loss: 0.0382 - val_mean_absolute_error: 0.1491 - val_mean_squared_error: 0.0352\n",
      "Epoch 22/100\n",
      "13/13 [==============================] - 1s 60ms/step - loss: 0.0224 - mean_absolute_error: 0.1170 - mean_squared_error: 0.0224 - val_loss: 0.0347 - val_mean_absolute_error: 0.1341 - val_mean_squared_error: 0.0299\n",
      "Epoch 23/100\n",
      "13/13 [==============================] - 1s 56ms/step - loss: 0.0208 - mean_absolute_error: 0.1142 - mean_squared_error: 0.0207 - val_loss: 0.0335 - val_mean_absolute_error: 0.1388 - val_mean_squared_error: 0.0313\n",
      "Epoch 24/100\n",
      "13/13 [==============================] - 1s 56ms/step - loss: 0.0202 - mean_absolute_error: 0.1079 - mean_squared_error: 0.0199 - val_loss: 0.0314 - val_mean_absolute_error: 0.1319 - val_mean_squared_error: 0.0285\n",
      "Epoch 25/100\n",
      "13/13 [==============================] - 1s 51ms/step - loss: 0.0206 - mean_absolute_error: 0.1112 - mean_squared_error: 0.0206 - val_loss: 0.0361 - val_mean_absolute_error: 0.1455 - val_mean_squared_error: 0.0332\n",
      "Epoch 26/100\n",
      "13/13 [==============================] - 1s 58ms/step - loss: 0.0203 - mean_absolute_error: 0.1121 - mean_squared_error: 0.0203 - val_loss: 0.0383 - val_mean_absolute_error: 0.1451 - val_mean_squared_error: 0.0336\n",
      "Epoch 27/100\n",
      "13/13 [==============================] - 1s 63ms/step - loss: 0.0196 - mean_absolute_error: 0.1086 - mean_squared_error: 0.0195 - val_loss: 0.0290 - val_mean_absolute_error: 0.1328 - val_mean_squared_error: 0.0286\n",
      "Epoch 28/100\n",
      "13/13 [==============================] - 1s 47ms/step - loss: 0.0199 - mean_absolute_error: 0.1082 - mean_squared_error: 0.0197 - val_loss: 0.0309 - val_mean_absolute_error: 0.1402 - val_mean_squared_error: 0.0304\n",
      "Epoch 29/100\n",
      "13/13 [==============================] - 1s 62ms/step - loss: 0.0197 - mean_absolute_error: 0.1103 - mean_squared_error: 0.0197 - val_loss: 0.0347 - val_mean_absolute_error: 0.1497 - val_mean_squared_error: 0.0366\n",
      "Epoch 30/100\n",
      "13/13 [==============================] - 1s 63ms/step - loss: 0.0196 - mean_absolute_error: 0.1091 - mean_squared_error: 0.0196 - val_loss: 0.0362 - val_mean_absolute_error: 0.1403 - val_mean_squared_error: 0.0318\n",
      "Epoch 31/100\n",
      "13/13 [==============================] - 1s 58ms/step - loss: 0.0203 - mean_absolute_error: 0.1114 - mean_squared_error: 0.0202 - val_loss: 0.0352 - val_mean_absolute_error: 0.1485 - val_mean_squared_error: 0.0357\n",
      "Epoch 32/100\n",
      "13/13 [==============================] - 1s 61ms/step - loss: 0.0189 - mean_absolute_error: 0.1061 - mean_squared_error: 0.0188 - val_loss: 0.0326 - val_mean_absolute_error: 0.1416 - val_mean_squared_error: 0.0326\n",
      "Epoch 33/100\n",
      "13/13 [==============================] - 1s 63ms/step - loss: 0.0182 - mean_absolute_error: 0.1053 - mean_squared_error: 0.0182 - val_loss: 0.0303 - val_mean_absolute_error: 0.1342 - val_mean_squared_error: 0.0298\n",
      "Epoch 34/100\n",
      "13/13 [==============================] - 1s 63ms/step - loss: 0.0191 - mean_absolute_error: 0.1069 - mean_squared_error: 0.0190 - val_loss: 0.0261 - val_mean_absolute_error: 0.1207 - val_mean_squared_error: 0.0250\n",
      "Epoch 35/100\n",
      "13/13 [==============================] - 1s 49ms/step - loss: 0.0199 - mean_absolute_error: 0.1088 - mean_squared_error: 0.0198 - val_loss: 0.0274 - val_mean_absolute_error: 0.1273 - val_mean_squared_error: 0.0268\n",
      "Epoch 36/100\n",
      "13/13 [==============================] - 1s 61ms/step - loss: 0.0197 - mean_absolute_error: 0.1099 - mean_squared_error: 0.0197 - val_loss: 0.0292 - val_mean_absolute_error: 0.1320 - val_mean_squared_error: 0.0291\n",
      "Epoch 37/100\n",
      "13/13 [==============================] - 1s 57ms/step - loss: 0.0190 - mean_absolute_error: 0.1075 - mean_squared_error: 0.0190 - val_loss: 0.0360 - val_mean_absolute_error: 0.1512 - val_mean_squared_error: 0.0369\n",
      "Epoch 38/100\n",
      "13/13 [==============================] - 1s 61ms/step - loss: 0.0194 - mean_absolute_error: 0.1075 - mean_squared_error: 0.0193 - val_loss: 0.0322 - val_mean_absolute_error: 0.1486 - val_mean_squared_error: 0.0370\n",
      "Epoch 39/100\n",
      "13/13 [==============================] - 1s 61ms/step - loss: 0.0189 - mean_absolute_error: 0.1074 - mean_squared_error: 0.0189 - val_loss: 0.0380 - val_mean_absolute_error: 0.1517 - val_mean_squared_error: 0.0378\n",
      "Epoch 40/100\n",
      "13/13 [==============================] - 1s 58ms/step - loss: 0.0194 - mean_absolute_error: 0.1079 - mean_squared_error: 0.0193 - val_loss: 0.0348 - val_mean_absolute_error: 0.1434 - val_mean_squared_error: 0.0331\n",
      "Epoch 41/100\n",
      "13/13 [==============================] - 1s 55ms/step - loss: 0.0186 - mean_absolute_error: 0.1056 - mean_squared_error: 0.0186 - val_loss: 0.0340 - val_mean_absolute_error: 0.1446 - val_mean_squared_error: 0.0341\n",
      "Epoch 42/100\n",
      "13/13 [==============================] - 1s 59ms/step - loss: 0.0181 - mean_absolute_error: 0.1042 - mean_squared_error: 0.0181 - val_loss: 0.0264 - val_mean_absolute_error: 0.1274 - val_mean_squared_error: 0.0265\n",
      "Epoch 43/100\n",
      "13/13 [==============================] - 1s 54ms/step - loss: 0.0188 - mean_absolute_error: 0.1074 - mean_squared_error: 0.0187 - val_loss: 0.0249 - val_mean_absolute_error: 0.1227 - val_mean_squared_error: 0.0250\n",
      "Epoch 44/100\n",
      "13/13 [==============================] - 1s 50ms/step - loss: 0.0174 - mean_absolute_error: 0.1023 - mean_squared_error: 0.0174 - val_loss: 0.0388 - val_mean_absolute_error: 0.1501 - val_mean_squared_error: 0.0365\n",
      "Epoch 45/100\n",
      "13/13 [==============================] - 1s 56ms/step - loss: 0.0200 - mean_absolute_error: 0.1097 - mean_squared_error: 0.0200 - val_loss: 0.0333 - val_mean_absolute_error: 0.1545 - val_mean_squared_error: 0.0385\n",
      "Epoch 46/100\n",
      "13/13 [==============================] - 1s 63ms/step - loss: 0.0190 - mean_absolute_error: 0.1076 - mean_squared_error: 0.0189 - val_loss: 0.0263 - val_mean_absolute_error: 0.1321 - val_mean_squared_error: 0.0286\n",
      "Epoch 47/100\n",
      "13/13 [==============================] - 1s 58ms/step - loss: 0.0175 - mean_absolute_error: 0.1026 - mean_squared_error: 0.0175 - val_loss: 0.0265 - val_mean_absolute_error: 0.1298 - val_mean_squared_error: 0.0278\n",
      "Epoch 48/100\n",
      "13/13 [==============================] - 1s 60ms/step - loss: 0.0167 - mean_absolute_error: 0.1003 - mean_squared_error: 0.0167 - val_loss: 0.0262 - val_mean_absolute_error: 0.1272 - val_mean_squared_error: 0.0263\n",
      "Epoch 49/100\n",
      "13/13 [==============================] - 1s 62ms/step - loss: 0.0169 - mean_absolute_error: 0.1002 - mean_squared_error: 0.0169 - val_loss: 0.0228 - val_mean_absolute_error: 0.1217 - val_mean_squared_error: 0.0243\n",
      "Epoch 50/100\n",
      "13/13 [==============================] - 1s 47ms/step - loss: 0.0174 - mean_absolute_error: 0.1024 - mean_squared_error: 0.0174 - val_loss: 0.0280 - val_mean_absolute_error: 0.1318 - val_mean_squared_error: 0.0280\n",
      "Epoch 51/100\n",
      "13/13 [==============================] - 1s 58ms/step - loss: 0.0175 - mean_absolute_error: 0.1026 - mean_squared_error: 0.0174 - val_loss: 0.0263 - val_mean_absolute_error: 0.1355 - val_mean_squared_error: 0.0292\n",
      "Epoch 52/100\n",
      "13/13 [==============================] - 1s 61ms/step - loss: 0.0164 - mean_absolute_error: 0.0992 - mean_squared_error: 0.0164 - val_loss: 0.0253 - val_mean_absolute_error: 0.1308 - val_mean_squared_error: 0.0273\n",
      "Epoch 53/100\n",
      "13/13 [==============================] - 1s 62ms/step - loss: 0.0164 - mean_absolute_error: 0.0996 - mean_squared_error: 0.0164 - val_loss: 0.0257 - val_mean_absolute_error: 0.1242 - val_mean_squared_error: 0.0251\n",
      "Epoch 54/100\n",
      "13/13 [==============================] - 1s 61ms/step - loss: 0.0163 - mean_absolute_error: 0.0993 - mean_squared_error: 0.0163 - val_loss: 0.0264 - val_mean_absolute_error: 0.1457 - val_mean_squared_error: 0.0338\n",
      "Epoch 55/100\n",
      "13/13 [==============================] - 1s 55ms/step - loss: 0.0169 - mean_absolute_error: 0.1009 - mean_squared_error: 0.0169 - val_loss: 0.0195 - val_mean_absolute_error: 0.1152 - val_mean_squared_error: 0.0231\n",
      "Epoch 56/100\n",
      "13/13 [==============================] - 1s 57ms/step - loss: 0.0164 - mean_absolute_error: 0.0992 - mean_squared_error: 0.0163 - val_loss: 0.0217 - val_mean_absolute_error: 0.1231 - val_mean_squared_error: 0.0247\n",
      "Epoch 57/100\n",
      "13/13 [==============================] - 1s 62ms/step - loss: 0.0155 - mean_absolute_error: 0.0969 - mean_squared_error: 0.0155 - val_loss: 0.0229 - val_mean_absolute_error: 0.1256 - val_mean_squared_error: 0.0254\n",
      "Epoch 58/100\n",
      "13/13 [==============================] - 1s 65ms/step - loss: 0.0157 - mean_absolute_error: 0.0979 - mean_squared_error: 0.0157 - val_loss: 0.0232 - val_mean_absolute_error: 0.1257 - val_mean_squared_error: 0.0257\n",
      "Epoch 59/100\n",
      "13/13 [==============================] - 1s 57ms/step - loss: 0.0151 - mean_absolute_error: 0.0955 - mean_squared_error: 0.0151 - val_loss: 0.0243 - val_mean_absolute_error: 0.1268 - val_mean_squared_error: 0.0260\n",
      "Epoch 60/100\n",
      "13/13 [==============================] - 1s 65ms/step - loss: 0.0156 - mean_absolute_error: 0.0962 - mean_squared_error: 0.0156 - val_loss: 0.0215 - val_mean_absolute_error: 0.1244 - val_mean_squared_error: 0.0252\n",
      "Epoch 61/100\n",
      "13/13 [==============================] - 1s 58ms/step - loss: 0.0149 - mean_absolute_error: 0.0946 - mean_squared_error: 0.0149 - val_loss: 0.0241 - val_mean_absolute_error: 0.1292 - val_mean_squared_error: 0.0267\n",
      "Epoch 62/100\n",
      "13/13 [==============================] - 1s 60ms/step - loss: 0.0148 - mean_absolute_error: 0.0942 - mean_squared_error: 0.0148 - val_loss: 0.0220 - val_mean_absolute_error: 0.1231 - val_mean_squared_error: 0.0245\n",
      "Epoch 63/100\n",
      "13/13 [==============================] - 1s 66ms/step - loss: 0.0150 - mean_absolute_error: 0.0955 - mean_squared_error: 0.0150 - val_loss: 0.0202 - val_mean_absolute_error: 0.1195 - val_mean_squared_error: 0.0234\n",
      "Epoch 64/100\n",
      "13/13 [==============================] - 1s 58ms/step - loss: 0.0149 - mean_absolute_error: 0.0953 - mean_squared_error: 0.0149 - val_loss: 0.0224 - val_mean_absolute_error: 0.1203 - val_mean_squared_error: 0.0243\n",
      "Epoch 65/100\n",
      "13/13 [==============================] - 1s 60ms/step - loss: 0.0165 - mean_absolute_error: 0.1004 - mean_squared_error: 0.0164 - val_loss: 0.0281 - val_mean_absolute_error: 0.1419 - val_mean_squared_error: 0.0320\n",
      "Epoch 66/100\n",
      "13/13 [==============================] - 1s 57ms/step - loss: 0.0155 - mean_absolute_error: 0.0969 - mean_squared_error: 0.0155 - val_loss: 0.0228 - val_mean_absolute_error: 0.1217 - val_mean_squared_error: 0.0247\n",
      "Epoch 67/100\n",
      "13/13 [==============================] - 1s 57ms/step - loss: 0.0150 - mean_absolute_error: 0.0954 - mean_squared_error: 0.0150 - val_loss: 0.0254 - val_mean_absolute_error: 0.1300 - val_mean_squared_error: 0.0264\n",
      "Epoch 68/100\n",
      "13/13 [==============================] - 1s 58ms/step - loss: 0.0148 - mean_absolute_error: 0.0953 - mean_squared_error: 0.0148 - val_loss: 0.0212 - val_mean_absolute_error: 0.1232 - val_mean_squared_error: 0.0243\n",
      "Epoch 69/100\n",
      "13/13 [==============================] - 1s 65ms/step - loss: 0.0146 - mean_absolute_error: 0.0939 - mean_squared_error: 0.0146 - val_loss: 0.0257 - val_mean_absolute_error: 0.1369 - val_mean_squared_error: 0.0299\n",
      "Epoch 70/100\n",
      "13/13 [==============================] - 1s 60ms/step - loss: 0.0148 - mean_absolute_error: 0.0948 - mean_squared_error: 0.0148 - val_loss: 0.0216 - val_mean_absolute_error: 0.1275 - val_mean_squared_error: 0.0268\n",
      "Epoch 71/100\n",
      "13/13 [==============================] - 1s 56ms/step - loss: 0.0149 - mean_absolute_error: 0.0944 - mean_squared_error: 0.0148 - val_loss: 0.0277 - val_mean_absolute_error: 0.1425 - val_mean_squared_error: 0.0315\n",
      "Epoch 72/100\n",
      "13/13 [==============================] - 1s 59ms/step - loss: 0.0154 - mean_absolute_error: 0.0964 - mean_squared_error: 0.0154 - val_loss: 0.0283 - val_mean_absolute_error: 0.1321 - val_mean_squared_error: 0.0291\n",
      "Epoch 73/100\n",
      "13/13 [==============================] - 1s 64ms/step - loss: 0.0146 - mean_absolute_error: 0.0934 - mean_squared_error: 0.0146 - val_loss: 0.0256 - val_mean_absolute_error: 0.1288 - val_mean_squared_error: 0.0265\n",
      "Epoch 74/100\n",
      "13/13 [==============================] - 1s 57ms/step - loss: 0.0146 - mean_absolute_error: 0.0944 - mean_squared_error: 0.0146 - val_loss: 0.0224 - val_mean_absolute_error: 0.1267 - val_mean_squared_error: 0.0261\n",
      "Epoch 75/100\n",
      "13/13 [==============================] - 1s 60ms/step - loss: 0.0142 - mean_absolute_error: 0.0923 - mean_squared_error: 0.0142 - val_loss: 0.0233 - val_mean_absolute_error: 0.1235 - val_mean_squared_error: 0.0246\n",
      "Epoch 76/100\n",
      "13/13 [==============================] - 1s 64ms/step - loss: 0.0150 - mean_absolute_error: 0.0949 - mean_squared_error: 0.0149 - val_loss: 0.0253 - val_mean_absolute_error: 0.1329 - val_mean_squared_error: 0.0281\n",
      "Epoch 77/100\n",
      "13/13 [==============================] - 1s 58ms/step - loss: 0.0151 - mean_absolute_error: 0.0951 - mean_squared_error: 0.0151 - val_loss: 0.0227 - val_mean_absolute_error: 0.1205 - val_mean_squared_error: 0.0241\n",
      "Epoch 78/100\n",
      "13/13 [==============================] - 1s 64ms/step - loss: 0.0138 - mean_absolute_error: 0.0911 - mean_squared_error: 0.0138 - val_loss: 0.0252 - val_mean_absolute_error: 0.1311 - val_mean_squared_error: 0.0275\n",
      "Epoch 79/100\n",
      "13/13 [==============================] - 1s 61ms/step - loss: 0.0137 - mean_absolute_error: 0.0912 - mean_squared_error: 0.0137 - val_loss: 0.0244 - val_mean_absolute_error: 0.1271 - val_mean_squared_error: 0.0262\n",
      "Epoch 80/100\n",
      "13/13 [==============================] - 1s 58ms/step - loss: 0.0139 - mean_absolute_error: 0.0917 - mean_squared_error: 0.0139 - val_loss: 0.0222 - val_mean_absolute_error: 0.1233 - val_mean_squared_error: 0.0240\n",
      "Epoch 81/100\n",
      "13/13 [==============================] - 1s 59ms/step - loss: 0.0138 - mean_absolute_error: 0.0912 - mean_squared_error: 0.0137 - val_loss: 0.0216 - val_mean_absolute_error: 0.1204 - val_mean_squared_error: 0.0238\n",
      "Epoch 82/100\n",
      "13/13 [==============================] - 1s 60ms/step - loss: 0.0133 - mean_absolute_error: 0.0886 - mean_squared_error: 0.0133 - val_loss: 0.0217 - val_mean_absolute_error: 0.1227 - val_mean_squared_error: 0.0248\n",
      "Epoch 83/100\n",
      "13/13 [==============================] - 1s 60ms/step - loss: 0.0138 - mean_absolute_error: 0.0917 - mean_squared_error: 0.0138 - val_loss: 0.0254 - val_mean_absolute_error: 0.1324 - val_mean_squared_error: 0.0278\n",
      "Epoch 84/100\n",
      "13/13 [==============================] - 1s 53ms/step - loss: 0.0133 - mean_absolute_error: 0.0892 - mean_squared_error: 0.0132 - val_loss: 0.0233 - val_mean_absolute_error: 0.1287 - val_mean_squared_error: 0.0271\n",
      "Epoch 85/100\n",
      "13/13 [==============================] - 1s 58ms/step - loss: 0.0138 - mean_absolute_error: 0.0914 - mean_squared_error: 0.0138 - val_loss: 0.0233 - val_mean_absolute_error: 0.1210 - val_mean_squared_error: 0.0229\n",
      "Epoch 86/100\n",
      "13/13 [==============================] - 1s 61ms/step - loss: 0.0138 - mean_absolute_error: 0.0925 - mean_squared_error: 0.0138 - val_loss: 0.0225 - val_mean_absolute_error: 0.1212 - val_mean_squared_error: 0.0246\n",
      "Epoch 87/100\n",
      "13/13 [==============================] - 1s 60ms/step - loss: 0.0137 - mean_absolute_error: 0.0905 - mean_squared_error: 0.0136 - val_loss: 0.0270 - val_mean_absolute_error: 0.1251 - val_mean_squared_error: 0.0254\n",
      "Epoch 88/100\n",
      "13/13 [==============================] - 1s 56ms/step - loss: 0.0136 - mean_absolute_error: 0.0905 - mean_squared_error: 0.0136 - val_loss: 0.0228 - val_mean_absolute_error: 0.1212 - val_mean_squared_error: 0.0239\n",
      "Epoch 89/100\n",
      "13/13 [==============================] - 1s 57ms/step - loss: 0.0129 - mean_absolute_error: 0.0880 - mean_squared_error: 0.0129 - val_loss: 0.0267 - val_mean_absolute_error: 0.1261 - val_mean_squared_error: 0.0255\n",
      "Epoch 90/100\n",
      "13/13 [==============================] - 1s 63ms/step - loss: 0.0129 - mean_absolute_error: 0.0887 - mean_squared_error: 0.0129 - val_loss: 0.0210 - val_mean_absolute_error: 0.1232 - val_mean_squared_error: 0.0243\n",
      "Epoch 91/100\n",
      "13/13 [==============================] - 1s 60ms/step - loss: 0.0143 - mean_absolute_error: 0.0938 - mean_squared_error: 0.0143 - val_loss: 0.0240 - val_mean_absolute_error: 0.1169 - val_mean_squared_error: 0.0225\n",
      "Epoch 92/100\n",
      "13/13 [==============================] - 1s 61ms/step - loss: 0.0131 - mean_absolute_error: 0.0893 - mean_squared_error: 0.0131 - val_loss: 0.0190 - val_mean_absolute_error: 0.1124 - val_mean_squared_error: 0.0212\n",
      "Epoch 93/100\n",
      "13/13 [==============================] - 1s 56ms/step - loss: 0.0127 - mean_absolute_error: 0.0867 - mean_squared_error: 0.0127 - val_loss: 0.0197 - val_mean_absolute_error: 0.1086 - val_mean_squared_error: 0.0199\n",
      "Epoch 94/100\n",
      "13/13 [==============================] - 1s 58ms/step - loss: 0.0130 - mean_absolute_error: 0.0882 - mean_squared_error: 0.0131 - val_loss: 0.0262 - val_mean_absolute_error: 0.1235 - val_mean_squared_error: 0.0245\n",
      "Epoch 95/100\n",
      "13/13 [==============================] - 1s 63ms/step - loss: 0.0127 - mean_absolute_error: 0.0875 - mean_squared_error: 0.0127 - val_loss: 0.0184 - val_mean_absolute_error: 0.1063 - val_mean_squared_error: 0.0192\n",
      "Epoch 96/100\n",
      "13/13 [==============================] - 1s 54ms/step - loss: 0.0128 - mean_absolute_error: 0.0879 - mean_squared_error: 0.0127 - val_loss: 0.0239 - val_mean_absolute_error: 0.1175 - val_mean_squared_error: 0.0226\n",
      "Epoch 97/100\n",
      "13/13 [==============================] - 1s 58ms/step - loss: 0.0122 - mean_absolute_error: 0.0861 - mean_squared_error: 0.0123 - val_loss: 0.0271 - val_mean_absolute_error: 0.1209 - val_mean_squared_error: 0.0238\n",
      "Epoch 98/100\n",
      "13/13 [==============================] - 1s 57ms/step - loss: 0.0125 - mean_absolute_error: 0.0862 - mean_squared_error: 0.0126 - val_loss: 0.0214 - val_mean_absolute_error: 0.1116 - val_mean_squared_error: 0.0203\n",
      "Epoch 99/100\n",
      "13/13 [==============================] - 1s 60ms/step - loss: 0.0124 - mean_absolute_error: 0.0859 - mean_squared_error: 0.0125 - val_loss: 0.0215 - val_mean_absolute_error: 0.1154 - val_mean_squared_error: 0.0219\n",
      "Epoch 100/100\n",
      "13/13 [==============================] - 1s 59ms/step - loss: 0.0127 - mean_absolute_error: 0.0881 - mean_squared_error: 0.0127 - val_loss: 0.0222 - val_mean_absolute_error: 0.1122 - val_mean_squared_error: 0.0207\n",
      "Best val_loss @ Epoch #95\n",
      "\n",
      "***Predictions from the best model.***\n",
      "\n",
      "For the training set:\n",
      "MAE: 0.5627 RMSE: 0.7187 R^2: 0.8699\n",
      "\n",
      "For the validation set:\n",
      "MAE: 0.6578 RMSE: 0.8412 R^2: 0.8893\n",
      "\n",
      "For the test set:\n",
      "MAE: 0.6299 RMSE: 0.8264 R^2: 0.8531\n",
      "\n"
     ]
    }
   ],
   "source": [
    "# run the NN\n",
    "main.Main(data=sol_data, \n",
    "          data_name=data_name, \n",
    "          data_units='', \n",
    "          bayopt_bounds=bounds, \n",
    "          k_fold_number = 3, \n",
    "          augmentation = True, \n",
    "          outdir = \"./data/\", \n",
    "          bayopt_n_epochs = 1,\n",
    "          bayopt_n_rounds = 1, \n",
    "          bayopt_it_factor = 1, \n",
    "          bayopt_on = True, \n",
    "          lstmunits_ref = 128, \n",
    "          denseunits_ref = 16, \n",
    "          embedding_ref = 32, \n",
    "          n_gpus = 1, \n",
    "          bridge_type = 'NVLink', \n",
    "          batch_size_ref = 8,\n",
    "          alpha_ref = 22, \n",
    "          patience = 50, \n",
    "          n_epochs = 100)"
   ]
  },
  {
   "cell_type": "code",
   "execution_count": 26,
   "metadata": {
    "colab": {
     "base_uri": "https://localhost:8080/",
     "height": 167
    },
    "executionInfo": {
     "elapsed": 496205,
     "status": "ok",
     "timestamp": 1606435384953,
     "user": {
      "displayName": "Bogdan Tarus",
      "photoUrl": "",
      "userId": "02702741184233366030"
     },
     "user_tz": -60
    },
    "id": "wdvl2wFVjcAf",
    "outputId": "ab829dff-3335-452d-eff6-cef75151268f"
   },
   "outputs": [
    {
     "data": {
      "image/png": "[encoded data removed]",
      "text/plain": [
       "<rdkit.Chem.rdchem.Mol at 0x7f4acdca02b0>"
      ]
     },
     "execution_count": 26,
     "metadata": {
      "tags": []
     },
     "output_type": "execute_result"
    }
   ],
   "source": [
    "Chem.MolFromSmiles('Cc1ccc(O)cc1C')"
   ]
  },
  {
   "cell_type": "code",
   "execution_count": 27,
   "metadata": {
    "colab": {
     "base_uri": "https://localhost:8080/"
    },
    "executionInfo": {
     "elapsed": 506639,
     "status": "ok",
     "timestamp": 1606435395391,
     "user": {
      "displayName": "Bogdan Tarus",
      "photoUrl": "",
      "userId": "02702741184233366030"
     },
     "user_tz": -60
    },
    "id": "rO7CjEOaxdsl",
    "outputId": "88be7337-1c3f-4d50-b5b7-7beb14a3bb91"
   },
   "outputs": [
    {
     "name": "stdout",
     "output_type": "stream",
     "text": [
      "***SMILES_X for inference starts...***\n",
      "\n",
      "\n",
      "***Checking the SMILES list for inference***\n",
      "\n",
      "***Data augmentation.***\n",
      "\n",
      "Enumerated SMILES: 17\n",
      "\n",
      "***Tokenization of SMILES.***\n",
      "\n",
      "Full vocabulary: ['pad', 'unk', '#', '8', 'o', 'N', '5', 'S', '[C@@H]', '-', '[nH]', '[N+]', '/', '=', 'O', '6', '[n+]', 'Br', '7', ')', '4', '1', '(', 'P', ' ', 'F', '[C@H]', 'c', '3', '2', '\\\\', 'C', 'n', '[O-]', 's', 'I', 'Cl']\n",
      "Of size: 37\n",
      "\n",
      "Maximum length of tokenized SMILES: 108 tokens\n",
      "\n",
      "***Inference of SMILES property done.***\n"
     ]
    }
   ],
   "source": [
    "pred_from_ens = inference.Inference(data_name=data_name, \n",
    "                                    smiles_list = ['FC(F)(Cl)C(F)(Cl)Cl','Cc1ccc(O)cc1C'], \n",
    "                                    data_units = '',\n",
    "                                    k_fold_number = 3,\n",
    "                                    augmentation = True, \n",
    "                                    outdir = \"./data/\")\n"
   ]
  },
  {
   "cell_type": "code",
   "execution_count": 28,
   "metadata": {
    "colab": {
     "base_uri": "https://localhost:8080/",
     "height": 112
    },
    "executionInfo": {
     "elapsed": 506634,
     "status": "ok",
     "timestamp": 1606435395395,
     "user": {
      "displayName": "Bogdan Tarus",
      "photoUrl": "",
      "userId": "02702741184233366030"
     },
     "user_tz": -60
    },
    "id": "0DC2a5VKoXho",
    "outputId": "60069726-548b-41a8-e378-81f6091ead69"
   },
   "outputs": [
    {
     "data": {
      "text/html": [
       "<div>\n",
       "<style scoped>\n",
       "    .dataframe tbody tr th:only-of-type {\n",
       "        vertical-align: middle;\n",
       "    }\n",
       "\n",
       "    .dataframe tbody tr th {\n",
       "        vertical-align: top;\n",
       "    }\n",
       "\n",
       "    .dataframe thead th {\n",
       "        text-align: right;\n",
       "    }\n",
       "</style>\n",
       "<table border=\"1\" class=\"dataframe\">\n",
       "  <thead>\n",
       "    <tr style=\"text-align: right;\">\n",
       "      <th></th>\n",
       "      <th>SMILES</th>\n",
       "      <th>ens_pred_mean</th>\n",
       "      <th>ens_pred_sd</th>\n",
       "    </tr>\n",
       "  </thead>\n",
       "  <tbody>\n",
       "    <tr>\n",
       "      <th>0</th>\n",
       "      <td>FC(F)(Cl)C(F)(Cl)Cl</td>\n",
       "      <td>0.0301921</td>\n",
       "      <td>0.0546834</td>\n",
       "    </tr>\n",
       "    <tr>\n",
       "      <th>1</th>\n",
       "      <td>Cc1ccc(O)cc1C</td>\n",
       "      <td>0.187738</td>\n",
       "      <td>0.0428806</td>\n",
       "    </tr>\n",
       "  </tbody>\n",
       "</table>\n",
       "</div>"
      ],
      "text/plain": [
       "                SMILES ens_pred_mean ens_pred_sd\n",
       "0  FC(F)(Cl)C(F)(Cl)Cl     0.0301921   0.0546834\n",
       "1        Cc1ccc(O)cc1C      0.187738   0.0428806"
      ]
     },
     "execution_count": 28,
     "metadata": {
      "tags": []
     },
     "output_type": "execute_result"
    }
   ],
   "source": [
    "pred_from_ens"
   ]
  },
  {
   "cell_type": "code",
   "execution_count": 29,
   "metadata": {
    "executionInfo": {
     "elapsed": 507245,
     "status": "ok",
     "timestamp": 1606435396008,
     "user": {
      "displayName": "Bogdan Tarus",
      "photoUrl": "",
      "userId": "02702741184233366030"
     },
     "user_tz": -60
    },
    "id": "XVOj6oiG-jQM"
   },
   "outputs": [],
   "source": [
    "# copy the results to the working directory on drive\n",
    "!cp -r data $dirpath"
   ]
  }
 ],
 "metadata": {
  "accelerator": "GPU",
  "colab": {
   "collapsed_sections": [],
   "name": "SMILESX_Prediction.ipynb",
   "provenance": [],
   "toc_visible": true
  },
  "kernelspec": {
   "display_name": "Python 3",
   "language": "python",
   "name": "python3"
  },
  "language_info": {
   "codemirror_mode": {
    "name": "ipython",
    "version": 3
   },
   "file_extension": ".py",
   "mimetype": "text/x-python",
   "name": "python",
   "nbconvert_exporter": "python",
   "pygments_lexer": "ipython3",
   "version": "3.7.9"
  }
 },
 "nbformat": 4,
 "nbformat_minor": 1
}
