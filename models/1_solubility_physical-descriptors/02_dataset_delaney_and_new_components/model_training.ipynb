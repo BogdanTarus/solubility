{
 "cells": [
  {
   "cell_type": "markdown",
   "metadata": {},
   "source": [
    "## Aqueous solubility prediction based on physical descriptors. Extended dataset"
   ]
  },
  {
   "cell_type": "markdown",
   "metadata": {},
   "source": [
    "In this notebook, we will add the new compounds to the Delaney's data set to train a new model. Initially, out of the 53 new compounds, we randomly chosen 20% of them for testing, while the rest was added to the Delaney's dataset for training. The final model was trained using the full dataset.\n"
   ]
  },
  {
   "cell_type": "code",
   "execution_count": 1,
   "metadata": {},
   "outputs": [],
   "source": [
    "# import the necessqary libraries\n",
    "import matplotlib.pyplot as plt\n",
    "\n",
    "import numpy as np\n",
    "import pandas as pd\n",
    "\n",
    "from rdkit import Chem\n",
    "from rdkit.Chem import Descriptors\n",
    "\n",
    "from sklearn.model_selection import train_test_split\n",
    "from sklearn import linear_model\n",
    "from sklearn.metrics import mean_squared_error, r2_score\n",
    "\n",
    "import pickle"
   ]
  },
  {
   "cell_type": "code",
   "execution_count": 2,
   "metadata": {},
   "outputs": [
    {
     "name": "stdout",
     "output_type": "stream",
     "text": [
      "--2020-11-24 21:13:28--  https://raw.githubusercontent.com/dataprofessor/data/master/delaney.csv\n",
      "Resolving raw.githubusercontent.com (raw.githubusercontent.com)... 151.101.0.133, 151.101.64.133, 151.101.128.133, ...\n",
      "Connecting to raw.githubusercontent.com (raw.githubusercontent.com)|151.101.0.133|:443... connected.\n",
      "HTTP request sent, awaiting response... 200 OK\n",
      "Length: 58889 (58K) [text/plain]\n",
      "Saving to: ‘delaney.csv.2’\n",
      "\n",
      "delaney.csv.2       100%[===================>]  57.51K  --.-KB/s    in 0.01s   \n",
      "\n",
      "2020-11-24 21:13:29 (4.40 MB/s) - ‘delaney.csv.2’ saved [58889/58889]\n",
      "\n"
     ]
    }
   ],
   "source": [
    "# Download the Delaney's dataset\n",
    "! wget https://raw.githubusercontent.com/dataprofessor/data/master/delaney.csv"
   ]
  },
  {
   "cell_type": "code",
   "execution_count": 3,
   "metadata": {},
   "outputs": [],
   "source": [
    "# read the Delaney's dataset\n",
    "sol = pd.read_csv('delaney.csv')"
   ]
  },
  {
   "cell_type": "code",
   "execution_count": 4,
   "metadata": {},
   "outputs": [
    {
     "data": {
      "text/html": [
       "<div>\n",
       "<style scoped>\n",
       "    .dataframe tbody tr th:only-of-type {\n",
       "        vertical-align: middle;\n",
       "    }\n",
       "\n",
       "    .dataframe tbody tr th {\n",
       "        vertical-align: top;\n",
       "    }\n",
       "\n",
       "    .dataframe thead th {\n",
       "        text-align: right;\n",
       "    }\n",
       "</style>\n",
       "<table border=\"1\" class=\"dataframe\">\n",
       "  <thead>\n",
       "    <tr style=\"text-align: right;\">\n",
       "      <th></th>\n",
       "      <th>Compound ID</th>\n",
       "      <th>measured log(solubility:mol/L)</th>\n",
       "      <th>ESOL predicted log(solubility:mol/L)</th>\n",
       "      <th>SMILES</th>\n",
       "    </tr>\n",
       "  </thead>\n",
       "  <tbody>\n",
       "    <tr>\n",
       "      <th>0</th>\n",
       "      <td>1,1,1,2-Tetrachloroethane</td>\n",
       "      <td>-2.18</td>\n",
       "      <td>-2.794</td>\n",
       "      <td>ClCC(Cl)(Cl)Cl</td>\n",
       "    </tr>\n",
       "    <tr>\n",
       "      <th>1</th>\n",
       "      <td>1,1,1-Trichloroethane</td>\n",
       "      <td>-2.00</td>\n",
       "      <td>-2.232</td>\n",
       "      <td>CC(Cl)(Cl)Cl</td>\n",
       "    </tr>\n",
       "    <tr>\n",
       "      <th>2</th>\n",
       "      <td>1,1,2,2-Tetrachloroethane</td>\n",
       "      <td>-1.74</td>\n",
       "      <td>-2.549</td>\n",
       "      <td>ClC(Cl)C(Cl)Cl</td>\n",
       "    </tr>\n",
       "    <tr>\n",
       "      <th>3</th>\n",
       "      <td>1,1,2-Trichloroethane</td>\n",
       "      <td>-1.48</td>\n",
       "      <td>-1.961</td>\n",
       "      <td>ClCC(Cl)Cl</td>\n",
       "    </tr>\n",
       "    <tr>\n",
       "      <th>4</th>\n",
       "      <td>1,1,2-Trichlorotrifluoroethane</td>\n",
       "      <td>-3.04</td>\n",
       "      <td>-3.077</td>\n",
       "      <td>FC(F)(Cl)C(F)(Cl)Cl</td>\n",
       "    </tr>\n",
       "  </tbody>\n",
       "</table>\n",
       "</div>"
      ],
      "text/plain": [
       "                      Compound ID  measured log(solubility:mol/L)  \\\n",
       "0       1,1,1,2-Tetrachloroethane                           -2.18   \n",
       "1           1,1,1-Trichloroethane                           -2.00   \n",
       "2       1,1,2,2-Tetrachloroethane                           -1.74   \n",
       "3           1,1,2-Trichloroethane                           -1.48   \n",
       "4  1,1,2-Trichlorotrifluoroethane                           -3.04   \n",
       "\n",
       "   ESOL predicted log(solubility:mol/L)               SMILES  \n",
       "0                                -2.794       ClCC(Cl)(Cl)Cl  \n",
       "1                                -2.232         CC(Cl)(Cl)Cl  \n",
       "2                                -2.549       ClC(Cl)C(Cl)Cl  \n",
       "3                                -1.961           ClCC(Cl)Cl  \n",
       "4                                -3.077  FC(F)(Cl)C(F)(Cl)Cl  "
      ]
     },
     "execution_count": 4,
     "metadata": {},
     "output_type": "execute_result"
    }
   ],
   "source": [
    "sol.head()"
   ]
  },
  {
   "cell_type": "code",
   "execution_count": 5,
   "metadata": {},
   "outputs": [
    {
     "name": "stdout",
     "output_type": "stream",
     "text": [
      "-rw-r--r--@ 1 tarus  staff  6763 Nov 24 01:42 ../../../00_database/2_new_compounds/new_compounds.csv\r\n"
     ]
    }
   ],
   "source": [
    "# read the new dataset\n",
    "! ls -l ../../../00_database/2_new_compounds/new_compounds.csv\n",
    "new = pd.read_csv('../../../00_database/2_new_compounds/new_compounds.csv')"
   ]
  },
  {
   "cell_type": "code",
   "execution_count": 6,
   "metadata": {},
   "outputs": [
    {
     "data": {
      "text/html": [
       "<div>\n",
       "<style scoped>\n",
       "    .dataframe tbody tr th:only-of-type {\n",
       "        vertical-align: middle;\n",
       "    }\n",
       "\n",
       "    .dataframe tbody tr th {\n",
       "        vertical-align: top;\n",
       "    }\n",
       "\n",
       "    .dataframe thead th {\n",
       "        text-align: right;\n",
       "    }\n",
       "</style>\n",
       "<table border=\"1\" class=\"dataframe\">\n",
       "  <thead>\n",
       "    <tr style=\"text-align: right;\">\n",
       "      <th></th>\n",
       "      <th>Compound ID</th>\n",
       "      <th>InChIKey</th>\n",
       "      <th>SMILES</th>\n",
       "      <th>S(M)</th>\n",
       "      <th>logS</th>\n",
       "      <th>MW</th>\n",
       "    </tr>\n",
       "  </thead>\n",
       "  <tbody>\n",
       "    <tr>\n",
       "      <th>0</th>\n",
       "      <td>CN_S001_C001</td>\n",
       "      <td>KROVJOROTYCIHS-UHFFFAOYSA-N</td>\n",
       "      <td>CC(C)CCOC1=CC2=C(C=C1)C1=CC=NC(C)=C1N2</td>\n",
       "      <td>0.000074</td>\n",
       "      <td>-4.12767</td>\n",
       "      <td>268.360</td>\n",
       "    </tr>\n",
       "    <tr>\n",
       "      <th>1</th>\n",
       "      <td>CN_S001_C002</td>\n",
       "      <td>RBLBQKRAADKOJW-UHFFFAOYSA-N</td>\n",
       "      <td>CCCN1C2=C(C=CC(OCCC(C)C)=C2)C2=CC=NC(C)=C12</td>\n",
       "      <td>0.000006</td>\n",
       "      <td>-5.19098</td>\n",
       "      <td>310.441</td>\n",
       "    </tr>\n",
       "    <tr>\n",
       "      <th>2</th>\n",
       "      <td>CN_S001_C003</td>\n",
       "      <td>BMWDRSIHHSOBKI-UHFFFAOYSA-N</td>\n",
       "      <td>CCCN1C2=C(C=CC(OCCC(C)C)=C2)C2=CC=[N+](CC3=CC=...</td>\n",
       "      <td>0.002640</td>\n",
       "      <td>-2.57840</td>\n",
       "      <td>401.573</td>\n",
       "    </tr>\n",
       "    <tr>\n",
       "      <th>3</th>\n",
       "      <td>CN_S002_C001</td>\n",
       "      <td>HNQZZUWCYONRSR-UHFFFAOYSA-N</td>\n",
       "      <td>CN1CCN(CC1)C1=NC=C(C=N1)C1=CC2=NC=CC(NC3=NC=CN...</td>\n",
       "      <td>0.000044</td>\n",
       "      <td>-4.35655</td>\n",
       "      <td>398.474</td>\n",
       "    </tr>\n",
       "    <tr>\n",
       "      <th>4</th>\n",
       "      <td>CN_S002_C002</td>\n",
       "      <td>RQVYLFUGPHKWEQ-UHFFFAOYSA-N</td>\n",
       "      <td>NCCNC1=NC=C(C=N1)C1=CC2=NC=CC(NC3=NC=CN=C3)=C2...</td>\n",
       "      <td>0.000018</td>\n",
       "      <td>-4.74473</td>\n",
       "      <td>358.409</td>\n",
       "    </tr>\n",
       "  </tbody>\n",
       "</table>\n",
       "</div>"
      ],
      "text/plain": [
       "    Compound ID                     InChIKey  \\\n",
       "0  CN_S001_C001  KROVJOROTYCIHS-UHFFFAOYSA-N   \n",
       "1  CN_S001_C002  RBLBQKRAADKOJW-UHFFFAOYSA-N   \n",
       "2  CN_S001_C003  BMWDRSIHHSOBKI-UHFFFAOYSA-N   \n",
       "3  CN_S002_C001  HNQZZUWCYONRSR-UHFFFAOYSA-N   \n",
       "4  CN_S002_C002  RQVYLFUGPHKWEQ-UHFFFAOYSA-N   \n",
       "\n",
       "                                              SMILES      S(M)     logS  \\\n",
       "0             CC(C)CCOC1=CC2=C(C=C1)C1=CC=NC(C)=C1N2  0.000074 -4.12767   \n",
       "1        CCCN1C2=C(C=CC(OCCC(C)C)=C2)C2=CC=NC(C)=C12  0.000006 -5.19098   \n",
       "2  CCCN1C2=C(C=CC(OCCC(C)C)=C2)C2=CC=[N+](CC3=CC=...  0.002640 -2.57840   \n",
       "3  CN1CCN(CC1)C1=NC=C(C=N1)C1=CC2=NC=CC(NC3=NC=CN...  0.000044 -4.35655   \n",
       "4  NCCNC1=NC=C(C=N1)C1=CC2=NC=CC(NC3=NC=CN=C3)=C2...  0.000018 -4.74473   \n",
       "\n",
       "        MW  \n",
       "0  268.360  \n",
       "1  310.441  \n",
       "2  401.573  \n",
       "3  398.474  \n",
       "4  358.409  "
      ]
     },
     "execution_count": 6,
     "metadata": {},
     "output_type": "execute_result"
    }
   ],
   "source": [
    "new.head()"
   ]
  },
  {
   "cell_type": "code",
   "execution_count": 7,
   "metadata": {},
   "outputs": [],
   "source": [
    "# Create a function to calculate LogP, MW and RB descriptors\n",
    "def generate(smiles, verbose=False):\n",
    "\n",
    "    moldata= []\n",
    "    for elem in smiles:\n",
    "        mol=Chem.MolFromSmiles(elem) \n",
    "        moldata.append(mol)\n",
    "       \n",
    "    baseData= np.arange(1,1)\n",
    "    i=0  \n",
    "    for mol in moldata:        \n",
    "       \n",
    "        desc_MolLogP = Descriptors.MolLogP(mol)\n",
    "        desc_MolWt = Descriptors.MolWt(mol)\n",
    "        desc_NumRotatableBonds = Descriptors.NumRotatableBonds(mol)\n",
    "           \n",
    "        row = np.array([desc_MolLogP,\n",
    "                        desc_MolWt,\n",
    "                        desc_NumRotatableBonds])   \n",
    "    \n",
    "        if(i==0):\n",
    "            baseData=row\n",
    "        else:\n",
    "            baseData=np.vstack([baseData, row])\n",
    "        i=i+1      \n",
    "    \n",
    "    columnNames=[\"MolLogP\",\"MolWt\",\"NumRotatableBonds\"]   \n",
    "    descriptors = pd.DataFrame(data=baseData,columns=columnNames)\n",
    "    \n",
    "    return descriptors"
   ]
  },
  {
   "cell_type": "code",
   "execution_count": 8,
   "metadata": {},
   "outputs": [],
   "source": [
    "# Create a function to calculate the number of aromatic atoms in a molecule\n",
    "def AromaticAtoms(m):\n",
    "  aromatic_atoms = [m.GetAtomWithIdx(i).GetIsAromatic() for i in range(m.GetNumAtoms())]\n",
    "  aa_count = []\n",
    "  for i in aromatic_atoms:\n",
    "    if i==True:\n",
    "      aa_count.append(1)\n",
    "  sum_aa_count = sum(aa_count)\n",
    "  return sum_aa_count"
   ]
  },
  {
   "cell_type": "markdown",
   "metadata": {},
   "source": [
    "### Calculate the descriptors for the Delaney's dataset"
   ]
  },
  {
   "cell_type": "code",
   "execution_count": 9,
   "metadata": {},
   "outputs": [],
   "source": [
    "# define the rdkit molecular objects\n",
    "mol_list = []\n",
    "for element in sol.SMILES:\n",
    "  mol = Chem.MolFromSmiles(element)\n",
    "  mol_list.append(mol)"
   ]
  },
  {
   "cell_type": "code",
   "execution_count": 10,
   "metadata": {},
   "outputs": [],
   "source": [
    "# Calculate LogP, MW and RB descriptors\n",
    "df = generate(sol.SMILES)"
   ]
  },
  {
   "cell_type": "code",
   "execution_count": 11,
   "metadata": {},
   "outputs": [],
   "source": [
    "# Compute the aromatic proportion (AP) descriptor\n",
    "desc_AromaticProportion = [AromaticAtoms(element)/Descriptors.HeavyAtomCount(element) for element in mol_list]\n",
    "\n",
    "df_desc_AromaticProportion = pd.DataFrame(data=desc_AromaticProportion, columns=[\"AromaticProportion\"]) "
   ]
  },
  {
   "cell_type": "code",
   "execution_count": 12,
   "metadata": {},
   "outputs": [
    {
     "data": {
      "text/plain": [
       "(1144, 4)"
      ]
     },
     "execution_count": 12,
     "metadata": {},
     "output_type": "execute_result"
    }
   ],
   "source": [
    "#Create the X matrix by combining the 2 dataframes associated to the four descriptors\n",
    "X1 = pd.concat([df,df_desc_AromaticProportion], axis=1)\n",
    "X1.shape"
   ]
  },
  {
   "cell_type": "code",
   "execution_count": 13,
   "metadata": {},
   "outputs": [
    {
     "name": "stdout",
     "output_type": "stream",
     "text": [
      "(1144,)\n"
     ]
    }
   ],
   "source": [
    "# Create the Y matrix\n",
    "Y1 = sol.iloc[:,1]\n",
    "print(Y1.shape)"
   ]
  },
  {
   "cell_type": "markdown",
   "metadata": {},
   "source": [
    "### Calculate the descriptors for the new dataset"
   ]
  },
  {
   "cell_type": "code",
   "execution_count": 14,
   "metadata": {},
   "outputs": [],
   "source": [
    "# define the rdkit molecular objects for the new dataset\n",
    "mol_list = []\n",
    "for element in new.SMILES:\n",
    "  mol = Chem.MolFromSmiles(element)\n",
    "  mol_list.append(mol)"
   ]
  },
  {
   "cell_type": "code",
   "execution_count": 15,
   "metadata": {},
   "outputs": [
    {
     "data": {
      "text/html": [
       "<div>\n",
       "<style scoped>\n",
       "    .dataframe tbody tr th:only-of-type {\n",
       "        vertical-align: middle;\n",
       "    }\n",
       "\n",
       "    .dataframe tbody tr th {\n",
       "        vertical-align: top;\n",
       "    }\n",
       "\n",
       "    .dataframe thead th {\n",
       "        text-align: right;\n",
       "    }\n",
       "</style>\n",
       "<table border=\"1\" class=\"dataframe\">\n",
       "  <thead>\n",
       "    <tr style=\"text-align: right;\">\n",
       "      <th></th>\n",
       "      <th>Compound ID</th>\n",
       "      <th>InChIKey</th>\n",
       "      <th>SMILES</th>\n",
       "      <th>S(M)</th>\n",
       "      <th>logS</th>\n",
       "      <th>MW</th>\n",
       "    </tr>\n",
       "  </thead>\n",
       "  <tbody>\n",
       "    <tr>\n",
       "      <th>0</th>\n",
       "      <td>CN_S001_C001</td>\n",
       "      <td>KROVJOROTYCIHS-UHFFFAOYSA-N</td>\n",
       "      <td>CC(C)CCOC1=CC2=C(C=C1)C1=CC=NC(C)=C1N2</td>\n",
       "      <td>0.000074</td>\n",
       "      <td>-4.12767</td>\n",
       "      <td>268.360</td>\n",
       "    </tr>\n",
       "    <tr>\n",
       "      <th>1</th>\n",
       "      <td>CN_S001_C002</td>\n",
       "      <td>RBLBQKRAADKOJW-UHFFFAOYSA-N</td>\n",
       "      <td>CCCN1C2=C(C=CC(OCCC(C)C)=C2)C2=CC=NC(C)=C12</td>\n",
       "      <td>0.000006</td>\n",
       "      <td>-5.19098</td>\n",
       "      <td>310.441</td>\n",
       "    </tr>\n",
       "    <tr>\n",
       "      <th>2</th>\n",
       "      <td>CN_S001_C003</td>\n",
       "      <td>BMWDRSIHHSOBKI-UHFFFAOYSA-N</td>\n",
       "      <td>CCCN1C2=C(C=CC(OCCC(C)C)=C2)C2=CC=[N+](CC3=CC=...</td>\n",
       "      <td>0.002640</td>\n",
       "      <td>-2.57840</td>\n",
       "      <td>401.573</td>\n",
       "    </tr>\n",
       "    <tr>\n",
       "      <th>3</th>\n",
       "      <td>CN_S002_C001</td>\n",
       "      <td>HNQZZUWCYONRSR-UHFFFAOYSA-N</td>\n",
       "      <td>CN1CCN(CC1)C1=NC=C(C=N1)C1=CC2=NC=CC(NC3=NC=CN...</td>\n",
       "      <td>0.000044</td>\n",
       "      <td>-4.35655</td>\n",
       "      <td>398.474</td>\n",
       "    </tr>\n",
       "    <tr>\n",
       "      <th>4</th>\n",
       "      <td>CN_S002_C002</td>\n",
       "      <td>RQVYLFUGPHKWEQ-UHFFFAOYSA-N</td>\n",
       "      <td>NCCNC1=NC=C(C=N1)C1=CC2=NC=CC(NC3=NC=CN=C3)=C2...</td>\n",
       "      <td>0.000018</td>\n",
       "      <td>-4.74473</td>\n",
       "      <td>358.409</td>\n",
       "    </tr>\n",
       "  </tbody>\n",
       "</table>\n",
       "</div>"
      ],
      "text/plain": [
       "    Compound ID                     InChIKey  \\\n",
       "0  CN_S001_C001  KROVJOROTYCIHS-UHFFFAOYSA-N   \n",
       "1  CN_S001_C002  RBLBQKRAADKOJW-UHFFFAOYSA-N   \n",
       "2  CN_S001_C003  BMWDRSIHHSOBKI-UHFFFAOYSA-N   \n",
       "3  CN_S002_C001  HNQZZUWCYONRSR-UHFFFAOYSA-N   \n",
       "4  CN_S002_C002  RQVYLFUGPHKWEQ-UHFFFAOYSA-N   \n",
       "\n",
       "                                              SMILES      S(M)     logS  \\\n",
       "0             CC(C)CCOC1=CC2=C(C=C1)C1=CC=NC(C)=C1N2  0.000074 -4.12767   \n",
       "1        CCCN1C2=C(C=CC(OCCC(C)C)=C2)C2=CC=NC(C)=C12  0.000006 -5.19098   \n",
       "2  CCCN1C2=C(C=CC(OCCC(C)C)=C2)C2=CC=[N+](CC3=CC=...  0.002640 -2.57840   \n",
       "3  CN1CCN(CC1)C1=NC=C(C=N1)C1=CC2=NC=CC(NC3=NC=CN...  0.000044 -4.35655   \n",
       "4  NCCNC1=NC=C(C=N1)C1=CC2=NC=CC(NC3=NC=CN=C3)=C2...  0.000018 -4.74473   \n",
       "\n",
       "        MW  \n",
       "0  268.360  \n",
       "1  310.441  \n",
       "2  401.573  \n",
       "3  398.474  \n",
       "4  358.409  "
      ]
     },
     "execution_count": 15,
     "metadata": {},
     "output_type": "execute_result"
    }
   ],
   "source": [
    "new.head()"
   ]
  },
  {
   "cell_type": "code",
   "execution_count": 16,
   "metadata": {},
   "outputs": [],
   "source": [
    "# Calculate LogP, MW and RB descriptors\n",
    "df = generate(new.SMILES)"
   ]
  },
  {
   "cell_type": "code",
   "execution_count": 17,
   "metadata": {},
   "outputs": [],
   "source": [
    "# Compute the aromatic proportion (AP) descriptor\n",
    "desc_AromaticProportion = [AromaticAtoms(element)/Descriptors.HeavyAtomCount(element) for element in mol_list]\n",
    "\n",
    "df_desc_AromaticProportion = pd.DataFrame(data=desc_AromaticProportion, columns=[\"AromaticProportion\"])"
   ]
  },
  {
   "cell_type": "code",
   "execution_count": 18,
   "metadata": {},
   "outputs": [
    {
     "data": {
      "text/plain": [
       "(53, 4)"
      ]
     },
     "execution_count": 18,
     "metadata": {},
     "output_type": "execute_result"
    }
   ],
   "source": [
    "#Create the X matrix by combining the 2 dataframes associated to the four descriptors\n",
    "X2 = pd.concat([df,df_desc_AromaticProportion], axis=1)\n",
    "X2.shape"
   ]
  },
  {
   "cell_type": "code",
   "execution_count": 19,
   "metadata": {},
   "outputs": [
    {
     "name": "stdout",
     "output_type": "stream",
     "text": [
      "(53,)\n"
     ]
    }
   ],
   "source": [
    "# Create the Y matrix\n",
    "Y2 = new.iloc[:,4]\n",
    "print(Y2.shape)"
   ]
  },
  {
   "cell_type": "code",
   "execution_count": 20,
   "metadata": {},
   "outputs": [
    {
     "name": "stdout",
     "output_type": "stream",
     "text": [
      "(42, 4)\n",
      "(11, 4)\n",
      "(42,)\n",
      "(11,)\n"
     ]
    }
   ],
   "source": [
    "# Extract molecules from the new dataset for testing\n",
    "X2_rest, X2_test, Y2_rest, Y2_test = train_test_split(X2, Y2, test_size=0.2)\n",
    "print(X2_rest.shape)\n",
    "print(X2_test.shape)\n",
    "print(Y2_rest.shape)\n",
    "print(Y2_test.shape)"
   ]
  },
  {
   "cell_type": "code",
   "execution_count": 21,
   "metadata": {},
   "outputs": [
    {
     "name": "stdout",
     "output_type": "stream",
     "text": [
      "(1186, 4)\n",
      "(1186,)\n"
     ]
    }
   ],
   "source": [
    "# Add the remaining of the new dataset to the Delaney's dataset\n",
    "X1_increased = pd.concat([X1,X2_rest], axis=0)\n",
    "print(X1_increased.shape)\n",
    "\n",
    "Y1_increased = pd.concat([Y1,Y2_rest], axis=0)\n",
    "print(Y1_increased.shape)"
   ]
  },
  {
   "cell_type": "code",
   "execution_count": 22,
   "metadata": {},
   "outputs": [],
   "source": [
    "# Split the increased dataset into training and validation\n",
    "X1_increased_train, X1_increased_val, Y1_increased_train, Y1_increased_val = \\\n",
    "train_test_split(X1_increased, Y1_increased, shuffle=True, test_size=0.2)"
   ]
  },
  {
   "cell_type": "code",
   "execution_count": 23,
   "metadata": {},
   "outputs": [
    {
     "name": "stdout",
     "output_type": "stream",
     "text": [
      "Coefficients: [-0.73819099 -0.00586528  0.01889186 -0.27764029]\n",
      "Intercept: 0.04110136171704726\n",
      "Mean squared error (MSE): 1.15\n",
      "Coefficient of determination (R^2): 0.74\n"
     ]
    }
   ],
   "source": [
    "# Train a linear regression model with the train dataset\n",
    "model = linear_model.LinearRegression()\n",
    "model.fit(X1_increased_train, Y1_increased_train)\n",
    "\n",
    "Y1_increased_pred_train = model.predict(X1_increased_train)\n",
    "\n",
    "print('Coefficients:', model.coef_)\n",
    "print('Intercept:', model.intercept_)\n",
    "print('Mean squared error (MSE): %.2f'% mean_squared_error(Y1_increased_train, Y1_increased_pred_train))\n",
    "print('Coefficient of determination (R^2): %.2f' % r2_score(Y1_increased_train, Y1_increased_pred_train))\n"
   ]
  },
  {
   "cell_type": "code",
   "execution_count": 24,
   "metadata": {},
   "outputs": [
    {
     "name": "stdout",
     "output_type": "stream",
     "text": [
      "Coefficients: [-0.73819099 -0.00586528  0.01889186 -0.27764029]\n",
      "Intercept: 0.04110136171704726\n",
      "Mean squared error (MSE): 0.90\n",
      "Coefficient of determination (R^2): 0.77\n"
     ]
    }
   ],
   "source": [
    "# Predict the LogS value of X_val data\n",
    "Y1_increased_pred_val = model.predict(X1_increased_val)\n",
    "print('Coefficients:', model.coef_)\n",
    "print('Intercept:', model.intercept_)\n",
    "print('Mean squared error (MSE): %.2f'% mean_squared_error(Y1_increased_val, Y1_increased_pred_val))\n",
    "print('Coefficient of determination (R^2): %.2f'% r2_score(Y1_increased_val, Y1_increased_pred_val))"
   ]
  },
  {
   "cell_type": "markdown",
   "metadata": {},
   "source": [
    "### Deriving the Linear Regression Equation base on the full dataset"
   ]
  },
  {
   "cell_type": "code",
   "execution_count": 25,
   "metadata": {},
   "outputs": [
    {
     "name": "stdout",
     "output_type": "stream",
     "text": [
      "(1197, 4)\n",
      "(1197,)\n"
     ]
    }
   ],
   "source": [
    "# Create the total dataset, concatenating the Delaney's dataset and the new dataset\n",
    "X_total = pd.concat([X1,X2], axis=0)\n",
    "print(X_total.shape)\n",
    "\n",
    "Y_total = pd.concat([Y1,Y2], axis=0)\n",
    "print(Y_total.shape)"
   ]
  },
  {
   "cell_type": "code",
   "execution_count": 26,
   "metadata": {},
   "outputs": [
    {
     "data": {
      "text/plain": [
       "LinearRegression()"
      ]
     },
     "execution_count": 26,
     "metadata": {},
     "output_type": "execute_result"
    }
   ],
   "source": [
    "model = linear_model.LinearRegression()\n",
    "model.fit(X_total, Y_total)"
   ]
  },
  {
   "cell_type": "code",
   "execution_count": 27,
   "metadata": {},
   "outputs": [
    {
     "name": "stdout",
     "output_type": "stream",
     "text": [
      "Coefficients: [-0.75339573 -0.00567607  0.01613304 -0.31627563]\n",
      "Intercept: 0.07861319681340007\n",
      "Mean squared error (MSE): 1.11\n",
      "Coefficient of determination (R^2): 0.74\n"
     ]
    }
   ],
   "source": [
    "Y_total_pred = model.predict(X_total)\n",
    "\n",
    "print('Coefficients:', model.coef_)\n",
    "print('Intercept:', model.intercept_)\n",
    "print('Mean squared error (MSE): %.2f'% mean_squared_error(Y_total, Y_total_pred))\n",
    "print('Coefficient of determination (R^2): %.2f'% r2_score(Y_total, Y_total_pred))"
   ]
  },
  {
   "cell_type": "code",
   "execution_count": 28,
   "metadata": {},
   "outputs": [
    {
     "name": "stdout",
     "output_type": "stream",
     "text": [
      "LogS =  0.08 -0.75 LogP -0.0057 MW + 0.0161 RB -0.32 AP\n"
     ]
    }
   ],
   "source": [
    "model_yintercept = '%.2f' % model.intercept_\n",
    "model_LogP = '%.2f LogP' % model.coef_[0]\n",
    "model_MW = '%.4f MW' % model.coef_[1]\n",
    "model_RB = '+ %.4f RB' % model.coef_[2]\n",
    "model_AP = '%.2f AP' % model.coef_[3]\n",
    "\n",
    "print('LogS = ' + \n",
    "      ' ' + \n",
    "      model_yintercept + \n",
    "      ' ' + \n",
    "      model_LogP + \n",
    "      ' ' + \n",
    "      model_MW + \n",
    "      ' ' + \n",
    "      model_RB + \n",
    "      ' ' + \n",
    "      model_AP)"
   ]
  },
  {
   "cell_type": "markdown",
   "metadata": {},
   "source": [
    "###  Plot of  predicted vs. experimental LogS"
   ]
  },
  {
   "cell_type": "code",
   "execution_count": 29,
   "metadata": {},
   "outputs": [
    {
     "data": {
      "image/png": "[encoded data removed]",
      "text/plain": [
       "<Figure size 504x504 with 1 Axes>"
      ]
     },
     "metadata": {
      "needs_background": "light"
     },
     "output_type": "display_data"
    }
   ],
   "source": [
    "plt.figure(figsize=(7,7))\n",
    "\n",
    "plt.scatter(x=Y_total, y=Y_total_pred, c=\"#7CAE00\", alpha=0.3)\n",
    "\n",
    "plt.xlabel('Experimental LogS')\n",
    "plt.ylabel('Predicted LogS')\n",
    "plt.show()"
   ]
  },
  {
   "cell_type": "markdown",
   "metadata": {},
   "source": [
    "### Save the model"
   ]
  },
  {
   "cell_type": "code",
   "execution_count": 30,
   "metadata": {},
   "outputs": [],
   "source": [
    "# save the model\n",
    "pickle.dump(model, open('model_desc_total.pkl', 'wb'))"
   ]
  },
  {
   "cell_type": "code",
   "execution_count": null,
   "metadata": {},
   "outputs": [],
   "source": []
  }
 ],
 "metadata": {
  "kernelspec": {
   "display_name": "Python 3",
   "language": "python",
   "name": "python3"
  },
  "language_info": {
   "codemirror_mode": {
    "name": "ipython",
    "version": 3
   },
   "file_extension": ".py",
   "mimetype": "text/x-python",
   "name": "python",
   "nbconvert_exporter": "python",
   "pygments_lexer": "ipython3",
   "version": "3.7.9"
  }
 },
 "nbformat": 4,
 "nbformat_minor": 4
}
