{
 "cells": [
  {
   "cell_type": "markdown",
   "metadata": {},
   "source": [
    "## Concatenate the Delaney's dataset with the dataset of the new molecules"
   ]
  },
  {
   "cell_type": "code",
   "execution_count": 1,
   "metadata": {},
   "outputs": [],
   "source": [
    "# import the necessary libraries\n",
    "import numpy as np\n",
    "import pandas as pd"
   ]
  },
  {
   "cell_type": "markdown",
   "metadata": {},
   "source": [
    "### Read the Delaney's dataset"
   ]
  },
  {
   "cell_type": "code",
   "execution_count": 2,
   "metadata": {},
   "outputs": [],
   "source": [
    "# read the Delaney's dataset\n",
    "sol = pd.read_csv('delaney.csv')"
   ]
  },
  {
   "cell_type": "code",
   "execution_count": 3,
   "metadata": {},
   "outputs": [
    {
     "data": {
      "text/html": [
       "<div>\n",
       "<style scoped>\n",
       "    .dataframe tbody tr th:only-of-type {\n",
       "        vertical-align: middle;\n",
       "    }\n",
       "\n",
       "    .dataframe tbody tr th {\n",
       "        vertical-align: top;\n",
       "    }\n",
       "\n",
       "    .dataframe thead th {\n",
       "        text-align: right;\n",
       "    }\n",
       "</style>\n",
       "<table border=\"1\" class=\"dataframe\">\n",
       "  <thead>\n",
       "    <tr style=\"text-align: right;\">\n",
       "      <th></th>\n",
       "      <th>Compound ID</th>\n",
       "      <th>measured log(solubility:mol/L)</th>\n",
       "      <th>ESOL predicted log(solubility:mol/L)</th>\n",
       "      <th>SMILES</th>\n",
       "    </tr>\n",
       "  </thead>\n",
       "  <tbody>\n",
       "    <tr>\n",
       "      <th>0</th>\n",
       "      <td>1,1,1,2-Tetrachloroethane</td>\n",
       "      <td>-2.18</td>\n",
       "      <td>-2.794</td>\n",
       "      <td>ClCC(Cl)(Cl)Cl</td>\n",
       "    </tr>\n",
       "    <tr>\n",
       "      <th>1</th>\n",
       "      <td>1,1,1-Trichloroethane</td>\n",
       "      <td>-2.00</td>\n",
       "      <td>-2.232</td>\n",
       "      <td>CC(Cl)(Cl)Cl</td>\n",
       "    </tr>\n",
       "    <tr>\n",
       "      <th>2</th>\n",
       "      <td>1,1,2,2-Tetrachloroethane</td>\n",
       "      <td>-1.74</td>\n",
       "      <td>-2.549</td>\n",
       "      <td>ClC(Cl)C(Cl)Cl</td>\n",
       "    </tr>\n",
       "    <tr>\n",
       "      <th>3</th>\n",
       "      <td>1,1,2-Trichloroethane</td>\n",
       "      <td>-1.48</td>\n",
       "      <td>-1.961</td>\n",
       "      <td>ClCC(Cl)Cl</td>\n",
       "    </tr>\n",
       "    <tr>\n",
       "      <th>4</th>\n",
       "      <td>1,1,2-Trichlorotrifluoroethane</td>\n",
       "      <td>-3.04</td>\n",
       "      <td>-3.077</td>\n",
       "      <td>FC(F)(Cl)C(F)(Cl)Cl</td>\n",
       "    </tr>\n",
       "  </tbody>\n",
       "</table>\n",
       "</div>"
      ],
      "text/plain": [
       "                      Compound ID  measured log(solubility:mol/L)  \\\n",
       "0       1,1,1,2-Tetrachloroethane                           -2.18   \n",
       "1           1,1,1-Trichloroethane                           -2.00   \n",
       "2       1,1,2,2-Tetrachloroethane                           -1.74   \n",
       "3           1,1,2-Trichloroethane                           -1.48   \n",
       "4  1,1,2-Trichlorotrifluoroethane                           -3.04   \n",
       "\n",
       "   ESOL predicted log(solubility:mol/L)               SMILES  \n",
       "0                                -2.794       ClCC(Cl)(Cl)Cl  \n",
       "1                                -2.232         CC(Cl)(Cl)Cl  \n",
       "2                                -2.549       ClC(Cl)C(Cl)Cl  \n",
       "3                                -1.961           ClCC(Cl)Cl  \n",
       "4                                -3.077  FC(F)(Cl)C(F)(Cl)Cl  "
      ]
     },
     "execution_count": 3,
     "metadata": {},
     "output_type": "execute_result"
    }
   ],
   "source": [
    "sol.head()"
   ]
  },
  {
   "cell_type": "code",
   "execution_count": 4,
   "metadata": {},
   "outputs": [],
   "source": [
    "# select the SMILES and the experimental LogS columns\n",
    "sol_select = pd.concat([sol.iloc[:,3], sol.iloc[:,1]], axis=1)"
   ]
  },
  {
   "cell_type": "code",
   "execution_count": 5,
   "metadata": {},
   "outputs": [],
   "source": [
    "# rename the column names\n",
    "sol_select.columns = [\"SMILES\",\"exp_logS\"] "
   ]
  },
  {
   "cell_type": "code",
   "execution_count": 6,
   "metadata": {},
   "outputs": [
    {
     "data": {
      "text/html": [
       "<div>\n",
       "<style scoped>\n",
       "    .dataframe tbody tr th:only-of-type {\n",
       "        vertical-align: middle;\n",
       "    }\n",
       "\n",
       "    .dataframe tbody tr th {\n",
       "        vertical-align: top;\n",
       "    }\n",
       "\n",
       "    .dataframe thead th {\n",
       "        text-align: right;\n",
       "    }\n",
       "</style>\n",
       "<table border=\"1\" class=\"dataframe\">\n",
       "  <thead>\n",
       "    <tr style=\"text-align: right;\">\n",
       "      <th></th>\n",
       "      <th>SMILES</th>\n",
       "      <th>exp_logS</th>\n",
       "    </tr>\n",
       "  </thead>\n",
       "  <tbody>\n",
       "    <tr>\n",
       "      <th>0</th>\n",
       "      <td>ClCC(Cl)(Cl)Cl</td>\n",
       "      <td>-2.18</td>\n",
       "    </tr>\n",
       "    <tr>\n",
       "      <th>1</th>\n",
       "      <td>CC(Cl)(Cl)Cl</td>\n",
       "      <td>-2.00</td>\n",
       "    </tr>\n",
       "    <tr>\n",
       "      <th>2</th>\n",
       "      <td>ClC(Cl)C(Cl)Cl</td>\n",
       "      <td>-1.74</td>\n",
       "    </tr>\n",
       "    <tr>\n",
       "      <th>3</th>\n",
       "      <td>ClCC(Cl)Cl</td>\n",
       "      <td>-1.48</td>\n",
       "    </tr>\n",
       "    <tr>\n",
       "      <th>4</th>\n",
       "      <td>FC(F)(Cl)C(F)(Cl)Cl</td>\n",
       "      <td>-3.04</td>\n",
       "    </tr>\n",
       "  </tbody>\n",
       "</table>\n",
       "</div>"
      ],
      "text/plain": [
       "                SMILES  exp_logS\n",
       "0       ClCC(Cl)(Cl)Cl     -2.18\n",
       "1         CC(Cl)(Cl)Cl     -2.00\n",
       "2       ClC(Cl)C(Cl)Cl     -1.74\n",
       "3           ClCC(Cl)Cl     -1.48\n",
       "4  FC(F)(Cl)C(F)(Cl)Cl     -3.04"
      ]
     },
     "execution_count": 6,
     "metadata": {},
     "output_type": "execute_result"
    }
   ],
   "source": [
    "sol_select.head()"
   ]
  },
  {
   "cell_type": "markdown",
   "metadata": {},
   "source": [
    "### Read the new dataset"
   ]
  },
  {
   "cell_type": "code",
   "execution_count": 7,
   "metadata": {},
   "outputs": [
    {
     "name": "stdout",
     "output_type": "stream",
     "text": [
      "-rw-r--r--@ 1 tarus  staff  6763 Nov 24 01:42 ../../../00_database/2_new_compounds/new_compounds.csv\r\n"
     ]
    }
   ],
   "source": [
    "# read the new dataset\n",
    "! ls -l ../../../00_database/2_new_compounds/new_compounds.csv\n",
    "new = pd.read_csv('../../../00_database/2_new_compounds/new_compounds.csv')"
   ]
  },
  {
   "cell_type": "code",
   "execution_count": 8,
   "metadata": {},
   "outputs": [
    {
     "data": {
      "text/html": [
       "<div>\n",
       "<style scoped>\n",
       "    .dataframe tbody tr th:only-of-type {\n",
       "        vertical-align: middle;\n",
       "    }\n",
       "\n",
       "    .dataframe tbody tr th {\n",
       "        vertical-align: top;\n",
       "    }\n",
       "\n",
       "    .dataframe thead th {\n",
       "        text-align: right;\n",
       "    }\n",
       "</style>\n",
       "<table border=\"1\" class=\"dataframe\">\n",
       "  <thead>\n",
       "    <tr style=\"text-align: right;\">\n",
       "      <th></th>\n",
       "      <th>Compound ID</th>\n",
       "      <th>InChIKey</th>\n",
       "      <th>SMILES</th>\n",
       "      <th>S(M)</th>\n",
       "      <th>logS</th>\n",
       "      <th>MW</th>\n",
       "    </tr>\n",
       "  </thead>\n",
       "  <tbody>\n",
       "    <tr>\n",
       "      <th>0</th>\n",
       "      <td>CN_S001_C001</td>\n",
       "      <td>KROVJOROTYCIHS-UHFFFAOYSA-N</td>\n",
       "      <td>CC(C)CCOC1=CC2=C(C=C1)C1=CC=NC(C)=C1N2</td>\n",
       "      <td>0.000074</td>\n",
       "      <td>-4.12767</td>\n",
       "      <td>268.360</td>\n",
       "    </tr>\n",
       "    <tr>\n",
       "      <th>1</th>\n",
       "      <td>CN_S001_C002</td>\n",
       "      <td>RBLBQKRAADKOJW-UHFFFAOYSA-N</td>\n",
       "      <td>CCCN1C2=C(C=CC(OCCC(C)C)=C2)C2=CC=NC(C)=C12</td>\n",
       "      <td>0.000006</td>\n",
       "      <td>-5.19098</td>\n",
       "      <td>310.441</td>\n",
       "    </tr>\n",
       "    <tr>\n",
       "      <th>2</th>\n",
       "      <td>CN_S001_C003</td>\n",
       "      <td>BMWDRSIHHSOBKI-UHFFFAOYSA-N</td>\n",
       "      <td>CCCN1C2=C(C=CC(OCCC(C)C)=C2)C2=CC=[N+](CC3=CC=...</td>\n",
       "      <td>0.002640</td>\n",
       "      <td>-2.57840</td>\n",
       "      <td>401.573</td>\n",
       "    </tr>\n",
       "    <tr>\n",
       "      <th>3</th>\n",
       "      <td>CN_S002_C001</td>\n",
       "      <td>HNQZZUWCYONRSR-UHFFFAOYSA-N</td>\n",
       "      <td>CN1CCN(CC1)C1=NC=C(C=N1)C1=CC2=NC=CC(NC3=NC=CN...</td>\n",
       "      <td>0.000044</td>\n",
       "      <td>-4.35655</td>\n",
       "      <td>398.474</td>\n",
       "    </tr>\n",
       "    <tr>\n",
       "      <th>4</th>\n",
       "      <td>CN_S002_C002</td>\n",
       "      <td>RQVYLFUGPHKWEQ-UHFFFAOYSA-N</td>\n",
       "      <td>NCCNC1=NC=C(C=N1)C1=CC2=NC=CC(NC3=NC=CN=C3)=C2...</td>\n",
       "      <td>0.000018</td>\n",
       "      <td>-4.74473</td>\n",
       "      <td>358.409</td>\n",
       "    </tr>\n",
       "  </tbody>\n",
       "</table>\n",
       "</div>"
      ],
      "text/plain": [
       "    Compound ID                     InChIKey  \\\n",
       "0  CN_S001_C001  KROVJOROTYCIHS-UHFFFAOYSA-N   \n",
       "1  CN_S001_C002  RBLBQKRAADKOJW-UHFFFAOYSA-N   \n",
       "2  CN_S001_C003  BMWDRSIHHSOBKI-UHFFFAOYSA-N   \n",
       "3  CN_S002_C001  HNQZZUWCYONRSR-UHFFFAOYSA-N   \n",
       "4  CN_S002_C002  RQVYLFUGPHKWEQ-UHFFFAOYSA-N   \n",
       "\n",
       "                                              SMILES      S(M)     logS  \\\n",
       "0             CC(C)CCOC1=CC2=C(C=C1)C1=CC=NC(C)=C1N2  0.000074 -4.12767   \n",
       "1        CCCN1C2=C(C=CC(OCCC(C)C)=C2)C2=CC=NC(C)=C12  0.000006 -5.19098   \n",
       "2  CCCN1C2=C(C=CC(OCCC(C)C)=C2)C2=CC=[N+](CC3=CC=...  0.002640 -2.57840   \n",
       "3  CN1CCN(CC1)C1=NC=C(C=N1)C1=CC2=NC=CC(NC3=NC=CN...  0.000044 -4.35655   \n",
       "4  NCCNC1=NC=C(C=N1)C1=CC2=NC=CC(NC3=NC=CN=C3)=C2...  0.000018 -4.74473   \n",
       "\n",
       "        MW  \n",
       "0  268.360  \n",
       "1  310.441  \n",
       "2  401.573  \n",
       "3  398.474  \n",
       "4  358.409  "
      ]
     },
     "execution_count": 8,
     "metadata": {},
     "output_type": "execute_result"
    }
   ],
   "source": [
    "new.head()"
   ]
  },
  {
   "cell_type": "code",
   "execution_count": 9,
   "metadata": {},
   "outputs": [],
   "source": [
    "# select the SMILES and the experimental logS columns\n",
    "new_select = pd.concat([new.iloc[:,2], new.iloc[:,4]], axis=1)"
   ]
  },
  {
   "cell_type": "code",
   "execution_count": 10,
   "metadata": {},
   "outputs": [
    {
     "data": {
      "text/html": [
       "<div>\n",
       "<style scoped>\n",
       "    .dataframe tbody tr th:only-of-type {\n",
       "        vertical-align: middle;\n",
       "    }\n",
       "\n",
       "    .dataframe tbody tr th {\n",
       "        vertical-align: top;\n",
       "    }\n",
       "\n",
       "    .dataframe thead th {\n",
       "        text-align: right;\n",
       "    }\n",
       "</style>\n",
       "<table border=\"1\" class=\"dataframe\">\n",
       "  <thead>\n",
       "    <tr style=\"text-align: right;\">\n",
       "      <th></th>\n",
       "      <th>SMILES</th>\n",
       "      <th>logS</th>\n",
       "    </tr>\n",
       "  </thead>\n",
       "  <tbody>\n",
       "    <tr>\n",
       "      <th>0</th>\n",
       "      <td>CC(C)CCOC1=CC2=C(C=C1)C1=CC=NC(C)=C1N2</td>\n",
       "      <td>-4.12767</td>\n",
       "    </tr>\n",
       "    <tr>\n",
       "      <th>1</th>\n",
       "      <td>CCCN1C2=C(C=CC(OCCC(C)C)=C2)C2=CC=NC(C)=C12</td>\n",
       "      <td>-5.19098</td>\n",
       "    </tr>\n",
       "    <tr>\n",
       "      <th>2</th>\n",
       "      <td>CCCN1C2=C(C=CC(OCCC(C)C)=C2)C2=CC=[N+](CC3=CC=...</td>\n",
       "      <td>-2.57840</td>\n",
       "    </tr>\n",
       "    <tr>\n",
       "      <th>3</th>\n",
       "      <td>CN1CCN(CC1)C1=NC=C(C=N1)C1=CC2=NC=CC(NC3=NC=CN...</td>\n",
       "      <td>-4.35655</td>\n",
       "    </tr>\n",
       "    <tr>\n",
       "      <th>4</th>\n",
       "      <td>NCCNC1=NC=C(C=N1)C1=CC2=NC=CC(NC3=NC=CN=C3)=C2...</td>\n",
       "      <td>-4.74473</td>\n",
       "    </tr>\n",
       "  </tbody>\n",
       "</table>\n",
       "</div>"
      ],
      "text/plain": [
       "                                              SMILES     logS\n",
       "0             CC(C)CCOC1=CC2=C(C=C1)C1=CC=NC(C)=C1N2 -4.12767\n",
       "1        CCCN1C2=C(C=CC(OCCC(C)C)=C2)C2=CC=NC(C)=C12 -5.19098\n",
       "2  CCCN1C2=C(C=CC(OCCC(C)C)=C2)C2=CC=[N+](CC3=CC=... -2.57840\n",
       "3  CN1CCN(CC1)C1=NC=C(C=N1)C1=CC2=NC=CC(NC3=NC=CN... -4.35655\n",
       "4  NCCNC1=NC=C(C=N1)C1=CC2=NC=CC(NC3=NC=CN=C3)=C2... -4.74473"
      ]
     },
     "execution_count": 10,
     "metadata": {},
     "output_type": "execute_result"
    }
   ],
   "source": [
    "new_select.head()"
   ]
  },
  {
   "cell_type": "code",
   "execution_count": 11,
   "metadata": {},
   "outputs": [],
   "source": [
    "# rename the column names\n",
    "new_select.columns = [\"SMILES\",\"exp_logS\"] "
   ]
  },
  {
   "cell_type": "code",
   "execution_count": 12,
   "metadata": {},
   "outputs": [
    {
     "data": {
      "text/html": [
       "<div>\n",
       "<style scoped>\n",
       "    .dataframe tbody tr th:only-of-type {\n",
       "        vertical-align: middle;\n",
       "    }\n",
       "\n",
       "    .dataframe tbody tr th {\n",
       "        vertical-align: top;\n",
       "    }\n",
       "\n",
       "    .dataframe thead th {\n",
       "        text-align: right;\n",
       "    }\n",
       "</style>\n",
       "<table border=\"1\" class=\"dataframe\">\n",
       "  <thead>\n",
       "    <tr style=\"text-align: right;\">\n",
       "      <th></th>\n",
       "      <th>SMILES</th>\n",
       "      <th>exp_logS</th>\n",
       "    </tr>\n",
       "  </thead>\n",
       "  <tbody>\n",
       "    <tr>\n",
       "      <th>0</th>\n",
       "      <td>CC(C)CCOC1=CC2=C(C=C1)C1=CC=NC(C)=C1N2</td>\n",
       "      <td>-4.12767</td>\n",
       "    </tr>\n",
       "    <tr>\n",
       "      <th>1</th>\n",
       "      <td>CCCN1C2=C(C=CC(OCCC(C)C)=C2)C2=CC=NC(C)=C12</td>\n",
       "      <td>-5.19098</td>\n",
       "    </tr>\n",
       "    <tr>\n",
       "      <th>2</th>\n",
       "      <td>CCCN1C2=C(C=CC(OCCC(C)C)=C2)C2=CC=[N+](CC3=CC=...</td>\n",
       "      <td>-2.57840</td>\n",
       "    </tr>\n",
       "    <tr>\n",
       "      <th>3</th>\n",
       "      <td>CN1CCN(CC1)C1=NC=C(C=N1)C1=CC2=NC=CC(NC3=NC=CN...</td>\n",
       "      <td>-4.35655</td>\n",
       "    </tr>\n",
       "    <tr>\n",
       "      <th>4</th>\n",
       "      <td>NCCNC1=NC=C(C=N1)C1=CC2=NC=CC(NC3=NC=CN=C3)=C2...</td>\n",
       "      <td>-4.74473</td>\n",
       "    </tr>\n",
       "  </tbody>\n",
       "</table>\n",
       "</div>"
      ],
      "text/plain": [
       "                                              SMILES  exp_logS\n",
       "0             CC(C)CCOC1=CC2=C(C=C1)C1=CC=NC(C)=C1N2  -4.12767\n",
       "1        CCCN1C2=C(C=CC(OCCC(C)C)=C2)C2=CC=NC(C)=C12  -5.19098\n",
       "2  CCCN1C2=C(C=CC(OCCC(C)C)=C2)C2=CC=[N+](CC3=CC=...  -2.57840\n",
       "3  CN1CCN(CC1)C1=NC=C(C=N1)C1=CC2=NC=CC(NC3=NC=CN...  -4.35655\n",
       "4  NCCNC1=NC=C(C=N1)C1=CC2=NC=CC(NC3=NC=CN=C3)=C2...  -4.74473"
      ]
     },
     "execution_count": 12,
     "metadata": {},
     "output_type": "execute_result"
    }
   ],
   "source": [
    "new_select.head()"
   ]
  },
  {
   "cell_type": "code",
   "execution_count": 13,
   "metadata": {},
   "outputs": [],
   "source": [
    "# concatenates the two datasets\n",
    "solubility_total = pd.concat([sol_select,new_select], axis=0)"
   ]
  },
  {
   "cell_type": "code",
   "execution_count": 14,
   "metadata": {},
   "outputs": [
    {
     "data": {
      "text/html": [
       "<div>\n",
       "<style scoped>\n",
       "    .dataframe tbody tr th:only-of-type {\n",
       "        vertical-align: middle;\n",
       "    }\n",
       "\n",
       "    .dataframe tbody tr th {\n",
       "        vertical-align: top;\n",
       "    }\n",
       "\n",
       "    .dataframe thead th {\n",
       "        text-align: right;\n",
       "    }\n",
       "</style>\n",
       "<table border=\"1\" class=\"dataframe\">\n",
       "  <thead>\n",
       "    <tr style=\"text-align: right;\">\n",
       "      <th></th>\n",
       "      <th>SMILES</th>\n",
       "      <th>exp_logS</th>\n",
       "    </tr>\n",
       "  </thead>\n",
       "  <tbody>\n",
       "    <tr>\n",
       "      <th>0</th>\n",
       "      <td>ClCC(Cl)(Cl)Cl</td>\n",
       "      <td>-2.18</td>\n",
       "    </tr>\n",
       "    <tr>\n",
       "      <th>1</th>\n",
       "      <td>CC(Cl)(Cl)Cl</td>\n",
       "      <td>-2.00</td>\n",
       "    </tr>\n",
       "    <tr>\n",
       "      <th>2</th>\n",
       "      <td>ClC(Cl)C(Cl)Cl</td>\n",
       "      <td>-1.74</td>\n",
       "    </tr>\n",
       "    <tr>\n",
       "      <th>3</th>\n",
       "      <td>ClCC(Cl)Cl</td>\n",
       "      <td>-1.48</td>\n",
       "    </tr>\n",
       "    <tr>\n",
       "      <th>4</th>\n",
       "      <td>FC(F)(Cl)C(F)(Cl)Cl</td>\n",
       "      <td>-3.04</td>\n",
       "    </tr>\n",
       "  </tbody>\n",
       "</table>\n",
       "</div>"
      ],
      "text/plain": [
       "                SMILES  exp_logS\n",
       "0       ClCC(Cl)(Cl)Cl     -2.18\n",
       "1         CC(Cl)(Cl)Cl     -2.00\n",
       "2       ClC(Cl)C(Cl)Cl     -1.74\n",
       "3           ClCC(Cl)Cl     -1.48\n",
       "4  FC(F)(Cl)C(F)(Cl)Cl     -3.04"
      ]
     },
     "execution_count": 14,
     "metadata": {},
     "output_type": "execute_result"
    }
   ],
   "source": [
    "solubility_total.head()"
   ]
  },
  {
   "cell_type": "code",
   "execution_count": 15,
   "metadata": {},
   "outputs": [
    {
     "data": {
      "text/plain": [
       "(1197, 2)"
      ]
     },
     "execution_count": 15,
     "metadata": {},
     "output_type": "execute_result"
    }
   ],
   "source": [
    "# check the number of entries in the final (total) dataset: should be 1144 + 53 = 1197\n",
    "solubility_total.shape"
   ]
  },
  {
   "cell_type": "code",
   "execution_count": 16,
   "metadata": {},
   "outputs": [],
   "source": [
    "# set the precision of the experimental logS to the Delaney's reference dataset\n",
    "solubility_total.exp_logS = solubility_total.exp_logS.round(2)"
   ]
  },
  {
   "cell_type": "code",
   "execution_count": 17,
   "metadata": {},
   "outputs": [],
   "source": [
    "# save the total dataset on disk\n",
    "solubility_total.to_csv(r'solubility_total.csv', index = False)"
   ]
  }
 ],
 "metadata": {
  "kernelspec": {
   "display_name": "Python 3",
   "language": "python",
   "name": "python3"
  },
  "language_info": {
   "codemirror_mode": {
    "name": "ipython",
    "version": 3
   },
   "file_extension": ".py",
   "mimetype": "text/x-python",
   "name": "python",
   "nbconvert_exporter": "python",
   "pygments_lexer": "ipython3",
   "version": "3.7.9"
  }
 },
 "nbformat": 4,
 "nbformat_minor": 4
}
