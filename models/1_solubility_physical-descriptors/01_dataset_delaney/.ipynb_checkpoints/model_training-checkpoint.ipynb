{
 "cells": [
  {
   "cell_type": "markdown",
   "metadata": {},
   "source": [
    "## Aqueous solubility prediction based on physical descriptors"
   ]
  },
  {
   "cell_type": "markdown",
   "metadata": {},
   "source": [
    "Delaney's work to calculate the aqueous solubility, $S (mol/l)$, uses four descriptors: $logP$, $MW$, $RB$, and $AP$. The $logP$ is the decimal logarithm of the octanol/water partition coefficient. It is a measure of the relative affinity of the compound for hydrophobic/aqueous solvents. It depends on the polarity of the compound. The $MW$ is the molecular weight of the compound. $RB$ is the number of the rotatable bonds of the compound. It is a measure of the compound entropic propensity to follow the solvent water molecules. The $AP$ is the aromatic proportion, the ratio between the number of compound's aromatic atoms and the number of heavy atoms.\n",
    "\n",
    "\\begin{equation*}\n",
    "LogS = C_0 + C_1 LogP + C_2 MW + C_3 RB + C_4 AP\n",
    "\\end{equation*}\n",
    "\n",
    "where the $LogS$ is the decimal logarithm of the compound's aqueous solubility. "
   ]
  },
  {
   "cell_type": "markdown",
   "metadata": {},
   "source": [
    "This notebook is based on [Chanin Nantasenamat's](https://towardsdatascience.com/how-to-use-machine-learning-for-drug-discovery-1ccb5fdf81ad) work."
   ]
  },
  {
   "cell_type": "code",
   "execution_count": 1,
   "metadata": {},
   "outputs": [
    {
     "name": "stdout",
     "output_type": "stream",
     "text": [
      "--2020-11-26 19:28:09--  https://raw.githubusercontent.com/dataprofessor/data/master/delaney.csv\n",
      "Resolving raw.githubusercontent.com (raw.githubusercontent.com)... 151.101.0.133, 151.101.64.133, 151.101.128.133, ...\n",
      "Connecting to raw.githubusercontent.com (raw.githubusercontent.com)|151.101.0.133|:443... connected.\n",
      "HTTP request sent, awaiting response... 200 OK\n",
      "Length: 58889 (58K) [text/plain]\n",
      "Saving to: ‘delaney.csv’\n",
      "\n",
      "delaney.csv         100%[===================>]  57.51K  --.-KB/s    in 0.01s   \n",
      "\n",
      "2020-11-26 19:28:10 (3.94 MB/s) - ‘delaney.csv’ saved [58889/58889]\n",
      "\n"
     ]
    }
   ],
   "source": [
    "# Download the Delaney's dataset\n",
    "! wget https://raw.githubusercontent.com/dataprofessor/data/master/delaney.csv"
   ]
  },
  {
   "cell_type": "code",
   "execution_count": 2,
   "metadata": {},
   "outputs": [],
   "source": [
    "# import the necessqary libraries\n",
    "import matplotlib.pyplot as plt\n",
    "\n",
    "import numpy as np\n",
    "import pandas as pd\n",
    "\n",
    "from rdkit import Chem\n",
    "from rdkit.Chem import Descriptors\n",
    "\n",
    "from sklearn.model_selection import train_test_split\n",
    "from sklearn import linear_model\n",
    "from sklearn.metrics import mean_squared_error, r2_score\n",
    "\n",
    "import pickle"
   ]
  },
  {
   "cell_type": "code",
   "execution_count": 3,
   "metadata": {},
   "outputs": [],
   "source": [
    "# read the dataset\n",
    "sol = pd.read_csv('delaney.csv')"
   ]
  },
  {
   "cell_type": "code",
   "execution_count": 4,
   "metadata": {},
   "outputs": [],
   "source": [
    "# define the rdkit molecular objects\n",
    "mol_list= []\n",
    "for element in sol.SMILES:\n",
    "  mol = Chem.MolFromSmiles(element)\n",
    "  mol_list.append(mol)"
   ]
  },
  {
   "cell_type": "code",
   "execution_count": 5,
   "metadata": {},
   "outputs": [],
   "source": [
    "# Create a function to calculate LogP, MW and RB descriptors\n",
    "def generate(smiles, verbose=False):\n",
    "    \"\"\"\n",
    "    This function calculates the first three molecular descriptors, octanol/water partition coefficient,\n",
    "    molecular weight, and the number of rotatable bonds using the rdkit library and the SMILES structure as inputs\n",
    "    \n",
    "    The input argument, smiles, is the SMILES string chemical representation of a molecule\n",
    "    \"\"\"\n",
    "\n",
    "    # convert the SMILES string to rdkit object\n",
    "    moldata= []\n",
    "    for elem in smiles:\n",
    "        mol=Chem.MolFromSmiles(elem) \n",
    "        moldata.append(mol)\n",
    "       \n",
    "    # calculate the first three molecular descriptors: octanol/water partition coefficient (LogP),\n",
    "    # molecular weight (Mw), and the number of rotatable bonds (NRb)\n",
    "    baseData= np.arange(1,1)\n",
    "    i=0  \n",
    "    for mol in moldata:        \n",
    "        \n",
    "        desc_MolLogP = Descriptors.MolLogP(mol)\n",
    "        desc_MolWt = Descriptors.MolWt(mol)\n",
    "        desc_NumRotatableBonds = Descriptors.NumRotatableBonds(mol)\n",
    "           \n",
    "        # put the three descriptors on a row of an numpy array\n",
    "        row = np.array([desc_MolLogP,\n",
    "                        desc_MolWt,\n",
    "                        desc_NumRotatableBonds])   \n",
    "    \n",
    "        if(i==0):\n",
    "            baseData=row\n",
    "        else:\n",
    "            baseData=np.vstack([baseData, row])\n",
    "        i=i+1      \n",
    "    \n",
    "    # rename the header names\n",
    "    columnNames=[\"MolLogP\",\"MolWt\",\"NumRotatableBonds\"]   \n",
    "    descriptors = pd.DataFrame(data=baseData,columns=columnNames)\n",
    "    \n",
    "    return descriptors"
   ]
  },
  {
   "cell_type": "code",
   "execution_count": 6,
   "metadata": {},
   "outputs": [],
   "source": [
    "# Calculate LogP, MW and RB descriptors\n",
    "df = generate(sol.SMILES)"
   ]
  },
  {
   "cell_type": "code",
   "execution_count": 7,
   "metadata": {},
   "outputs": [],
   "source": [
    "def AromaticAtoms(m):\n",
    "    \"\"\"\n",
    "    This function calculates the number of aromatic atoms in a molecule\n",
    "    The input argument, m, is a rdkit molecular object\n",
    "    \"\"\"\n",
    "    \n",
    "    aromatic_atoms = [m.GetAtomWithIdx(i).GetIsAromatic() for i in range(m.GetNumAtoms())]\n",
    "    aa_count = []\n",
    "    for i in aromatic_atoms:\n",
    "        if i==True:\n",
    "            aa_count.append(1)\n",
    "        \n",
    "    sum_aa_count = sum(aa_count)\n",
    "    \n",
    "    return sum_aa_count"
   ]
  },
  {
   "cell_type": "code",
   "execution_count": 8,
   "metadata": {},
   "outputs": [],
   "source": [
    "# Compute the aromatic proportion (AP) descriptor\n",
    "desc_AromaticProportion = [AromaticAtoms(element)/Descriptors.HeavyAtomCount(element) for element in mol_list]\n",
    "\n",
    "df_desc_AromaticProportion = pd.DataFrame(data=desc_AromaticProportion, columns=[\"AromaticProportion\"]) "
   ]
  },
  {
   "cell_type": "code",
   "execution_count": 9,
   "metadata": {},
   "outputs": [],
   "source": [
    "#Create the X matrix by combining the 2 dataframes associated to the four descriptors\n",
    "X = pd.concat([df,df_desc_AromaticProportion], axis=1)\n",
    "#X"
   ]
  },
  {
   "cell_type": "code",
   "execution_count": 10,
   "metadata": {},
   "outputs": [
    {
     "name": "stdout",
     "output_type": "stream",
     "text": [
      "(1144,)\n"
     ]
    }
   ],
   "source": [
    "# Create the Y matrix\n",
    "Y = sol.iloc[:,1]\n",
    "print(Y.shape)"
   ]
  },
  {
   "cell_type": "code",
   "execution_count": 11,
   "metadata": {},
   "outputs": [
    {
     "data": {
      "text/html": [
       "<div>\n",
       "<style scoped>\n",
       "    .dataframe tbody tr th:only-of-type {\n",
       "        vertical-align: middle;\n",
       "    }\n",
       "\n",
       "    .dataframe tbody tr th {\n",
       "        vertical-align: top;\n",
       "    }\n",
       "\n",
       "    .dataframe thead th {\n",
       "        text-align: right;\n",
       "    }\n",
       "</style>\n",
       "<table border=\"1\" class=\"dataframe\">\n",
       "  <thead>\n",
       "    <tr style=\"text-align: right;\">\n",
       "      <th></th>\n",
       "      <th>MolLogP</th>\n",
       "      <th>MolWt</th>\n",
       "      <th>NumRotatableBonds</th>\n",
       "      <th>AromaticProportion</th>\n",
       "      <th>MeasuredLogSol</th>\n",
       "    </tr>\n",
       "  </thead>\n",
       "  <tbody>\n",
       "    <tr>\n",
       "      <th>0</th>\n",
       "      <td>2.5954</td>\n",
       "      <td>167.850</td>\n",
       "      <td>0.0</td>\n",
       "      <td>0.0</td>\n",
       "      <td>-2.18</td>\n",
       "    </tr>\n",
       "    <tr>\n",
       "      <th>1</th>\n",
       "      <td>2.3765</td>\n",
       "      <td>133.405</td>\n",
       "      <td>0.0</td>\n",
       "      <td>0.0</td>\n",
       "      <td>-2.00</td>\n",
       "    </tr>\n",
       "    <tr>\n",
       "      <th>2</th>\n",
       "      <td>2.5938</td>\n",
       "      <td>167.850</td>\n",
       "      <td>1.0</td>\n",
       "      <td>0.0</td>\n",
       "      <td>-1.74</td>\n",
       "    </tr>\n",
       "    <tr>\n",
       "      <th>3</th>\n",
       "      <td>2.0289</td>\n",
       "      <td>133.405</td>\n",
       "      <td>1.0</td>\n",
       "      <td>0.0</td>\n",
       "      <td>-1.48</td>\n",
       "    </tr>\n",
       "    <tr>\n",
       "      <th>4</th>\n",
       "      <td>2.9189</td>\n",
       "      <td>187.375</td>\n",
       "      <td>1.0</td>\n",
       "      <td>0.0</td>\n",
       "      <td>-3.04</td>\n",
       "    </tr>\n",
       "  </tbody>\n",
       "</table>\n",
       "</div>"
      ],
      "text/plain": [
       "   MolLogP    MolWt  NumRotatableBonds  AromaticProportion  MeasuredLogSol\n",
       "0   2.5954  167.850                0.0                 0.0           -2.18\n",
       "1   2.3765  133.405                0.0                 0.0           -2.00\n",
       "2   2.5938  167.850                1.0                 0.0           -1.74\n",
       "3   2.0289  133.405                1.0                 0.0           -1.48\n",
       "4   2.9189  187.375                1.0                 0.0           -3.04"
      ]
     },
     "execution_count": 11,
     "metadata": {},
     "output_type": "execute_result"
    }
   ],
   "source": [
    "# Create the XY matrix (for comparison, mainly)\n",
    "XY = pd.concat([X,Y], axis=1)\n",
    "XY.columns = ['MolLogP', 'MolWt', 'NumRotatableBonds', 'AromaticProportion', 'MeasuredLogSol']\n",
    "XY.head()"
   ]
  },
  {
   "cell_type": "code",
   "execution_count": 12,
   "metadata": {},
   "outputs": [],
   "source": [
    "# Split the dataset into training and validation\n",
    "X_train, X_val, Y_train, Y_val = train_test_split(X, Y, test_size=0.2)"
   ]
  },
  {
   "cell_type": "code",
   "execution_count": 13,
   "metadata": {},
   "outputs": [
    {
     "name": "stdout",
     "output_type": "stream",
     "text": [
      "Coefficients: [-0.74232263 -0.00651158  0.00580964 -0.36984875]\n",
      "Intercept: 0.22772834271698095\n",
      "Mean squared error (MSE): 1.05\n",
      "Coefficient of determination (R^2): 0.76\n"
     ]
    }
   ],
   "source": [
    "# Train a linear regression model with the train dataset\n",
    "model = linear_model.LinearRegression()\n",
    "model.fit(X_train, Y_train)\n",
    "\n",
    "Y_pred_train = model.predict(X_train)\n",
    "\n",
    "print('Coefficients:', model.coef_)\n",
    "print('Intercept:', model.intercept_)\n",
    "print('Mean squared error (MSE): %.2f'% mean_squared_error(Y_train, Y_pred_train))\n",
    "print('Coefficient of determination (R^2): %.2f' % r2_score(Y_train, Y_pred_train))\n"
   ]
  },
  {
   "cell_type": "code",
   "execution_count": 14,
   "metadata": {},
   "outputs": [
    {
     "name": "stdout",
     "output_type": "stream",
     "text": [
      "Coefficients: [-0.74232263 -0.00651158  0.00580964 -0.36984875]\n",
      "Intercept: 0.22772834271698095\n",
      "Mean squared error (MSE): 0.86\n",
      "Coefficient of determination (R^2): 0.82\n"
     ]
    }
   ],
   "source": [
    "# Predict the LogS value of X_val data\n",
    "Y_pred_val = model.predict(X_val)\n",
    "print('Coefficients:', model.coef_)\n",
    "print('Intercept:', model.intercept_)\n",
    "print('Mean squared error (MSE): %.2f'% mean_squared_error(Y_val, Y_pred_val))\n",
    "print('Coefficient of determination (R^2): %.2f'% r2_score(Y_val, Y_pred_val))"
   ]
  },
  {
   "cell_type": "markdown",
   "metadata": {},
   "source": [
    "### Deriving the Linear Regression Equation based on the full dataset"
   ]
  },
  {
   "cell_type": "code",
   "execution_count": 15,
   "metadata": {},
   "outputs": [
    {
     "data": {
      "text/plain": [
       "LinearRegression()"
      ]
     },
     "execution_count": 15,
     "metadata": {},
     "output_type": "execute_result"
    }
   ],
   "source": [
    "model = linear_model.LinearRegression()\n",
    "model.fit(X, Y)"
   ]
  },
  {
   "cell_type": "code",
   "execution_count": 16,
   "metadata": {},
   "outputs": [
    {
     "name": "stdout",
     "output_type": "stream",
     "text": [
      "Coefficients: [-0.74173609 -0.00659927  0.00320051 -0.42316387]\n",
      "Intercept: 0.2565006830997185\n",
      "Mean squared error (MSE): 1.01\n",
      "Coefficient of determination (R^2): 0.77\n"
     ]
    }
   ],
   "source": [
    "Y_pred = model.predict(X)\n",
    "\n",
    "print('Coefficients:', model.coef_)\n",
    "print('Intercept:', model.intercept_)\n",
    "print('Mean squared error (MSE): %.2f'% mean_squared_error(Y, Y_pred))\n",
    "print('Coefficient of determination (R^2): %.2f'% r2_score(Y, Y_pred))"
   ]
  },
  {
   "cell_type": "code",
   "execution_count": 17,
   "metadata": {},
   "outputs": [
    {
     "name": "stdout",
     "output_type": "stream",
     "text": [
      "LogS =  0.26 -0.74 LogP -0.0066 MW + 0.0032 RB -0.42 AP\n"
     ]
    }
   ],
   "source": [
    "# calculate the intercept, C0\n",
    "model_yintercept = '%.2f' % model.intercept_\n",
    "\n",
    "# calculate the coefficient of the log oil/water partition coefficient descriptor\n",
    "model_LogP = '%.2f LogP' % model.coef_[0]\n",
    "\n",
    "# calculate the coefficient of the molecular weight descriptor \n",
    "model_MW = '%.4f MW' % model.coef_[1]\n",
    "\n",
    "# calculate the coefficient of the number of rotatable bonds descriptor\n",
    "model_RB = '+ %.4f RB' % model.coef_[2]\n",
    "\n",
    "# calculate the coefficient of the aromatic proportion descriptor\n",
    "model_AP = '%.2f AP' % model.coef_[3]\n",
    "\n",
    "# print the equation\n",
    "print('LogS = ' + \n",
    "      ' ' + \n",
    "      model_yintercept + \n",
    "      ' ' + \n",
    "      model_LogP + \n",
    "      ' ' + \n",
    "      model_MW + \n",
    "      ' ' + \n",
    "      model_RB + \n",
    "      ' ' + \n",
    "      model_AP)"
   ]
  },
  {
   "cell_type": "markdown",
   "metadata": {},
   "source": [
    "###  Plot of  predicted vs. experimental LogS"
   ]
  },
  {
   "cell_type": "code",
   "execution_count": 18,
   "metadata": {},
   "outputs": [
    {
     "data": {
      "image/png": "[encoded data removed]",
      "text/plain": [
       "<Figure size 504x504 with 1 Axes>"
      ]
     },
     "metadata": {
      "needs_background": "light"
     },
     "output_type": "display_data"
    }
   ],
   "source": [
    "plt.figure(figsize=(7,7))\n",
    "\n",
    "plt.scatter(x=Y, y=Y_pred, c=\"#7CAE00\", alpha=0.3)\n",
    "\n",
    "plt.xlabel('Experimental LogS')\n",
    "plt.ylabel('Predicted LogS')\n",
    "plt.show()"
   ]
  },
  {
   "cell_type": "markdown",
   "metadata": {},
   "source": [
    "### Save the model"
   ]
  },
  {
   "cell_type": "code",
   "execution_count": 19,
   "metadata": {},
   "outputs": [],
   "source": [
    "# save the model\n",
    "pickle.dump(model, open('model_desc_delaney.pkl', 'wb'))"
   ]
  },
  {
   "cell_type": "code",
   "execution_count": null,
   "metadata": {},
   "outputs": [],
   "source": []
  }
 ],
 "metadata": {
  "kernelspec": {
   "display_name": "Python 3",
   "language": "python",
   "name": "python3"
  },
  "language_info": {
   "codemirror_mode": {
    "name": "ipython",
    "version": 3
   },
   "file_extension": ".py",
   "mimetype": "text/x-python",
   "name": "python",
   "nbconvert_exporter": "python",
   "pygments_lexer": "ipython3",
   "version": "3.7.9"
  }
 },
 "nbformat": 4,
 "nbformat_minor": 4
}
