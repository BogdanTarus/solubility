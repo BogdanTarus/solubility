{
 "cells": [
  {
   "cell_type": "markdown",
   "metadata": {},
   "source": [
    "## Prediction of the aqueous solubility of a chemical compound using a trained linear regression model based on the Delaney's dataset"
   ]
  },
  {
   "cell_type": "code",
   "execution_count": 1,
   "metadata": {},
   "outputs": [],
   "source": [
    "# import the necessqary libraries\n",
    "import matplotlib.pyplot as plt\n",
    "\n",
    "import numpy as np\n",
    "import pandas as pd\n",
    "\n",
    "from rdkit import Chem\n",
    "from rdkit.Chem import Descriptors\n",
    "\n",
    "from sklearn.model_selection import train_test_split\n",
    "from sklearn import linear_model\n",
    "from sklearn.metrics import mean_squared_error, r2_score\n",
    "\n",
    "import pickle"
   ]
  },
  {
   "cell_type": "code",
   "execution_count": 2,
   "metadata": {},
   "outputs": [],
   "source": [
    "# load the model from disk\n",
    "loaded_model = pickle.load(open('model_desc_delaney.pkl', 'rb'))"
   ]
  },
  {
   "cell_type": "code",
   "execution_count": 3,
   "metadata": {},
   "outputs": [],
   "source": [
    "def AromaticAtoms(m):\n",
    "    \"\"\"\n",
    "    This function calculates the number of aromatic atoms in a molecule.\n",
    "    The input argument, m, is a rdkit molecular object\n",
    "    \"\"\"\n",
    "    \n",
    "    aromatic_atoms = [m.GetAtomWithIdx(i).GetIsAromatic() for i in range(m.GetNumAtoms())]\n",
    "    aa_count = []\n",
    "    for i in aromatic_atoms:\n",
    "        if i==True:\n",
    "            aa_count.append(1)\n",
    "        \n",
    "    sum_aa_count = sum(aa_count)\n",
    "    \n",
    "    return sum_aa_count"
   ]
  },
  {
   "cell_type": "code",
   "execution_count": 4,
   "metadata": {},
   "outputs": [],
   "source": [
    "def predictSingle(smiles, model):\n",
    "    \"\"\"\n",
    "    This function predicts the four molecular descriptors: the octanol/water partition coefficient (LogP),\n",
    "    the molecular weight (Mw), the number of rotatable bonds (NRb), and the aromatic proportion (AP) \n",
    "    for a single molecule\n",
    "    \n",
    "    The input arguments are SMILES molecular structure and the trained model, respectively.\n",
    "    \"\"\"\n",
    "    \n",
    "    # define the rdkit moleculat object\n",
    "    mol = Chem.MolFromSmiles(smiles)\n",
    "    \n",
    "    # calculate the log octanol/water partition descriptor\n",
    "    single_MolLogP = Descriptors.MolLogP(mol)\n",
    "    \n",
    "    # calculate the molecular weight descriptor\n",
    "    single_MolWt   = Descriptors.MolWt(mol)\n",
    "    \n",
    "    # calculate of the number of rotatable bonds descriptor\n",
    "    single_NumRotatableBonds = Descriptors.NumRotatableBonds(mol)\n",
    "    \n",
    "    # calculate the aromatic proportion descriptor\n",
    "    single_AP = AromaticAtoms(mol)/Descriptors.HeavyAtomCount(mol)\n",
    "    \n",
    "    # put the descriptors in a list\n",
    "    single_list = [single_MolLogP, single_MolWt, single_NumRotatableBonds, single_AP]\n",
    "    \n",
    "    # add the list to a pandas dataframe\n",
    "    single_df = pd.DataFrame(single_list).T\n",
    "    \n",
    "    # rename the header columns of the dataframe\n",
    "    single_df.columns = ['MolLogP', 'MolWt', 'NumRotatableBonds', 'AromaticProportion']\n",
    "    #return single_df\n",
    "    \n",
    "    return model.predict(single_df)[0]"
   ]
  },
  {
   "cell_type": "code",
   "execution_count": 5,
   "metadata": {},
   "outputs": [
    {
     "data": {
      "text/plain": [
       "-3.1418902020475983"
      ]
     },
     "execution_count": 5,
     "metadata": {},
     "output_type": "execute_result"
    }
   ],
   "source": [
    "# read SMILES structure of a compound with unknown aquous solubility\n",
    "smiles_new = 'FC(F)(Cl)C(F)(Cl)Cl'\n",
    "\n",
    "# use the function predictSingle to print the predicted \n",
    "predictSingle(smiles_new, loaded_model)"
   ]
  }
 ],
 "metadata": {
  "kernelspec": {
   "display_name": "Python 3",
   "language": "python",
   "name": "python3"
  },
  "language_info": {
   "codemirror_mode": {
    "name": "ipython",
    "version": 3
   },
   "file_extension": ".py",
   "mimetype": "text/x-python",
   "name": "python",
   "nbconvert_exporter": "python",
   "pygments_lexer": "ipython3",
   "version": "3.7.9"
  }
 },
 "nbformat": 4,
 "nbformat_minor": 4
}
